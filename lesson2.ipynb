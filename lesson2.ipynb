{
 "cells": [
  {
   "cell_type": "code",
   "execution_count": null,
   "metadata": {},
   "outputs": [],
   "source": [
    "#Математические операторы в Python\n",
    "var_1 = 15\n",
    "var_2 = 7\n",
    "ans = var_1 - var_2 # вычитание\n",
    "print(var_1 - var_2)\n",
    "ans = var_1 + var_2 # сложение\n",
    "print(ans)\n",
    "ans = var_1 * var_2 # умножение\n",
    "print(ans)\n",
    "ans = var_1 / var_2 # деление\n",
    "print(ans)\n",
    "ans = var_1 ** var_2 # возведение в степень\n",
    "print(ans)\n",
    "ans = var_1 % var_2 # остаток от деления\n",
    "print(ans)\n",
    "ans = var_1 // var_2 # целая часть\n",
    "print(ans)\n",
    "\n",
    "# у каких операций выше приоритет?"
   ]
  },
  {
   "cell_type": "code",
   "execution_count": 4,
   "metadata": {},
   "outputs": [
    {
     "name": "stdout",
     "output_type": "stream",
     "text": [
      "0.8999999999999999\n"
     ]
    }
   ],
   "source": [
    "# Типы данных\n",
    "# примеры целых чисел\n",
    "a = -3000\n",
    "b = 0\n",
    "c = 9000\n",
    "# примеры вещественных чисел\n",
    "zero = 0.0\n",
    "pi = 3.141592653589\n",
    "e = 2.71\n",
    "print(3*0.3)"
   ]
  },
  {
   "cell_type": "code",
   "execution_count": 5,
   "metadata": {},
   "outputs": [
    {
     "name": "stdout",
     "output_type": "stream",
     "text": [
      "True\n"
     ]
    }
   ],
   "source": [
    "# Задачка?\n",
    "print(0.3 * 3 == 0.8999999999999999)"
   ]
  },
  {
   "cell_type": "code",
   "execution_count": null,
   "metadata": {},
   "outputs": [],
   "source": [
    "\n",
    "# пример комплексного числа\n",
    "z = complex(1, 2)\n",
    "print(z)\n",
    "# вещественная часть\n",
    "print(z.real)\n",
    "# мнимая часть\n",
    "print(z.imag) \n",
    "# сопряженное комплексное число\n",
    "print(z.conjugate())"
   ]
  },
  {
   "cell_type": "code",
   "execution_count": null,
   "metadata": {},
   "outputs": [],
   "source": [
    "# пример bool\n",
    "pravda = True\n",
    "lozh = False\n",
    "#Переменные логического типа нужны для реализации ветвлений, они применяются для установки флажков, фиксирующих состояния программы,\n",
    "# а также используются в качестве возвращаемых значений для функций, названия которых, зачастую, начинаются на \"is\" (isPrime, isEqual, isDigit).\n",
    "#  То есть тех, которые, на человеческом языке, отвечали бы на вопрос одним словом \"Да\" или \"Нет\"."
   ]
  },
  {
   "cell_type": "code",
   "execution_count": null,
   "metadata": {},
   "outputs": [],
   "source": [
    "firanimal = 'Заяц'\n",
    "secanimal = 'Черепаха'\n",
    "print()\n"
   ]
  },
  {
   "cell_type": "code",
   "execution_count": 6,
   "metadata": {},
   "outputs": [
    {
     "name": "stdout",
     "output_type": "stream",
     "text": [
      "<class 'int'>\n",
      "<class 'float'>\n",
      "<class 'str'>\n",
      "12.0\n",
      "<class 'complex'>\n",
      "(12+0j)\n"
     ]
    }
   ],
   "source": [
    "a = int(input())\n",
    "print(type(a))\n",
    "a = float(a)\n",
    "print(type(a))\n",
    "a = str(a)\n",
    "print(type(a))\n",
    "print(a)\n",
    "a = complex(a)\n",
    "print(type(a))\n",
    "print(a)"
   ]
  },
  {
   "cell_type": "code",
   "execution_count": 7,
   "metadata": {},
   "outputs": [
    {
     "data": {
      "text/plain": [
       "False"
      ]
     },
     "execution_count": 7,
     "metadata": {},
     "output_type": "execute_result"
    }
   ],
   "source": [
    "isinstance(a,int)"
   ]
  },
  {
   "cell_type": "code",
   "execution_count": null,
   "metadata": {},
   "outputs": [],
   "source": [
    "a=5\n",
    "print(id(a))\n",
    "a=4\n",
    "print(id(a))\n",
    "a=4.\n",
    "print(id(a))"
   ]
  },
  {
   "cell_type": "code",
   "execution_count": null,
   "metadata": {},
   "outputs": [],
   "source": [
    "l=list(\"hello\")\n",
    "print(l)"
   ]
  }
 ],
 "metadata": {
  "kernelspec": {
   "display_name": "Python 3",
   "language": "python",
   "name": "python3"
  },
  "language_info": {
   "codemirror_mode": {
    "name": "ipython",
    "version": 3
   },
   "file_extension": ".py",
   "mimetype": "text/x-python",
   "name": "python",
   "nbconvert_exporter": "python",
   "pygments_lexer": "ipython3",
   "version": "3.10.8"
  },
  "orig_nbformat": 4,
  "vscode": {
   "interpreter": {
    "hash": "379f48a0a2264dcd18e018f59e5f6957f70a86f867a1be205da3494d0ccba0ca"
   }
  }
 },
 "nbformat": 4,
 "nbformat_minor": 2
}
