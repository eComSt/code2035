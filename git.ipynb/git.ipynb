{
 "cells": [
  {
   "cell_type": "code",
   "execution_count": null,
   "metadata": {},
   "outputs": [],
   "source": [
    "https://git-scm.com/\n",
    "git config --global user.email \"email\"\n",
    "git config --global user.name \"name\"\n",
    "git config --list\n",
    "\n",
    "git add \"filename\"\n",
    "git add .\n",
    "git commit -m \"message\"\n",
    "\n",
    "git remote add origin https://github.com/eComSt/new_repos.git\n",
    "git branch -M main\n",
    "git push -u origin main"
   ]
  }
 ],
 "metadata": {
  "language_info": {
   "name": "python"
  },
  "orig_nbformat": 4
 },
 "nbformat": 4,
 "nbformat_minor": 2
}
