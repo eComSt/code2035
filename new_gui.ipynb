{
 "cells": [
  {
   "cell_type": "code",
   "execution_count": 4,
   "metadata": {},
   "outputs": [
    {
     "ename": "TclError",
     "evalue": "can't invoke \"wm\" command:  application has been destroyed",
     "output_type": "error",
     "traceback": [
      "\u001b[0;31m---------------------------------------------------------------------------\u001b[0m",
      "\u001b[0;31mTclError\u001b[0m                                  Traceback (most recent call last)",
      "\u001b[1;32m/Users/pattycha/code2035-2/new_gui.ipynb Cell 1\u001b[0m in \u001b[0;36m<cell line: 27>\u001b[0;34m()\u001b[0m\n\u001b[1;32m     <a href='vscode-notebook-cell:/Users/pattycha/code2035-2/new_gui.ipynb#W0sZmlsZQ%3D%3D?line=25'>26</a>\u001b[0m \u001b[39mwhile\u001b[39;00m \u001b[39mTrue\u001b[39;00m:\n\u001b[1;32m     <a href='vscode-notebook-cell:/Users/pattycha/code2035-2/new_gui.ipynb#W0sZmlsZQ%3D%3D?line=26'>27</a>\u001b[0m     root\u001b[39m.\u001b[39mupdate()\n\u001b[0;32m---> <a href='vscode-notebook-cell:/Users/pattycha/code2035-2/new_gui.ipynb#W0sZmlsZQ%3D%3D?line=27'>28</a>\u001b[0m     root\u001b[39m.\u001b[39;49mattributes(\u001b[39m'\u001b[39;49m\u001b[39m-topmost\u001b[39;49m\u001b[39m'\u001b[39;49m, \u001b[39mTrue\u001b[39;49;00m)\n",
      "File \u001b[0;32m/Applications/Xcode.app/Contents/Developer/Library/Frameworks/Python3.framework/Versions/3.8/lib/python3.8/tkinter/__init__.py:1976\u001b[0m, in \u001b[0;36mWm.wm_attributes\u001b[0;34m(self, *args)\u001b[0m\n\u001b[1;32m   1958\u001b[0m \u001b[39m\"\"\"This subcommand returns or sets platform specific attributes\u001b[39;00m\n\u001b[1;32m   1959\u001b[0m \n\u001b[1;32m   1960\u001b[0m \u001b[39mThe first form returns a list of the platform specific flags and\u001b[39;00m\n\u001b[0;32m   (...)\u001b[0m\n\u001b[1;32m   1973\u001b[0m \u001b[39mOn Unix, there are currently no special attribute values.\u001b[39;00m\n\u001b[1;32m   1974\u001b[0m \u001b[39m\"\"\"\u001b[39;00m\n\u001b[1;32m   1975\u001b[0m args \u001b[39m=\u001b[39m (\u001b[39m'\u001b[39m\u001b[39mwm\u001b[39m\u001b[39m'\u001b[39m, \u001b[39m'\u001b[39m\u001b[39mattributes\u001b[39m\u001b[39m'\u001b[39m, \u001b[39mself\u001b[39m\u001b[39m.\u001b[39m_w) \u001b[39m+\u001b[39m args\n\u001b[0;32m-> 1976\u001b[0m \u001b[39mreturn\u001b[39;00m \u001b[39mself\u001b[39;49m\u001b[39m.\u001b[39;49mtk\u001b[39m.\u001b[39;49mcall(args)\n",
      "\u001b[0;31mTclError\u001b[0m: can't invoke \"wm\" command:  application has been destroyed"
     ]
    },
    {
     "ename": "",
     "evalue": "",
     "output_type": "error",
     "traceback": [
      "\u001b[1;31mThe Kernel crashed while executing code in the the current cell or a previous cell. Please review the code in the cell(s) to identify a possible cause of the failure. Click <a href='https://aka.ms/vscodeJupyterKernelCrash'>here</a> for more info. View Jupyter <a href='command:jupyter.viewOutput'>log</a> for further details."
     ]
    }
   ],
   "source": [
    "from tkinter import *\n",
    "import requests\n",
    "import random \n",
    "from bs4 import BeautifulSoup\n",
    "\n",
    "def get_interesting_fact():\n",
    "    response=requests.get(\"https://i-fakt.ru/\")\n",
    "    html = BeautifulSoup(response.content,'html5')\n",
    "    fact = random.choice(html.find_all(class_=\"p-2 clearfix\"))\n",
    "    return fact.text\n",
    "\n",
    "\n",
    "def ex(event=None):\n",
    "    root.destroy()\n",
    "root = Tk()\n",
    "root.geometry('500x200')\n",
    "root.protocol('WM_DELETE_WINDOW', ex)\n",
    "root.attributes('-alpha',1)\n",
    "root.configure(bg='black')\n",
    "txt = Text(root,fg='lightgreen',bg='black',relief='groove',font=(\"Arial\", 10), width=81, height=20)\n",
    "txt.place(x=2,y=2)\n",
    "root.bind(\"<q>\",ex)\n",
    "def printw(f):\n",
    "    txt.insert(1.0,f())\n",
    "\n",
    "printw(get_interesting_fact)\n",
    "\n",
    "while True:\n",
    "    root.update()\n",
    "    root.attributes('-topmost', True)\n"
   ]
  }
 ],
 "metadata": {
  "kernelspec": {
   "display_name": "Python 3",
   "language": "python",
   "name": "python3"
  },
  "language_info": {
   "codemirror_mode": {
    "name": "ipython",
    "version": 3
   },
   "file_extension": ".py",
   "mimetype": "text/x-python",
   "name": "python",
   "nbconvert_exporter": "python",
   "pygments_lexer": "ipython3",
   "version": "3.8.9"
  },
  "orig_nbformat": 4,
  "vscode": {
   "interpreter": {
    "hash": "31f2aee4e71d21fbe5cf8b01ff0e069b9275f58929596ceb00d14d90e3e16cd6"
   }
  }
 },
 "nbformat": 4,
 "nbformat_minor": 2
}
