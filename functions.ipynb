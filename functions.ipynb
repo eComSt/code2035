{
 "cells": [
  {
   "cell_type": "code",
   "execution_count": 2,
   "metadata": {},
   "outputs": [
    {
     "name": "stdout",
     "output_type": "stream",
     "text": [
      "5\n"
     ]
    }
   ],
   "source": [
    "def summa(x,y):\n",
    "    print(x+y)\n",
    "summa(2,3)"
   ]
  },
  {
   "cell_type": "code",
   "execution_count": 4,
   "metadata": {},
   "outputs": [
    {
     "name": "stdout",
     "output_type": "stream",
     "text": [
      "5\n"
     ]
    }
   ],
   "source": [
    "def summa(x,y):\n",
    "    return x+y\n",
    "s=summa(2,3)\n",
    "\n",
    "print(s)"
   ]
  },
  {
   "cell_type": "code",
   "execution_count": 18,
   "metadata": {},
   "outputs": [
    {
     "name": "stdout",
     "output_type": "stream",
     "text": [
      "4*6=24\n"
     ]
    }
   ],
   "source": [
    "def calc(x,y,op):\n",
    "    if op ==\"+\":ans=x+y\n",
    "    elif op=='-':ans=x-y\n",
    "    elif op==\"*\":ans=x*y\n",
    "    with open(\"math.log\",\"a\") as file:\n",
    "        file.write(f\"{x}{op}{y}={ans}\\n\")\n",
    "    print(f\"{x}{op}{y}={ans}\")\n",
    "x=int(input(\"Введите число 1\"))\n",
    "y=int(input(\"Введите число 2\"))\n",
    "op=input(\"Введите + или -\")\n",
    "calc(x,y,op)\n"
   ]
  },
  {
   "attachments": {},
   "cell_type": "markdown",
   "metadata": {},
   "source": [
    "Фактрориал\n",
    "5!=1*2*3*4*5"
   ]
  },
  {
   "cell_type": "code",
   "execution_count": 11,
   "metadata": {},
   "outputs": [
    {
     "name": "stdout",
     "output_type": "stream",
     "text": [
      "93326215443944152681699238856266700490715968264381621468592963895217599993229915608941463976156518286253697920827223758251185210916864000000000000000000000000\n"
     ]
    }
   ],
   "source": [
    "def factorial1(n):\n",
    "    ans=1\n",
    "    for i in range(1,n+1):\n",
    "        ans=ans*i\n",
    "    return ans\n",
    "\n",
    "def fatorial_recurcive(n):\n",
    "    if n==1:return 1\n",
    "    else: return fatorial_recurcive(n-1)*n\n",
    "\n",
    "fatorial_recurcive(3)"
   ]
  }
 ],
 "metadata": {
  "kernelspec": {
   "display_name": "Python 3",
   "language": "python",
   "name": "python3"
  },
  "language_info": {
   "codemirror_mode": {
    "name": "ipython",
    "version": 3
   },
   "file_extension": ".py",
   "mimetype": "text/x-python",
   "name": "python",
   "nbconvert_exporter": "python",
   "pygments_lexer": "ipython3",
   "version": "3.10.2"
  },
  "orig_nbformat": 4,
  "vscode": {
   "interpreter": {
    "hash": "7e1998ff7f8aa20ada591c520b972326324e5ea05489af9e422744c7c09f6dad"
   }
  }
 },
 "nbformat": 4,
 "nbformat_minor": 2
}
