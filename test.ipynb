{
 "cells": [
  {
   "cell_type": "code",
   "execution_count": 64,
   "metadata": {},
   "outputs": [
    {
     "name": "stderr",
     "output_type": "stream",
     "text": [
      "2023-01-25 22:35:25,840 (__init__.py:1083 MainThread) ERROR - TeleBot: \"Threaded polling exception: A request to the Telegram API was unsuccessful. Error code: 409. Description: Conflict: terminated by other getUpdates request; make sure that only one bot instance is running\"\n",
      "2023-01-25 22:35:25,845 (__init__.py:1085 MainThread) ERROR - TeleBot: \"Exception traceback:\n",
      "Traceback (most recent call last):\n",
      "  File \"/Users/pattycha/Library/Python/3.8/lib/python/site-packages/telebot/__init__.py\", line 1073, in __threaded_polling\n",
      "    polling_thread.raise_exceptions()\n",
      "  File \"/Users/pattycha/Library/Python/3.8/lib/python/site-packages/telebot/util.py\", line 118, in raise_exceptions\n",
      "    raise self.exception_info\n",
      "  File \"/Users/pattycha/Library/Python/3.8/lib/python/site-packages/telebot/util.py\", line 100, in run\n",
      "    task(*args, **kwargs)\n",
      "  File \"/Users/pattycha/Library/Python/3.8/lib/python/site-packages/telebot/__init__.py\", line 649, in __retrieve_updates\n",
      "    updates = self.get_updates(offset=(self.last_update_id + 1),\n",
      "  File \"/Users/pattycha/Library/Python/3.8/lib/python/site-packages/telebot/__init__.py\", line 623, in get_updates\n",
      "    json_updates = apihelper.get_updates(self.token, offset, limit, timeout, allowed_updates, long_polling_timeout)\n",
      "  File \"/Users/pattycha/Library/Python/3.8/lib/python/site-packages/telebot/apihelper.py\", line 321, in get_updates\n",
      "    return _make_request(token, method_url, params=payload)\n",
      "  File \"/Users/pattycha/Library/Python/3.8/lib/python/site-packages/telebot/apihelper.py\", line 162, in _make_request\n",
      "    json_result = _check_result(method_name, result)\n",
      "  File \"/Users/pattycha/Library/Python/3.8/lib/python/site-packages/telebot/apihelper.py\", line 189, in _check_result\n",
      "    raise ApiTelegramException(method_name, result, result_json)\n",
      "telebot.apihelper.ApiTelegramException: A request to the Telegram API was unsuccessful. Error code: 409. Description: Conflict: terminated by other getUpdates request; make sure that only one bot instance is running\n",
      "\"\n"
     ]
    }
   ],
   "source": [
    "import telebot\n",
    "from bs4 import BeautifulSoup\n",
    "import random\n",
    "import requests\n",
    "token = \"5887799871:AAEKass2GpBSHVWUefXCRseiKHHzyBiY12s\"\n",
    "bot = telebot.TeleBot(token)\n",
    "@bot.message_handler(commands=[\"start\",\"help\"])\n",
    "def send_welcome(message):\n",
    "  welcome_txt=\"Привет, я умею рассказывать  интересные факты, писать стихи\"\n",
    "  bot.send_message(message.chat.id,welcome_txt)\n",
    "@bot.message_handler(commands=[\"fact\"])\n",
    "def send_fact(message):\n",
    "    response = requests.get('https://i-fakt.ru/').content\n",
    "    html = BeautifulSoup(response, 'lxml')\n",
    "    fact = random.choice(html.find_all(class_='p-2 clearfix'))\n",
    "    fact_link =  fact.a.attrs['href']\n",
    "    bot.send_message(message.chat.id,fact_link)\n",
    "@bot.message_handler(commands=[\"cat\"])\n",
    "def send_cat(message):\n",
    "    cat_n = str(random.randint(1,10))+\".jpg\"\n",
    "    img = open(cat_n,\"rb\")\n",
    "    bot.send_photo(message.chat.id,img)\n",
    "\n",
    "bot.polling()\n"
   ]
  },
  {
   "cell_type": "code",
   "execution_count": 59,
   "metadata": {},
   "outputs": [
    {
     "name": "stdout",
     "output_type": "stream",
     "text": [
      "Yeaha!\n",
      "0.03563499450683594\n"
     ]
    }
   ],
   "source": [
    "import time\n",
    "def my_decorator(func):\n",
    "    def decorated_func():\n",
    "        t=time.time()\n",
    "        func()\n",
    "        print(time.time()-t)\n",
    "    return decorated_func\n",
    "\n",
    "@my_decorator\n",
    "def work():\n",
    "    print(\"im working\")\n",
    "\n",
    "@my_decorator\n",
    "def im_home():\n",
    "    for i in range(1000000):\n",
    "        if i!=2:pass\n",
    "    print(\"Yeaha!\")\n",
    "\n",
    "im_home()"
   ]
  }
 ],
 "metadata": {
  "kernelspec": {
   "display_name": "Python 3",
   "language": "python",
   "name": "python3"
  },
  "language_info": {
   "codemirror_mode": {
    "name": "ipython",
    "version": 3
   },
   "file_extension": ".py",
   "mimetype": "text/x-python",
   "name": "python",
   "nbconvert_exporter": "python",
   "pygments_lexer": "ipython3",
   "version": "3.8.9"
  },
  "orig_nbformat": 4,
  "vscode": {
   "interpreter": {
    "hash": "31f2aee4e71d21fbe5cf8b01ff0e069b9275f58929596ceb00d14d90e3e16cd6"
   }
  }
 },
 "nbformat": 4,
 "nbformat_minor": 2
}
