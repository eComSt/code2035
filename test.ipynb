{
 "cells": [
  {
   "cell_type": "code",
   "execution_count": 63,
   "metadata": {},
   "outputs": [],
   "source": [
    "import telebot\n",
    "from bs4 import BeautifulSoup\n",
    "import random\n",
    "import requests\n",
    "token = \"5887799871:AAEKass2GpBSHVWUefXCRseiKHHzyBiY12s\"\n",
    "bot = telebot.TeleBot(token)\n",
    "@bot.message_handler(commands=[\"start\",\"help\"])\n",
    "def send_welcome(message):\n",
    "  welcome_txt=\"Привет, я умею рассказывать  интересные факты, писать стихи\"\n",
    "  bot.send_message(message.chat.id,welcome_txt)\n",
    "@bot.message_handler(commands=[\"fact\"])\n",
    "def send_fact(message):\n",
    "    response = requests.get('https://i-fakt.ru/').content\n",
    "    html = BeautifulSoup(response, 'lxml')\n",
    "    fact = random.choice(html.find_all(class_='p-2 clearfix'))\n",
    "    fact_link =  fact.a.attrs['href']\n",
    "    bot.send_message(message.chat.id,fact_link)  \n",
    "\n",
    "bot.polling()\n"
   ]
  },
  {
   "cell_type": "code",
   "execution_count": 59,
   "metadata": {},
   "outputs": [
    {
     "name": "stdout",
     "output_type": "stream",
     "text": [
      "Yeaha!\n",
      "0.03563499450683594\n"
     ]
    }
   ],
   "source": [
    "import time\n",
    "def my_decorator(func):\n",
    "    def decorated_func():\n",
    "        t=time.time()\n",
    "        func()\n",
    "        print(time.time()-t)\n",
    "    return decorated_func\n",
    "\n",
    "@my_decorator\n",
    "def work():\n",
    "    print(\"im working\")\n",
    "\n",
    "@my_decorator\n",
    "def im_home():\n",
    "    for i in range(1000000):\n",
    "        if i!=2:pass\n",
    "    print(\"Yeaha!\")\n",
    "\n",
    "im_home()"
   ]
  }
 ],
 "metadata": {
  "kernelspec": {
   "display_name": "Python 3",
   "language": "python",
   "name": "python3"
  },
  "language_info": {
   "codemirror_mode": {
    "name": "ipython",
    "version": 3
   },
   "file_extension": ".py",
   "mimetype": "text/x-python",
   "name": "python",
   "nbconvert_exporter": "python",
   "pygments_lexer": "ipython3",
   "version": "3.8.9"
  },
  "orig_nbformat": 4,
  "vscode": {
   "interpreter": {
    "hash": "31f2aee4e71d21fbe5cf8b01ff0e069b9275f58929596ceb00d14d90e3e16cd6"
   }
  }
 },
 "nbformat": 4,
 "nbformat_minor": 2
}
