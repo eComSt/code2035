{
 "cells": [
  {
   "cell_type": "code",
   "execution_count": 13,
   "metadata": {},
   "outputs": [
    {
     "data": {
      "text/plain": [
       "''"
      ]
     },
     "execution_count": 13,
     "metadata": {},
     "output_type": "execute_result"
    }
   ],
   "source": [
    "from fpdf import FPDF\n",
    "from datetime import datetime\n",
    "\n",
    "pdf = FPDF(\"P\",\"mm\",\"A4\")\n",
    "pdf.add_page()\n",
    "\n",
    "pdf.image(\"bg.jpg\",h=297,w=210,x=0,y=0)\n",
    "\n",
    "pdf.add_font(\"pobeda\",\"\",\"pobeda.ttf\",uni=True)\n",
    "pdf.set_font(\"pobeda\",size=25)\n",
    "pdf.set_text_color(0,0,0)\n",
    "\n",
    "name=input(\"Введите имя:\\n\")\n",
    "pdf.cell(0,95,ln=1)\n",
    "pdf.cell(0,20,txt=f\"Дорогой, {name}!\",align= \"C\",ln=1)\n",
    "pdf.set_font(\"pobeda\",size=18)\n",
    "pdf.set_text_color(0,0,0)\n",
    "message=input(\"введите поздравления\\n\")\n",
    "pdf.set_right_margin(50)\n",
    "pdf.set_left_margin(50)\n",
    "pdf.multi_cell(0,20,txt=message,align=\"C\")\n",
    "today=datetime.today().strftime(\"%d.%m.%Y\")\n",
    "pdf.cell(0,10,txt=today,align=\"R\",ln=1)\n",
    "pdf.set_text_color(124,89,147)\n",
    "author_name = input('Введите свое имя\\n')\n",
    "pdf.cell(0, 10, txt=author_name, align=\"R\", ln=1)\n",
    "pdf.output(\"bday.pdf\")"
   ]
  }
 ],
 "metadata": {
  "kernelspec": {
   "display_name": "Python 3",
   "language": "python",
   "name": "python3"
  },
  "language_info": {
   "codemirror_mode": {
    "name": "ipython",
    "version": 3
   },
   "file_extension": ".py",
   "mimetype": "text/x-python",
   "name": "python",
   "nbconvert_exporter": "python",
   "pygments_lexer": "ipython3",
   "version": "3.8.9"
  },
  "orig_nbformat": 4,
  "vscode": {
   "interpreter": {
    "hash": "31f2aee4e71d21fbe5cf8b01ff0e069b9275f58929596ceb00d14d90e3e16cd6"
   }
  }
 },
 "nbformat": 4,
 "nbformat_minor": 2
}
