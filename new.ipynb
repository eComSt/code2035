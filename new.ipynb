{
 "cells": [
  {
   "cell_type": "code",
   "execution_count": 8,
   "metadata": {},
   "outputs": [],
   "source": [
    "import random\n",
    "\n",
    "random_list = [random.randint(0, 100) for _ in range(64)]\n",
    "sorted_list = sorted(random_list)\n"
   ]
  },
  {
   "cell_type": "code",
   "execution_count": 11,
   "metadata": {},
   "outputs": [
    {
     "name": "stdout",
     "output_type": "stream",
     "text": [
      "[0, 5, 5, 6, 8, 11, 13, 14, 15, 16, 17, 21, 21, 22, 23, 23, 24, 26, 26, 27, 30, 31, 34, 34, 35, 35, 36, 36, 37, 39, 40, 42, 43, 44, 44, 44, 44, 45, 47, 48, 49, 59, 60, 67, 67, 68, 73, 75, 78, 85, 86, 86, 87, 87, 87, 88, 89, 90, 91, 92, 93, 93, 97, 100]\n",
      "85\n"
     ]
    }
   ],
   "source": [
    "print(sorted_list)\n",
    "a = random.choice(sorted_list)\n",
    "print(a)"
   ]
  },
  {
   "cell_type": "code",
   "execution_count": 15,
   "metadata": {},
   "outputs": [
    {
     "name": "stdout",
     "output_type": "stream",
     "text": [
      "49\n"
     ]
    }
   ],
   "source": [
    "1 64\n",
    "2 32\n",
    "3 16\n",
    "4 8\n",
    "5 4\n",
    "6 2\n",
    "2**k = N\n",
    "k = log2(N)"
   ]
  }
 ],
 "metadata": {
  "kernelspec": {
   "display_name": "Python 3",
   "language": "python",
   "name": "python3"
  },
  "language_info": {
   "codemirror_mode": {
    "name": "ipython",
    "version": 3
   },
   "file_extension": ".py",
   "mimetype": "text/x-python",
   "name": "python",
   "nbconvert_exporter": "python",
   "pygments_lexer": "ipython3",
   "version": "3.11.1"
  },
  "orig_nbformat": 4
 },
 "nbformat": 4,
 "nbformat_minor": 2
}
