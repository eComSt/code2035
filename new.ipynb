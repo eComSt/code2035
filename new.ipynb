{
 "cells": [
  {
   "cell_type": "code",
   "execution_count": 3,
   "metadata": {},
   "outputs": [
    {
     "name": "stdout",
     "output_type": "stream",
     "text": [
      "Заяц спит, Черепаха идет\n"
     ]
    }
   ],
   "source": [
    "first_animal=\"Заяц\"\n",
    "second_animal=\"Черепаха\"\n",
    "#print(first_animal+\"спит, \"+second_animal+\" идет\")\n",
    "print(\"{} спит, {} идет\".format(first_animal,second_animal))"
   ]
  },
  {
   "cell_type": "code",
   "execution_count": 4,
   "metadata": {},
   "outputs": [
    {
     "name": "stdout",
     "output_type": "stream",
     "text": [
      "Сумма:5\n",
      "Разность:-1\n",
      "Произведение:6\n",
      "Отношение:0.6666666666666666\n"
     ]
    }
   ],
   "source": [
    "number_1=int(input())\n",
    "number_2=int(input())\n",
    "summ=number_1+number_2\n",
    "diff=number_1-number_2\n",
    "mul=number_1*number_2\n",
    "div=number_1/number_2\n",
    "print(f\"Сумма:{summ}\")\n",
    "print(f\"Разность:{diff}\")\n",
    "print(f\"Произведение:{mul}\")\n",
    "print(f\"Отношение:{div}\")"
   ]
  },
  {
   "cell_type": "code",
   "execution_count": 5,
   "metadata": {},
   "outputs": [
    {
     "name": "stdout",
     "output_type": "stream",
     "text": [
      "hello\n"
     ]
    }
   ],
   "source": [
    "привет=\"hello\"\n",
    "print(привет)"
   ]
  },
  {
   "cell_type": "code",
   "execution_count": 39,
   "metadata": {},
   "outputs": [
    {
     "name": "stdout",
     "output_type": "stream",
     "text": [
      "['Л', 'ю', 'д', 'и', ' ', 'в', ' ', 'ч', 'е', 'р', 'н', 'о', 'м', ':', ' ', 'И', 'н', 'т', 'е', 'р', 'н', 'э', 'ш', 'н', 'л']\n"
     ]
    }
   ],
   "source": [
    "films = ['Люди в черном: Интернэшнл', 'Тайная жизнь домашних животных-2', 'История игрушек 4' ]\n",
    "score = list(films[0])z\n",
    "print(score)"
   ]
  }
 ],
 "metadata": {
  "kernelspec": {
   "display_name": "Python 3",
   "language": "python",
   "name": "python3"
  },
  "language_info": {
   "codemirror_mode": {
    "name": "ipython",
    "version": 3
   },
   "file_extension": ".py",
   "mimetype": "text/x-python",
   "name": "python",
   "nbconvert_exporter": "python",
   "pygments_lexer": "ipython3",
   "version": "3.10.8"
  },
  "orig_nbformat": 4,
  "vscode": {
   "interpreter": {
    "hash": "379f48a0a2264dcd18e018f59e5f6957f70a86f867a1be205da3494d0ccba0ca"
   }
  }
 },
 "nbformat": 4,
 "nbformat_minor": 2
}
