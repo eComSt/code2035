{
 "cells": [
  {
   "cell_type": "code",
   "execution_count": null,
   "metadata": {},
   "outputs": [],
   "source": [
    "from tkinter import *\n",
    "import random\n",
    "\n",
    "# Шаблон окна\n",
    "window = Tk()\n",
    "\n",
    "w = 600\n",
    "h = 600\n",
    "\n",
    "window.geometry(str(w) + 'x' + str(h))\n",
    "\n",
    "# Холст для отрисовки игрового поля\n",
    "canvas = Canvas(window, width=w, height=h)\n",
    "canvas.place(in_=window, x=0, y=0)\n",
    "\n",
    "# Фон для игры\n",
    "bg_photo = PhotoImage(file='bg_2.gif')\n",
    "\n",
    "# Класс рыцарь\n",
    "class Knight:\n",
    "    def __init__(self):\n",
    "        # Координаты центра рыцаря\n",
    "        self.x = 70\n",
    "        self.y = h // 2\n",
    "        # Скорость рыцаря (в начале игры он стоит)\n",
    "        self.v = 0\n",
    "        # Изображение рыцаря\n",
    "        self.photo = PhotoImage(file='knight.gif')\n",
    "\n",
    "    # Движение вверх\n",
    "    def up(self, event):\n",
    "        self.v = -3\n",
    "\n",
    "    # Движение вниз\n",
    "    def down(self, event):\n",
    "        self.v = 3\n",
    "\n",
    "    # Остановка\n",
    "    def stop(self, event):\n",
    "        self.v = 0\n",
    "\n",
    "# Класс для создания дракона\n",
    "class Dragon:\n",
    "    def __init__(self):\n",
    "        self.x = 750\n",
    "        self.y = random.randint(100, 500)\n",
    "        self.v = random.randint(1,3)\n",
    "        self.photo = PhotoImage(file='dragon.gif')\n",
    "\n",
    "knight = Knight()\n",
    "\n",
    "dragons = []\n",
    "for i in range(3):\n",
    "    dragons.append(Dragon())\n",
    "\n",
    "def game():\n",
    "    canvas.delete('all')\n",
    "    canvas.create_image(300,300, image=bg_photo)\n",
    "    canvas.create_image(knight.x,knight.y,image=knight.photo)\n",
    "    knight.y += knight.v\n",
    "    #print( knight.v)\n",
    "\n",
    "    current_dragon = 0\n",
    "    dragon_to_kill = -1\n",
    "\n",
    "    for dragon in dragons:\n",
    "        dragon.x -= dragon.v\n",
    "        canvas.create_image(dragon.x,dragon.y,image=dragon.photo)\n",
    "\n",
    "        if ((dragon.x-knight.x)**2) + ((dragon.y - knight.y)**2) <= (96)**2:\n",
    "            dragon_to_kill = current_dragon\n",
    "\n",
    "        current_dragon += 1\n",
    "\n",
    "        if dragon.x <= 0:\n",
    "            canvas.delete('all')\n",
    "            canvas.create_text(w//2, h//2, text=\"You lose!\", font=\"Verdana 42\", fill='red')\n",
    "            break\n",
    "\n",
    "\n",
    "    if dragon_to_kill >= 0:\n",
    "        del dragons[dragon_to_kill]\n",
    "\n",
    "    if len(dragons) == 0:\n",
    "        canvas.delete('all')\n",
    "        canvas.create_text(w//2, h//2, text=\"You win!\", font=\"Verdana 42\", fill='red')\n",
    "    else:\n",
    "        window.after(5, game)\n",
    "\n",
    "\n",
    "game()\n",
    "\n",
    "window.bind('<Key-Up>', knight.up)\n",
    "window.bind('<Key-Down>', knight.down)\n",
    "window.bind('<KeyRelease>', knight.stop)\n",
    "\n",
    "window.mainloop()\n"
   ]
  },
  {
   "cell_type": "code",
   "execution_count": 5,
   "metadata": {},
   "outputs": [
    {
     "name": "stdout",
     "output_type": "stream",
     "text": [
      "Defaulting to user installation because normal site-packages is not writeable\n",
      "\u001b[31mERROR: Could not find a version that satisfies the requirement pyimage4 (from versions: none)\u001b[0m\u001b[31m\n",
      "\u001b[0m\u001b[31mERROR: No matching distribution found for pyimage4\u001b[0m\u001b[31m\n",
      "\u001b[0m\n",
      "\u001b[1m[\u001b[0m\u001b[34;49mnotice\u001b[0m\u001b[1;39;49m]\u001b[0m\u001b[39;49m A new release of pip available: \u001b[0m\u001b[31;49m22.3.1\u001b[0m\u001b[39;49m -> \u001b[0m\u001b[32;49m23.0\u001b[0m\n",
      "\u001b[1m[\u001b[0m\u001b[34;49mnotice\u001b[0m\u001b[1;39;49m]\u001b[0m\u001b[39;49m To update, run: \u001b[0m\u001b[32;49m/Applications/Xcode.app/Contents/Developer/usr/bin/python3 -m pip install --upgrade pip\u001b[0m\n",
      "Note: you may need to restart the kernel to use updated packages.\n"
     ]
    }
   ],
   "source": [
    "pip install pyimage4"
   ]
  }
 ],
 "metadata": {
  "kernelspec": {
   "display_name": "Python 3",
   "language": "python",
   "name": "python3"
  },
  "language_info": {
   "codemirror_mode": {
    "name": "ipython",
    "version": 3
   },
   "file_extension": ".py",
   "mimetype": "text/x-python",
   "name": "python",
   "nbconvert_exporter": "python",
   "pygments_lexer": "ipython3",
   "version": "3.8.9"
  },
  "orig_nbformat": 4,
  "vscode": {
   "interpreter": {
    "hash": "31f2aee4e71d21fbe5cf8b01ff0e069b9275f58929596ceb00d14d90e3e16cd6"
   }
  }
 },
 "nbformat": 4,
 "nbformat_minor": 2
}
