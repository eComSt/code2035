{
 "cells": [
  {
   "cell_type": "code",
   "execution_count": 1,
   "metadata": {},
   "outputs": [
    {
     "name": "stdout",
     "output_type": "stream",
     "text": [
      "hello hello hello hello hello \n"
     ]
    }
   ],
   "source": [
    "s = \"hello \" * 5\n",
    "print(s)"
   ]
  },
  {
   "cell_type": "code",
   "execution_count": 14,
   "metadata": {},
   "outputs": [
    {
     "name": "stdout",
     "output_type": "stream",
     "text": [
      "{'count': 1,\n",
      " 'items': [{'conversation': {'can_write': {'allowed': True},\n",
      "                             'chat_settings': {'acl': {'can_call': False,\n",
      "                                                       'can_change_info': True,\n",
      "                                                       'can_change_invite_link': True,\n",
      "                                                       'can_change_pin': True,\n",
      "                                                       'can_change_style': True,\n",
      "                                                       'can_copy_chat': False,\n",
      "                                                       'can_invite': True,\n",
      "                                                       'can_moderate': True,\n",
      "                                                       'can_promote_users': True,\n",
      "                                                       'can_see_invite_link': True,\n",
      "                                                       'can_use_mass_mentions': True},\n",
      "                                               'active_ids': [4803531,\n",
      "                                                              -219674276],\n",
      "                                               'admin_ids': [4803531],\n",
      "                                               'is_group_channel': False,\n",
      "                                               'is_service': False,\n",
      "                                               'members_count': 2,\n",
      "                                               'owner_id': -219674276,\n",
      "                                               'permissions': {'call': 'owner_and_admins',\n",
      "                                                               'change_admins': 'owner',\n",
      "                                                               'change_info': 'owner_and_admins',\n",
      "                                                               'change_pin': 'owner_and_admins',\n",
      "                                                               'change_style': 'all',\n",
      "                                                               'invite': 'all',\n",
      "                                                               'see_invite_link': 'all',\n",
      "                                                               'use_mass_mentions': 'owner_and_admins'},\n",
      "                                               'photo': {'is_default_call_photo': False,\n",
      "                                                         'is_default_photo': False,\n",
      "                                                         'photo_100': 'https://vk.com/images/community_100.png?ava=1',\n",
      "                                                         'photo_200': 'https://vk.com/images/community_200.png?ava=1',\n",
      "                                                         'photo_50': 'https://vk.com/images/community_50.png?ava=1'},\n",
      "                                               'state': 'in',\n",
      "                                               'title': 'БОТ ВК'},\n",
      "                             'important': False,\n",
      "                             'in_read': 1,\n",
      "                             'in_read_cmid': 1,\n",
      "                             'is_marked_unread': False,\n",
      "                             'last_conversation_message_id': 2,\n",
      "                             'last_message_id': 2,\n",
      "                             'out_read': 2,\n",
      "                             'out_read_cmid': 2,\n",
      "                             'peer': {'id': 2000000001,\n",
      "                                      'local_id': 1,\n",
      "                                      'type': 'chat'},\n",
      "                             'unanswered': True,\n",
      "                             'unread_count': 1},\n",
      "            'last_message': {'attachments': [],\n",
      "                             'conversation_message_id': 2,\n",
      "                             'date': 1680186461,\n",
      "                             'from_id': 4803531,\n",
      "                             'fwd_messages': [],\n",
      "                             'id': 2,\n",
      "                             'important': False,\n",
      "                             'is_hidden': False,\n",
      "                             'out': 0,\n",
      "                             'peer_id': 2000000001,\n",
      "                             'random_id': 0,\n",
      "                             'text': 'Ку'}}],\n",
      " 'unread_count': 1}\n"
     ]
    }
   ],
   "source": [
    "import requests\n",
    "from pprint import pprint\n",
    "from bs4 import BeautifulSoup\n",
    "from datetime import datetime\n",
    "import vk_api\n",
    "\n",
    "with open(\"key_vk\") as file:\n",
    "    token = file.read()\n",
    "\n",
    "vk = vk_api.VkApi(token = token)\n",
    "\n",
    "messages = vk.method(\"messages.getConversations\",{\"count\":20,\"filter\":\"unanswered\"})\n",
    "pprint(messages)\n"
   ]
  },
  {
   "cell_type": "code",
   "execution_count": null,
   "metadata": {},
   "outputs": [],
   "source": []
  }
 ],
 "metadata": {
  "kernelspec": {
   "display_name": "Python 3",
   "language": "python",
   "name": "python3"
  },
  "language_info": {
   "codemirror_mode": {
    "name": "ipython",
    "version": 3
   },
   "file_extension": ".py",
   "mimetype": "text/x-python",
   "name": "python",
   "nbconvert_exporter": "python",
   "pygments_lexer": "ipython3",
   "version": "3.11.1"
  },
  "orig_nbformat": 4
 },
 "nbformat": 4,
 "nbformat_minor": 2
}
