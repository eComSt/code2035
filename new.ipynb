{
 "cells": [
  {
   "cell_type": "code",
   "execution_count": null,
   "metadata": {},
   "outputs": [],
   "source": [
    "print(1+2+3)"
   ]
  },
  {
   "cell_type": "code",
   "execution_count": null,
   "metadata": {},
   "outputs": [],
   "source": [
    "print(\"one\"+\"two\"+\"three\")"
   ]
  },
  {
   "cell_type": "code",
   "execution_count": null,
   "metadata": {},
   "outputs": [],
   "source": [
    "print(len(\"Programming\"))\n",
    "print(len([\"Programming\",\"is\",\"cool\"]))\n",
    "print(len({1:\"Programming\",2:\"is\",3:\"cool\",7:\"!\"}))"
   ]
  },
  {
   "cell_type": "code",
   "execution_count": null,
   "metadata": {},
   "outputs": [],
   "source": [
    "class Cat:\n",
    "    def __init__(self,name,age):\n",
    "        self.name = name\n",
    "        self.age = age\n",
    "    def info(self):\n",
    "        print(f\"I am a cat. My name is {self.name}. I am {self.age} years old.\")\n",
    "    def make_sound(self):\n",
    "        print(\"Meow\")\n",
    "\n",
    "class Dog(Cat):\n",
    "    def info(self):\n",
    "        print(f\"I am a dog. My name is {self.name}. I am {self.age} years old.\")\n",
    "    def make_sound(self):\n",
    "        print(\"Gav\")\n",
    "cat1 = Cat(\"Marusia\",2.5)\n",
    "dog1 = Dog(\"Rex\",3)\n",
    "for animal in (cat1,dog1):\n",
    "    animal.make_sound()\n",
    "    animal.info()\n",
    "    animal.make_sound()"
   ]
  },
  {
   "cell_type": "code",
   "execution_count": null,
   "metadata": {},
   "outputs": [],
   "source": [
    "class A:\n",
    "    def public(self):\n",
    "        return 42\n",
    "    def _private(self):\n",
    "        return \"hello world\"\n",
    "    def __protected(self,n):\n",
    "        return n if n<2 else self.__protected(n-1)+self.__protected(n-2)\n",
    "    def wrapped_protect(self,n):\n",
    "        return self.__protected(n)\n",
    "a = A()\n",
    "a.public()\n",
    "a._private()\n",
    "a.wrapped_protect(40)"
   ]
  },
  {
   "cell_type": "code",
   "execution_count": 13,
   "metadata": {},
   "outputs": [
    {
     "name": "stdout",
     "output_type": "stream",
     "text": [
      "43466557686937456435688527675040625802564660517371780402481729089536555417949051890403879840079255169295922593080322634775209689623239873322471161642996440906533187938298969649928516003704476137795166849228875\n"
     ]
    }
   ],
   "source": [
    "def memorize(f):\n",
    "    cache = dict()\n",
    "    def wrapper(x):\n",
    "        if x not in cache:\n",
    "            cache[x]=f(x)\n",
    "        return cache[x]\n",
    "    return wrapper\n",
    "@memorize\n",
    "def fib(n):\n",
    "    return n if n<2 else fib(n-1)+fib(n-2)\n",
    "print(fib(1000))"
   ]
  },
  {
   "cell_type": "code",
   "execution_count": 14,
   "metadata": {},
   "outputs": [
    {
     "name": "stdout",
     "output_type": "stream",
     "text": [
      "<__main__.Singleton object at 0x119b511d0> 4726264272\n",
      "<__main__.Singleton object at 0x119b511d0> 4726264272\n"
     ]
    }
   ],
   "source": [
    "class Singleton(object):\n",
    "    def __new__(self):\n",
    "        if not hasattr(self, \"instance\"):\n",
    "            self.instance = super(Singleton, self).__new__(self)\n",
    "        return self.instance\n",
    "s = Singleton()\n",
    "print(s,id(s))\n",
    "s1 = Singleton()\n",
    "print(s,id(s1))"
   ]
  },
  {
   "cell_type": "code",
   "execution_count": null,
   "metadata": {},
   "outputs": [],
   "source": [
    "\n",
    "def repair(func):\n",
    "    def wrapper(a,b):\n",
    "        return func(a,b)+1\n",
    "    return wrapper\n",
    "@repair\n",
    "def wrong(a,b):\n",
    "    return a+b-1\n",
    "\n",
    "print(wrong(5,16))"
   ]
  },
  {
   "cell_type": "code",
   "execution_count": null,
   "metadata": {},
   "outputs": [],
   "source": [
    "from datetime import datetime\n",
    "def timeit(func):\n",
    "    def wrapper(a):\n",
    "        s = datetime.now()\n",
    "        res = func(a)\n",
    "        print(f\"time:{datetime.now()-s}\")\n",
    "        return res\n",
    "    return wrapper\n",
    "@timeit\n",
    "def gen1(v):\n",
    "    l = []\n",
    "    s = 1\n",
    "    for i in range(v):\n",
    "        l.append(s)\n",
    "        s+=2\n",
    "        if s>=v: break\n",
    "    return l\n",
    "@timeit\n",
    "def gen2(v):\n",
    "    l = []\n",
    "    for i in range(v):\n",
    "        if i%2!=0:l.append(i)\n",
    "    return l\n",
    "@timeit\n",
    "def gen3(v):\n",
    "    l = []\n",
    "    for i in range(1,v,2):l.append(i)\n",
    "    return l\n",
    "@timeit\n",
    "def gen4(v):\n",
    "    return [i for i in range(1,v,2)]\n",
    "@timeit\n",
    "def gen5(v):\n",
    "    a = 1\n",
    "    l = []\n",
    "    while a != v:\n",
    "        r = a % 2 \n",
    "        if r == 1:\n",
    "            l.append(a)\n",
    "        a += 1  \n",
    "    return l\n",
    "test = [gen1,gen2,gen3,gen4,gen5]\n",
    "v=10000000\n",
    "for i in test: i(v)\n",
    "\n"
   ]
  }
 ],
 "metadata": {
  "kernelspec": {
   "display_name": "Python 3",
   "language": "python",
   "name": "python3"
  },
  "language_info": {
   "codemirror_mode": {
    "name": "ipython",
    "version": 3
   },
   "file_extension": ".py",
   "mimetype": "text/x-python",
   "name": "python",
   "nbconvert_exporter": "python",
   "pygments_lexer": "ipython3",
   "version": "3.11.1"
  },
  "orig_nbformat": 4,
  "vscode": {
   "interpreter": {
    "hash": "aee8b7b246df8f9039afb4144a1f6fd8d2ca17a180786b69acc140d282b71a49"
   }
  }
 },
 "nbformat": 4,
 "nbformat_minor": 2
}
