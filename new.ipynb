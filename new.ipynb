{
 "cells": [
  {
   "cell_type": "code",
   "execution_count": null,
   "metadata": {},
   "outputs": [],
   "source": [
    "b=0\n",
    "c=True\n",
    "a = 'HELLO' if b>1 or c == True else 'WORLD'\n",
    "print(a)"
   ]
  },
  {
   "cell_type": "code",
   "execution_count": null,
   "metadata": {},
   "outputs": [],
   "source": [
    "class Vect:\n",
    "    def __init__(self,x,y,z=0):\n",
    "        self.x=x\n",
    "        self.y=y\n",
    "        self.z=z\n",
    "    def length(self):\n",
    "        return (self.x*self.x+self.y*self.y+self.z*self.z)**0.5\n",
    "\n",
    "a = Vect(4,5)\n",
    "b = Vect(1,1)\n",
    "c = Vect(1,2,3)\n",
    "print(a.x,a.y)\n",
    "print(c.length())"
   ]
  },
  {
   "cell_type": "code",
   "execution_count": null,
   "metadata": {},
   "outputs": [],
   "source": [
    "class Animal:\n",
    "    def __init__(self,color,tip,food,name):\n",
    "        self.color = color\n",
    "        self.tip = tip\n",
    "        self.food = food \n",
    "        self.name = name\n",
    "    def breathe(self):\n",
    "        print(f\"{self.name} усиленно дышит\")\n",
    "\n",
    "class Cat(Animal):\n",
    "    def __init__(self,color,tip,food,name,weight):\n",
    "        super().__init__(color,tip,food,name)\n",
    "        self.weight = weight\n",
    "    def meow(self,a = 45):\n",
    "        print(\"Meow \"*a)\n",
    "class Rock(Animal):\n",
    "    def breathe(self):\n",
    "        print(f\"{self.name} вообще не дышит! Вызывайте скорую!\")\n",
    "\n",
    "a = Animal(\"grey\",\"stone\",\"none\",\"Rocky\")\n",
    "b = Cat(\"white\",\"siamskaya\",\"meat\",\"Marusya\",4)\n",
    "d = Rock(\"grey\",\"stone\",\"none\",\"Rocky\")\n",
    "\n",
    "print(d)"
   ]
  },
  {
   "cell_type": "code",
   "execution_count": null,
   "metadata": {},
   "outputs": [],
   "source": [
    "import random\n",
    "\n",
    "class Tank:\n",
    "    def __init__(self, model, armor, min_damage, max_damage, health):\n",
    "        self.model = model\n",
    "        self.armor = armor\n",
    "        self.damage = random.randint(min_damage, max_damage)\n",
    "        self.health = health\n",
    "    "
   ]
  }
 ],
 "metadata": {
  "kernelspec": {
   "display_name": "Python 3",
   "language": "python",
   "name": "python3"
  },
  "language_info": {
   "codemirror_mode": {
    "name": "ipython",
    "version": 3
   },
   "file_extension": ".py",
   "mimetype": "text/x-python",
   "name": "python",
   "nbconvert_exporter": "python",
   "pygments_lexer": "ipython3",
   "version": "3.8.9"
  },
  "orig_nbformat": 4,
  "vscode": {
   "interpreter": {
    "hash": "31f2aee4e71d21fbe5cf8b01ff0e069b9275f58929596ceb00d14d90e3e16cd6"
   }
  }
 },
 "nbformat": 4,
 "nbformat_minor": 2
}
