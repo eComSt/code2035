{
 "cells": [
  {
   "cell_type": "code",
   "execution_count": null,
   "metadata": {},
   "outputs": [],
   "source": [
    "def abc(*a,**b):\n",
    "    print(a)\n",
    "    print(b)\n",
    "abc(1,2,3,f=6,g=\"sdfgsdg\",w=0.4)"
   ]
  },
  {
   "cell_type": "code",
   "execution_count": 37,
   "metadata": {},
   "outputs": [
    {
     "name": "stdout",
     "output_type": "stream",
     "text": [
      "time of work:0.4236316680908203\n",
      "usupported operation\n"
     ]
    }
   ],
   "source": [
    "import time\n",
    "from types import TracebackType\n",
    "class Benchmark:\n",
    "    def __init__(self):\n",
    "        self.init=None\n",
    "        \n",
    "    def __enter__(self):\n",
    "        self.start = time.time()\n",
    "        return \"Hello, im context manager!\"\n",
    "\n",
    "    def __exit__(self,exc_type,exc_val,exc_tb: TracebackType):\n",
    "        print(f\"time of work:{time.time()-self.start}\")\n",
    "        if exc_type is TypeError:\n",
    "            print(\"usupported operation\")\n",
    "            return True\n",
    "\n",
    "with Benchmark() as f:\n",
    "    my_list = [x for x in range(10_000_000)]\n",
    "    my_list -=\"s\""
   ]
  }
 ],
 "metadata": {
  "kernelspec": {
   "display_name": "Python 3",
   "language": "python",
   "name": "python3"
  },
  "language_info": {
   "codemirror_mode": {
    "name": "ipython",
    "version": 3
   },
   "file_extension": ".py",
   "mimetype": "text/x-python",
   "name": "python",
   "nbconvert_exporter": "python",
   "pygments_lexer": "ipython3",
   "version": "3.11.1"
  },
  "orig_nbformat": 4
 },
 "nbformat": 4,
 "nbformat_minor": 2
}
