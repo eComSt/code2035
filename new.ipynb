{
 "cells": [
  {
   "cell_type": "code",
   "execution_count": null,
   "metadata": {},
   "outputs": [],
   "source": [
    "2 2\n",
    "3 3\n",
    "4 2*2\n",
    "5 5\n",
    "6 2*3\n",
    "7 7\n",
    "8 2*2*2\n",
    "9 3*3\n",
    "10 2*5\n",
    "11 11\n",
    "12 2*2*3\n",
    "13 13\n",
    "14 2*7\n",
    "15 3*5\n",
    "16 2*2*2*2\n",
    "17 17\n",
    "18 2*3*3\n",
    "19 19\n",
    "20 2*2*5\n",
    "\n",
    "2 = 4\n",
    "3 = 2\n",
    "5 = 1\n",
    "7 11 13 17 19"
   ]
  },
  {
   "cell_type": "code",
   "execution_count": 3,
   "metadata": {},
   "outputs": [
    {
     "name": "stdout",
     "output_type": "stream",
     "text": [
      "False\n"
     ]
    }
   ],
   "source": [
    "def simple(x):\n",
    "    for i in range(2,x):\n",
    "        if x%i==0: return False\n",
    "    return True\n",
    "    \n",
    "print(simple(18))"
   ]
  },
  {
   "cell_type": "code",
   "execution_count": 1,
   "metadata": {},
   "outputs": [
    {
     "name": "stdout",
     "output_type": "stream",
     "text": [
      "232792560\n"
     ]
    }
   ],
   "source": [
    "print(2*2*2*2*3*3*5*7*11*13*17*19)"
   ]
  },
  {
   "attachments": {},
   "cell_type": "markdown",
   "metadata": {},
   "source": [
    "2520 - самое маленькое число, которое делится без остатка на все числа от 1 до 10.\n",
    "\n",
    "Какое самое маленькое число делится нацело на все числа от 1 до 20?"
   ]
  }
 ],
 "metadata": {
  "kernelspec": {
   "display_name": "Python 3",
   "language": "python",
   "name": "python3"
  },
  "language_info": {
   "codemirror_mode": {
    "name": "ipython",
    "version": 3
   },
   "file_extension": ".py",
   "mimetype": "text/x-python",
   "name": "python",
   "nbconvert_exporter": "python",
   "pygments_lexer": "ipython3",
   "version": "3.8.9"
  },
  "orig_nbformat": 4,
  "vscode": {
   "interpreter": {
    "hash": "31f2aee4e71d21fbe5cf8b01ff0e069b9275f58929596ceb00d14d90e3e16cd6"
   }
  }
 },
 "nbformat": 4,
 "nbformat_minor": 2
}
