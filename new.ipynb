{
 "cells": [
  {
   "cell_type": "code",
   "execution_count": 1,
   "metadata": {},
   "outputs": [
    {
     "name": "stdout",
     "output_type": "stream",
     "text": [
      "hello hello hello hello hello \n"
     ]
    }
   ],
   "source": [
    "s = \"hello \" * 5\n",
    "print(s)"
   ]
  },
  {
   "cell_type": "code",
   "execution_count": 10,
   "metadata": {},
   "outputs": [
    {
     "name": "stdout",
     "output_type": "stream",
     "text": [
      "vk1.a.wfNiL2QZScLcMc-QzMxpYctjWkuBNjjvzxg3PtU7bpy5Q0pK6xG1N6hVeioJUTP15VdHx_Q2rSQUz-8Yx4bEcSC9zBN1g8rUFBS0YhN1sp0awhte-VYRHEedAEw0a18VCQf2okjRQAmG78XkxSY_kKERvrUMK_FpT_pGRxOPhcyqIWpzR4faTu9r5QAvtU8Haft_TTJeDWEABeQn-AngqQ\n"
     ]
    }
   ],
   "source": [
    "import requests\n",
    "from bs4 import BeautifulSoup\n",
    "from datetime import datetime\n",
    "import vk_api\n",
    "\n",
    "with open(\"key_vk\") as file:\n",
    "    token = file.read()\n",
    "print(token)"
   ]
  }
 ],
 "metadata": {
  "kernelspec": {
   "display_name": "Python 3",
   "language": "python",
   "name": "python3"
  },
  "language_info": {
   "codemirror_mode": {
    "name": "ipython",
    "version": 3
   },
   "file_extension": ".py",
   "mimetype": "text/x-python",
   "name": "python",
   "nbconvert_exporter": "python",
   "pygments_lexer": "ipython3",
   "version": "3.11.1"
  },
  "orig_nbformat": 4
 },
 "nbformat": 4,
 "nbformat_minor": 2
}
