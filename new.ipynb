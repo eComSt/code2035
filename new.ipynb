{
 "cells": [
  {
   "cell_type": "code",
   "execution_count": 7,
   "metadata": {},
   "outputs": [],
   "source": [
    "from tkinter import *\n",
    "\n",
    "def clicked():\n",
    "    lab[\"text\"]=lab[\"text\"]+1\n",
    "\n",
    "root = Tk()\n",
    "root.title(\"My app\")\n",
    "root.geometry(\"500x500+200+200\")\n",
    "root[\"bg\"] = \"#3ea87a\"\n",
    "lab = Label (root,text = 0, bg = \"#FF5555\", fg = \"gold\", font = (\"Courier\", 16))\n",
    "button_1 = Button(text = \" Кнопка\", command = clicked)\n",
    "lab.pack()\n",
    "button_1.pack()\n",
    "\n",
    "\n",
    "\n",
    "\n",
    "\n",
    "root.mainloop()"
   ]
  }
 ],
 "metadata": {
  "kernelspec": {
   "display_name": "Python 3",
   "language": "python",
   "name": "python3"
  },
  "language_info": {
   "codemirror_mode": {
    "name": "ipython",
    "version": 3
   },
   "file_extension": ".py",
   "mimetype": "text/x-python",
   "name": "python",
   "nbconvert_exporter": "python",
   "pygments_lexer": "ipython3",
   "version": "3.8.9 (default, Oct 26 2021, 07:25:54) \n[Clang 13.0.0 (clang-1300.0.29.30)]"
  },
  "orig_nbformat": 4,
  "vscode": {
   "interpreter": {
    "hash": "31f2aee4e71d21fbe5cf8b01ff0e069b9275f58929596ceb00d14d90e3e16cd6"
   }
  }
 },
 "nbformat": 4,
 "nbformat_minor": 2
}
