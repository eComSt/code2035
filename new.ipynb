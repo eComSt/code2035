{
 "cells": [
  {
   "cell_type": "code",
   "execution_count": 28,
   "metadata": {},
   "outputs": [
    {
     "name": "stdout",
     "output_type": "stream",
     "text": [
      "3\n",
      "(5, 6, 7, 8, 9, 0, 12, 3, 5, 6, 10)\n",
      "{'d': 16, 'ff': 'hello', 'name': 'Mihail'}\n",
      "74\n"
     ]
    }
   ],
   "source": [
    "def addiction(a, *args, **kwargs):\n",
    "    print(a)\n",
    "    print(args)\n",
    "    print(kwargs)\n",
    "    s = a + sum(args)\n",
    "    return s\n",
    "\n",
    "c = addiction(3,5,6,7,8,9,0,12,3,5,6,10,d=16,ff = \"hello\",name = \"Mihail\")\n",
    "print(c)\n"
   ]
  },
  {
   "cell_type": "code",
   "execution_count": 20,
   "metadata": {},
   "outputs": [
    {
     "name": "stdout",
     "output_type": "stream",
     "text": [
      "[0, 4, 16, 36, 64, 100]\n"
     ]
    }
   ],
   "source": [
    "l = []\n",
    "for i in range(0,11):\n",
    "    if i**2%2==0:l.append(i**2)\n",
    "print(l)"
   ]
  },
  {
   "cell_type": "code",
   "execution_count": 23,
   "metadata": {},
   "outputs": [
    {
     "name": "stdout",
     "output_type": "stream",
     "text": [
      "[0, 4, 16, 36, 64, 100]\n",
      "{3: 9, 5: 25, 7: 49, 9: 81}\n"
     ]
    }
   ],
   "source": [
    "l = [i**2 for i in range(0,11) if i**2%2==0]\n",
    "d = {i:i**2 for i in range(0,11) if i%2==1 and i>2}\n",
    "print(l)\n",
    "print(d)"
   ]
  },
  {
   "cell_type": "code",
   "execution_count": 29,
   "metadata": {},
   "outputs": [
    {
     "name": "stdout",
     "output_type": "stream",
     "text": [
      "True\n"
     ]
    }
   ],
   "source": [
    "age = 99\n",
    "# if age >= 18:\n",
    "#     is_allow = True\n",
    "# else:\n",
    "#     is_allow = False\n",
    "is_allow = age >= 18\n",
    "print(is_allow)"
   ]
  },
  {
   "cell_type": "code",
   "execution_count": 31,
   "metadata": {},
   "outputs": [
    {
     "name": "stdout",
     "output_type": "stream",
     "text": [
      "[]\n",
      "[]\n"
     ]
    }
   ],
   "source": [
    "val = None\n",
    "# if val is None:\n",
    "#     res = []\n",
    "# else:\n",
    "#     res = val\n",
    "res = [] if val is None else val\n",
    "print(res)\n",
    "res = val or []\n",
    "print(res)"
   ]
  },
  {
   "cell_type": "code",
   "execution_count": 33,
   "metadata": {},
   "outputs": [
    {
     "name": "stdout",
     "output_type": "stream",
     "text": [
      "(1, 2, 3)\n"
     ]
    }
   ],
   "source": [
    "x = tuple([1,2,3])\n",
    "print(x)"
   ]
  },
  {
   "cell_type": "code",
   "execution_count": 35,
   "metadata": {},
   "outputs": [
    {
     "name": "stdout",
     "output_type": "stream",
     "text": [
      "(1, 2, 3, 4, 5)\n",
      "<class 'tuple'>\n"
     ]
    }
   ],
   "source": [
    "a = (5, 3, 2, 1, 4)\n",
    "b = tuple(sorted(a))\n",
    "print(b)\n",
    "print(type(b))"
   ]
  },
  {
   "cell_type": "code",
   "execution_count": 41,
   "metadata": {},
   "outputs": [
    {
     "name": "stdout",
     "output_type": "stream",
     "text": [
      "[(5, 'a', 'a'), (3, 'b', 's'), (2, 'c', 'd'), (1, 'd', 'f'), (4, 'f', 'd')]\n"
     ]
    }
   ],
   "source": [
    "a = tuple((5, 3, 2, 1, 4, 5, 6, 7, 8))\n",
    "b = ['a','b','c','d','f']\n",
    "d = \"asdfdfdsadass\"\n",
    "c = list(zip(a,b,d))\n",
    "print(c)"
   ]
  },
  {
   "cell_type": "code",
   "execution_count": 45,
   "metadata": {},
   "outputs": [
    {
     "name": "stdout",
     "output_type": "stream",
     "text": [
      "0\n"
     ]
    }
   ],
   "source": [
    "def sqrt(z,x):\n",
    "    x=z(x)\n",
    "    x=x**2\n",
    "    return x \n",
    "\n",
    "def dec(x):\n",
    "    return x-1\n",
    "\n",
    "incr = lambda x: x+1\n",
    "\n",
    "print(sqrt(dec,1))"
   ]
  },
  {
   "cell_type": "code",
   "execution_count": 50,
   "metadata": {},
   "outputs": [
    {
     "name": "stdout",
     "output_type": "stream",
     "text": [
      "[1, 4, 9, 16]\n"
     ]
    }
   ],
   "source": [
    "a = list(map(lambda x:x**2,[1,2,3,4]))\n",
    "print(a)"
   ]
  },
  {
   "cell_type": "code",
   "execution_count": 53,
   "metadata": {},
   "outputs": [
    {
     "name": "stdout",
     "output_type": "stream",
     "text": [
      "24\n"
     ]
    }
   ],
   "source": [
    "from functools import reduce\n",
    "items = [1,2,3,3,24,5]\n",
    "s = lambda x,y:x if x>=y else y\n",
    "sum_all=reduce(s,items)\n",
    "print(sum_all)"
   ]
  },
  {
   "cell_type": "code",
   "execution_count": 47,
   "metadata": {},
   "outputs": [
    {
     "name": "stdout",
     "output_type": "stream",
     "text": [
      "['мак', 'мак', 'мак', 'мак', 'мак']\n"
     ]
    }
   ],
   "source": [
    "mixed = ['мак', 'просо', 'мак', 'мак', 'просо', 'мак', 'просо', 'просо','просо', 'мак']\n",
    "zolushka = list(filter(lambda x:x==\"мак\",mixed))\n",
    "print(zolushka)"
   ]
  }
 ],
 "metadata": {
  "kernelspec": {
   "display_name": "Python 3",
   "language": "python",
   "name": "python3"
  },
  "language_info": {
   "codemirror_mode": {
    "name": "ipython",
    "version": 3
   },
   "file_extension": ".py",
   "mimetype": "text/x-python",
   "name": "python",
   "nbconvert_exporter": "python",
   "pygments_lexer": "ipython3",
   "version": "3.11.1"
  },
  "orig_nbformat": 4,
  "vscode": {
   "interpreter": {
    "hash": "aee8b7b246df8f9039afb4144a1f6fd8d2ca17a180786b69acc140d282b71a49"
   }
  }
 },
 "nbformat": 4,
 "nbformat_minor": 2
}
