{
 "cells": [
  {
   "cell_type": "code",
   "execution_count": 1,
   "metadata": {},
   "outputs": [],
   "source": [
    "from tkinter import *\n",
    "import time\n",
    "def close(event=None):\n",
    "    window.destroy()\n",
    "def on_close():\n",
    "    count_start()\n",
    "def count_start():\n",
    "    if count_text[\"text\"]>\n",
    "\n",
    "window = Tk()\n",
    "window.geometry(\"900x300\")\n",
    "window.resizable(width=False,height=False)\n",
    "window.config(bg='black')\n",
    "text = Label(text=\"Ваш ПК ЗАРАЖЕН\",fg=\"green\",bg=\"black\",font=(\"Courier New\",34))\n",
    "text.place(x=100,y=100,width=700,height=100)\n",
    "count_text = Label(text = 3,fg=\"green\",bg=\"black\",font=(\"Courier New\",34))\n",
    "window.protocol(\"WM_DELETE_WINDOW\",on_close)\n",
    "window.bind(\"<Escape>\",close)\n",
    "window.mainloop()"
   ]
  }
 ],
 "metadata": {
  "kernelspec": {
   "display_name": "Python 3",
   "language": "python",
   "name": "python3"
  },
  "language_info": {
   "codemirror_mode": {
    "name": "ipython",
    "version": 3
   },
   "file_extension": ".py",
   "mimetype": "text/x-python",
   "name": "python",
   "nbconvert_exporter": "python",
   "pygments_lexer": "ipython3",
   "version": "3.8.9"
  },
  "orig_nbformat": 4,
  "vscode": {
   "interpreter": {
    "hash": "31f2aee4e71d21fbe5cf8b01ff0e069b9275f58929596ceb00d14d90e3e16cd6"
   }
  }
 },
 "nbformat": 4,
 "nbformat_minor": 2
}
