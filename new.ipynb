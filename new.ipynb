{
 "cells": [
  {
   "cell_type": "code",
   "execution_count": 34,
   "metadata": {},
   "outputs": [],
   "source": [
    "import os\n",
    "from pygame import mixer\n",
    "from gtts import gTTS\n",
    "\n",
    "file_name = \"some.txt\"\n",
    "file_mp3 = \"my_mp3_file.mp3\"\n",
    "my_string = \"Всем привет! Привет, мир!\"\n",
    "\n",
    "with open(file_name,\"w\") as my_file:\n",
    "    my_file.write(my_string)\n",
    "\n",
    "with open(file_name,\"r\") as my_file:\n",
    "    my_string = my_file.read()\n",
    "\n",
    "# tts = gTTS(text = my_string,lang = \"ru\")\n",
    "# tts.save(file_mp3)\n",
    "\n",
    "\n",
    "mixer.init()\n",
    "mixer.music.load(file_mp3)\n",
    "mixer.music.play()\n",
    "\n",
    "# os.remove(file_mp3)\n",
    "# os.remove(file_name)\n",
    "\n",
    "import pyaudio\n",
    "import speech_recognition as sr\n",
    "from random import choice as chs\n",
    "\n",
    "r = sr.Recognizer()\n",
    "hello_list = [\"hello\",\"привет\",\"Как дела?\"]\n",
    "film_list = [\"Mib\",\"Аватар\",\"Мстители\",\"Чебурашка\",\"Гарри Поттер\",\"заклятие\",\"ерминатор\",\"Iron man\",\"Шерлок холмс\"]\n",
    "while True:\n",
    "    with sr.Microphone(device_index=1) as source:\n",
    "        print(\"Say smthng\")\n",
    "        audio = r.listen(source)\n",
    "    speech = r.recognize_google(audio,language=\"ru_RU\").lower()\n",
    "    print(f\"You say:{speech}\")\n",
    "    if speech == \"привет\":\n",
    "        print(chs(hello_list))\n",
    "    if speech == \"фильм\":\n",
    "        print(chs(film_list))\n",
    "\n"
   ]
  },
  {
   "cell_type": "code",
   "execution_count": null,
   "metadata": {},
   "outputs": [],
   "source": [
    "from pygame import mixer,time\n",
    "from gtts import gTTS\n",
    "import speech_recognition as sr\n",
    "import random\n",
    "\n",
    "r = sr.Recognizer()\n",
    "with sr.Microphone(device_index=1) as sorce:\n",
    "    print(\"listening\")\n",
    "    audio = r.listen(sorce)\n",
    "\n",
    "spech = r.recognize_google(audio, language=\"ru-RU\").lower()\n",
    "print(\"Вы сказали:\",spech)\n",
    "\n",
    "hello = [\"привет\",\"приветствую\",\"ку\",\"здарова\",\"рад вас видеть\", \"приветик\"]\n",
    "\n",
    "\n",
    "file_my = open(\"chgk\\my_file.txt\", \"w\",encoding=\"utf\")\n",
    "file_my.write(spech)\n",
    "\n",
    "rand_hello = random.choice(hello)\n",
    "\n",
    "if spech == \"привет\":\n",
    "    mixer.init()\n",
    "    tts = gTTS(text= rand_hello,lang=\"ru\")\n",
    "    tts.save(\"chgk\\\\aud.mp3\")\n",
    "    mixer.music.load(\"chgk\\\\aud.mp3\")\n",
    "    mixer.music.set_volume(0.5)\n",
    "    mixer.music.play()\n",
    "    print(\"Бот: \", rand_hello)\n",
    "    time.wait(10000)\n",
    "    \n",
    "file_my.close()"
   ]
  },
  {
   "cell_type": "code",
   "execution_count": 37,
   "metadata": {},
   "outputs": [
    {
     "name": "stdout",
     "output_type": "stream",
     "text": [
      "['iMac Microphone', 'iMac Speakers']\n"
     ]
    }
   ],
   "source": [
    "print(sr.Microphone.list_microphone_names())"
   ]
  },
  {
   "cell_type": "code",
   "execution_count": 23,
   "metadata": {},
   "outputs": [
    {
     "name": "stdout",
     "output_type": "stream",
     "text": [
      "Defaulting to user installation because normal site-packages is not writeable\n",
      "Requirement already satisfied: speechrecognition in /Users/pattycha/Library/Python/3.8/lib/python/site-packages (3.9.0)\n",
      "Requirement already satisfied: requests>=2.26.0 in /Users/pattycha/Library/Python/3.8/lib/python/site-packages (from speechrecognition) (2.28.1)\n",
      "Requirement already satisfied: charset-normalizer<3,>=2 in /Users/pattycha/Library/Python/3.8/lib/python/site-packages (from requests>=2.26.0->speechrecognition) (2.1.1)\n",
      "Requirement already satisfied: idna<4,>=2.5 in /Users/pattycha/Library/Python/3.8/lib/python/site-packages (from requests>=2.26.0->speechrecognition) (3.3)\n",
      "Requirement already satisfied: urllib3<1.27,>=1.21.1 in /Users/pattycha/Library/Python/3.8/lib/python/site-packages (from requests>=2.26.0->speechrecognition) (1.26.12)\n",
      "Requirement already satisfied: certifi>=2017.4.17 in /Users/pattycha/Library/Python/3.8/lib/python/site-packages (from requests>=2.26.0->speechrecognition) (2022.6.15)\n",
      "\n",
      "\u001b[1m[\u001b[0m\u001b[34;49mnotice\u001b[0m\u001b[1;39;49m]\u001b[0m\u001b[39;49m A new release of pip is available: \u001b[0m\u001b[31;49m23.0\u001b[0m\u001b[39;49m -> \u001b[0m\u001b[32;49m23.0.1\u001b[0m\n",
      "\u001b[1m[\u001b[0m\u001b[34;49mnotice\u001b[0m\u001b[1;39;49m]\u001b[0m\u001b[39;49m To update, run: \u001b[0m\u001b[32;49m/Applications/Xcode.app/Contents/Developer/usr/bin/python3 -m pip install --upgrade pip\u001b[0m\n",
      "Note: you may need to restart the kernel to use updated packages.\n"
     ]
    }
   ],
   "source": [
    "pip install speechrecognition"
   ]
  }
 ],
 "metadata": {
  "kernelspec": {
   "display_name": "Python 3",
   "language": "python",
   "name": "python3"
  },
  "language_info": {
   "codemirror_mode": {
    "name": "ipython",
    "version": 3
   },
   "file_extension": ".py",
   "mimetype": "text/x-python",
   "name": "python",
   "nbconvert_exporter": "python",
   "pygments_lexer": "ipython3",
   "version": "3.8.9 (default, Oct 26 2021, 07:25:54) \n[Clang 13.0.0 (clang-1300.0.29.30)]"
  },
  "orig_nbformat": 4,
  "vscode": {
   "interpreter": {
    "hash": "31f2aee4e71d21fbe5cf8b01ff0e069b9275f58929596ceb00d14d90e3e16cd6"
   }
  }
 },
 "nbformat": 4,
 "nbformat_minor": 2
}
