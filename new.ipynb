{
 "cells": [
  {
   "cell_type": "code",
   "execution_count": 9,
   "metadata": {},
   "outputs": [],
   "source": [
    "from tkinter import *\n",
    "\n",
    "window = Tk()\n",
    "window.geometry(\"800x600\")\n",
    "\n",
    "canvas = Canvas(window, width = 800, height = 600, bg = \"white\")\n",
    "canvas.pack()\n",
    "canvas.create_rectangle(10,10,110,110,fill=\"yellow\",outline=\"black\")\n",
    "canvas.create_polygon(10,110,60,140,110,110,fill=\"red\",outline=\"black\")\n",
    "canvas.create_polygon(110,10,140,60,110,110,fill=\"red\",outline=\"black\")\n",
    "window.mainloop()"
   ]
  },
  {
   "cell_type": "code",
   "execution_count": 15,
   "metadata": {},
   "outputs": [
    {
     "name": "stdout",
     "output_type": "stream",
     "text": [
      "House number: 12\n",
      "Roof color: red\n",
      "Wall color: green\n"
     ]
    }
   ],
   "source": [
    "from tkinter import *\n",
    "\n",
    "window = Tk()\n",
    "window.geometry(\"800x600\")\n",
    "\n",
    "canvas = Canvas(window, width = 800, height = 600, bg = \"white\")\n",
    "canvas.pack()\n",
    "\n",
    "class House:\n",
    "    count=0\n",
    "    def  __init__(self,roof_color,wall_color,number):\n",
    "        self.number = number\n",
    "        self.roof_color = roof_color\n",
    "        self.wall_color = wall_color\n",
    "        self.height = 130\n",
    "        self.width = 140\n",
    "        self.roof = None\n",
    "        self.wall = None\n",
    "    \n",
    "    def build_house(self, x,y):\n",
    "        House.count+=1\n",
    "        h = self.height\n",
    "        w = self.width\n",
    "\n",
    "        self.roof = canvas.create_polygon(x,y,x+w,y,x+w/2,y-w/2,fill=self.roof_color,outline=\"black\")\n",
    "        self.wall = canvas.create_rectangle(x+20,y,x+120,y+100,fill=self.wall_color,outline=\"black\")\n",
    "\n",
    "    def print_info(self):\n",
    "        print(f\"House number: {self.number}\")\n",
    "        print(f\"Roof color: {self.roof_color}\")\n",
    "        print(f\"Wall color: {self.wall_color}\")\n",
    "    \n",
    "    def __str__(self):\n",
    "        return(f\"House number: {self.number}\\nRoof color: {self.roof_color}\\nWall color: {self.wall_color}\")\n",
    "\n",
    "house_1=House(\"red\",\"green\",12)\n",
    "house_1.build_house(20,50)\n",
    "# house_1.print_info()\n",
    "print(house_1)\n",
    "# house_1.build_house(20,150)\n",
    "# house_1.build_house(220,150)\n",
    "# print(house_1.roof_color)\n",
    "\n",
    "window.mainloop()"
   ]
  },
  {
   "cell_type": "code",
   "execution_count": 7,
   "metadata": {},
   "outputs": [],
   "source": [
    "from tkinter import *\n",
    "\n",
    "window = Tk()\n",
    "window.geometry(\"800x600\")\n",
    "\n",
    "canvas = Canvas(window, width = 800, height = 600, bg = \"white\")\n",
    "canvas.pack()\n",
    "canvas.create_rectangle(20,20,40,40,fill=\"yellow\",outline=\"black\")\n",
    "canvas.create_rectangle(50,50,90,90,fill=\"black\",outline=\"black\")\n",
    "canvas.create_rectangle(100,100,160,160,fill=\"red\",outline=\"black\")\n",
    "\n",
    "window.mainloop()"
   ]
  },
  {
   "cell_type": "code",
   "execution_count": null,
   "metadata": {},
   "outputs": [],
   "source": [
    "from tkinter import *\n",
    "\n",
    "window = Tk()\n",
    "window.geometry(\"800x600\")\n",
    "\n",
    "canvas = Canvas(window, width = 800, height = 600, bg = \"white\")\n",
    "canvas.pack()\n",
    "canvas.create_rectangle(20,20,40,40,fill=\"yellow\",outline=\"black\")\n",
    "canvas.create_rectangle(50,50,90,90,fill=\"black\",outline=\"black\")\n",
    "canvas.create_rectangle(100,100,160,160,fill=\"red\",outline=\"black\")\n",
    "\n",
    "window.mainloop()"
   ]
  },
  {
   "cell_type": "code",
   "execution_count": 15,
   "metadata": {},
   "outputs": [],
   "source": [
    "from tkinter import *\n",
    "\n",
    "window = Tk()\n",
    "window.geometry('800x600')\n",
    "\n",
    "canvas = Canvas(window, width=800, height=600, bg='white')\n",
    "canvas.pack()\n",
    "\n",
    "canvas.create_rectangle(100,100,200,200, fill='pink',outline='black')\n",
    "canvas.create_polygon(90,100,150,30,210,100,fill='red',outline='black')\n",
    "canvas.create_rectangle(130,120,160,150,fill='blue',outline='black')\n",
    "\n",
    "window.mainloop()"
   ]
  },
  {
   "cell_type": "code",
   "execution_count": 1,
   "metadata": {},
   "outputs": [],
   "source": [
    "from tkinter import *\n",
    "\n",
    "window = Tk()\n",
    "window.geometry(\"800x600\")\n",
    "\n",
    "canvas = Canvas(window, width=800, height=600,bg='white')\n",
    "canvas.pack()\n",
    "canvas.create_rectangle(60,60,120,120,fill='red', outline=\"black\")\n",
    "canvas.create_polygon(40,60,100,30,160,60,fill='yellow',outline='Black')\n",
    "canvas.create_rectangle(100,100,90,90,fill=\"purple\", outline='black')\n",
    "\n",
    "\n",
    "window.mainloop()"
   ]
  },
  {
   "cell_type": "code",
   "execution_count": 11,
   "metadata": {},
   "outputs": [],
   "source": [
    "from tkinter import *\n",
    "\n",
    "window = Tk()\n",
    "window.geometry('800x600')\n",
    "\n",
    "canvas = Canvas(window,width=800,height=600,bg = 'white')\n",
    "canvas.pack()\n",
    "\n",
    "canvas.create_rectangle(20,20,40,40,fill=\"yellow\",outline=\"black\")\n",
    "canvas.create_rectangle(40,40,80,80,fill=\"red\",outline=\"black\")\n",
    "canvas.create_rectangle(80,80,140,140,fill=\"blue\",outline=\"black\")\n",
    "window.mainloop()"
   ]
  },
  {
   "cell_type": "code",
   "execution_count": 12,
   "metadata": {},
   "outputs": [],
   "source": [
    "from tkinter import *\n",
    "\n",
    "window = Tk()\n",
    "window.geometry(\"800x600\")\n",
    "\n",
    "canvas = Canvas(window, width=800, height=600,bg='white')\n",
    "canvas.pack()\n",
    "canvas.create_rectangle(20,20,120,120,fill='red', outline='black')\n",
    "canvas.create_rectangle(220,220,320,320,fill='yellow', outline='black')\n",
    "canvas.create_rectangle(220,220,120,120,fill='purple', outline='black')\n",
    "window.mainloop()"
   ]
  },
  {
   "cell_type": "code",
   "execution_count": 13,
   "metadata": {},
   "outputs": [],
   "source": [
    "from tkinter import *\n",
    "\n",
    "window = Tk()\n",
    "window.geometry(\"800x600\")\n",
    "canvas = Canvas(window, width=800, height=600, bg = 'white')\n",
    "canvas.pack()\n",
    "canvas.create_rectangle(10, 10, 30, 30, fill = 'yellow', outline = 'black')\n",
    "canvas.create_rectangle(50, 50, 90, 90, fill = 'red', outline = 'black')\n",
    "canvas.create_rectangle(110, 110, 170, 170, fill = 'green', outline = 'black')\n",
    "window.mainloop()"
   ]
  },
  {
   "cell_type": "code",
   "execution_count": 14,
   "metadata": {},
   "outputs": [],
   "source": [
    "from tkinter import *\n",
    "\n",
    "window = Tk()\n",
    "window.geometry(\"800x600\")\n",
    "canvas = Canvas(window, width=800, height=600, bg = 'white')\n",
    "canvas.pack()\n",
    "canvas.create_rectangle(10, 10, 30, 30, fill = 'yellow', outline = 'black')\n",
    "canvas.create_rectangle(50, 50, 90, 90, fill = 'red', outline = 'black')\n",
    "canvas.create_rectangle(110, 110, 170, 170, fill = 'green', outline = 'black')\n",
    "window.mainloop()"
   ]
  },
  {
   "cell_type": "code",
   "execution_count": 1,
   "metadata": {},
   "outputs": [],
   "source": [
    "from tkinter import *\n",
    "window = Tk()\n",
    "window.geometry(\"800x600\")\n",
    "canvas = Canvas(window, width=800, height=600,bg='white')\n",
    "canvas.pack()\n",
    "canvas.create_rectangle(10,10,110,110,fill=\"yellow\",outline=\"black\")\n",
    "canvas.create_rectangle(200,200,220,220,fill='brown',outline='black')\n",
    "canvas.create_rectangle(300,300,340,340, fill='pink', outline='black')\n",
    "canvas.create_rectangle(400,400,460,460, fill='green', outline='black')\n",
    "window.mainloop()"
   ]
  },
  {
   "cell_type": "code",
   "execution_count": null,
   "metadata": {},
   "outputs": [],
   "source": [
    "\n",
    "from tkinter import *\n",
    "\n",
    "window = Tk()\n",
    "window.geometry(\"800x600\")\n",
    "\n",
    "canvas = Canvas(window, width = 800, height = 600, bg = \"white\")\n",
    "canvas.pack()\n",
    "canvas.create_rectangle(20,20,40,40,fill=\"yellow\",outline=\"black\")\n",
    "canvas.create_rectangle(50,50,90,90,fill=\"black\",outline=\"black\")\n",
    "canvas.create_rectangle(100,100,160,160,fill=\"red\",outline=\"black\")\n",
    "\n",
    "window.mainloop()"
   ]
  }
 ],
 "metadata": {
  "kernelspec": {
   "display_name": "Python 3",
   "language": "python",
   "name": "python3"
  },
  "language_info": {
   "codemirror_mode": {
    "name": "ipython",
    "version": 3
   },
   "file_extension": ".py",
   "mimetype": "text/x-python",
   "name": "python",
   "nbconvert_exporter": "python",
   "pygments_lexer": "ipython3",
   "version": "3.8.9"
  },
  "orig_nbformat": 4,
  "vscode": {
   "interpreter": {
    "hash": "31f2aee4e71d21fbe5cf8b01ff0e069b9275f58929596ceb00d14d90e3e16cd6"
   }
  }
 },
 "nbformat": 4,
 "nbformat_minor": 2
}
