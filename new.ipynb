{
 "cells": [
  {
   "cell_type": "code",
   "execution_count": 1,
   "metadata": {},
   "outputs": [
    {
     "name": "stdout",
     "output_type": "stream",
     "text": [
      "hello hello hello hello hello \n"
     ]
    }
   ],
   "source": [
    "s = \"hello \" * 5\n",
    "print(s)"
   ]
  },
  {
   "cell_type": "code",
   "execution_count": 5,
   "metadata": {},
   "outputs": [],
   "source": [
    "import requests\n",
    "from bs4 import BeautifulSoup\n",
    "from datetime import datetime\n",
    "import vk_api\n",
    "\n",
    "with open(\"key_vk\") as file:\n",
    "    token = file.read()\n",
    "\n",
    "vk = vk_api.VkApi(token = token)\n",
    "\n",
    "url = \"http://www.cbr.ru/scripts/XML_daily.asp?\"\n",
    "today = datetime.today()\n",
    "today = today.strftime(\"%d/%m/%Y\")\n",
    "payload = {\"date_req\": today}\n",
    "response = requests.get(url, params=payload)\n",
    "xml = BeautifulSoup(response.content, 'lxml')\n",
    "\n",
    "def get_course(currency):\n",
    "    return str(xml.find(\"valute\", {'id': currency}).value.text)\n",
    "\n",
    "\n",
    "messages = vk.method(\"messages.getConversations\", {\"count\": 20, \"filter\": \"unanswered\"})\n",
    "while True:\n",
    "    messages = vk.method(\"messages.getConversations\",{\"count\":20,\"filter\":\"unanswered\"})\n",
    "    if messages['count']>0:\n",
    "        user_id = messages['items'][0]['last_message']['from_id']\n",
    "        message_id = messages['items'][0]['last_message']['id']\n",
    "        message_text = messages['items'][0]['last_message']['text']\n",
    "        if message_text.lower() == \"курс\":\n",
    "            vk.method(\"messages.send\", {\"peer_id\": user_id, \"random_id\": message_id, \"message\": get_course(\"R01235\")})\n",
    "        else:\n",
    "            vk.method(\"messages.send\", {\"peer_id\": user_id, \"random_id\": message_id, \"message\":  \"неизвестная команда\"})\n",
    "            "
   ]
  },
  {
   "cell_type": "code",
   "execution_count": 16,
   "metadata": {},
   "outputs": [
    {
     "name": "stdout",
     "output_type": "stream",
     "text": [
      "Defaulting to user installation because normal site-packages is not writeable\n",
      "Collecting lxml\n",
      "  Using cached lxml-4.9.2.tar.gz (3.7 MB)\n",
      "  Preparing metadata (setup.py) ... \u001b[?25ldone\n",
      "\u001b[?25hInstalling collected packages: lxml\n",
      "\u001b[33m  DEPRECATION: lxml is being installed using the legacy 'setup.py install' method, because it does not have a 'pyproject.toml' and the 'wheel' package is not installed. pip 23.1 will enforce this behaviour change. A possible replacement is to enable the '--use-pep517' option. Discussion can be found at https://github.com/pypa/pip/issues/8559\u001b[0m\u001b[33m\n",
      "\u001b[0m  Running setup.py install for lxml ... \u001b[?25ldone\n",
      "\u001b[?25hSuccessfully installed lxml-4.9.2\n",
      "Note: you may need to restart the kernel to use updated packages.\n"
     ]
    }
   ],
   "source": [
    "pip install lxml"
   ]
  },
  {
   "cell_type": "code",
   "execution_count": null,
   "metadata": {},
   "outputs": [],
   "source": []
  }
 ],
 "metadata": {
  "kernelspec": {
   "display_name": "Python 3",
   "language": "python",
   "name": "python3"
  },
  "language_info": {
   "codemirror_mode": {
    "name": "ipython",
    "version": 3
   },
   "file_extension": ".py",
   "mimetype": "text/x-python",
   "name": "python",
   "nbconvert_exporter": "python",
   "pygments_lexer": "ipython3",
   "version": "3.11.1"
  },
  "orig_nbformat": 4
 },
 "nbformat": 4,
 "nbformat_minor": 2
}
