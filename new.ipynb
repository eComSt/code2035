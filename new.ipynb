{
 "cells": [
  {
   "cell_type": "code",
   "execution_count": 16,
   "metadata": {},
   "outputs": [
    {
     "name": "stdout",
     "output_type": "stream",
     "text": [
      "79,5654 рублей за 1 евро\n",
      "74,2077 рублей за 1 доллар\n",
      "90,2069 рублей за 1 Фунт стерлингов Соединенного королевства\n",
      "20,9846 рублей за 100 Венгерских форинтов\n",
      "57,8753 рублей за 1000 Вон Республики Корея\n"
     ]
    }
   ],
   "source": [
    "import requests\n",
    "from datetime import datetime as dt\n",
    "from bs4 import BeautifulSoup as bs\n",
    "today = dt.today()\n",
    "today = today.strftime(\"%d/%m/%Y\")\n",
    "payload = {\"date_req\":today}\n",
    "url = \"http://www.cbr.ru/scripts/XML_daily.asp\"\n",
    "responce = requests.get(url,params=payload)\n",
    "xml = bs(responce.content,\"lxml\")\n",
    "def getCourse(id):\n",
    "    return xml.find(\"valute\", {\"id\": id}).value.text\n",
    "print(getCourse(\"R01239\"), \"рублей за 1 евро\")\n",
    "print(getCourse(\"R01235\"), \"рублей за 1 доллар\")\n",
    "print(getCourse(\"R01035\"), \"рублей за 1 Фунт стерлингов Соединенного королевства\")\n",
    "print(getCourse(\"R01135\"), \"рублей за 100 Венгерских форинтов\")\n",
    "print(getCourse(\"R01815\"), \"рублей за 1000 Вон Республики Корея\")\n",
    "\n",
    "\n"
   ]
  },
  {
   "cell_type": "code",
   "execution_count": 38,
   "metadata": {},
   "outputs": [
    {
     "name": "stdout",
     "output_type": "stream",
     "text": [
      "frozenset({1, 2, 3, 4, 5, 6, 7, 8, 9})\n",
      "42\n"
     ]
    }
   ],
   "source": [
    "b=[1, 2, 3, 4, 5, 6, 7, 8, 9,1, 2, 3, 4, 5, 6, 7, 8, 9]\n",
    "a=frozenset(b)\n",
    "c = {a:\"42\"}\n",
    "print(a)\n",
    "print(c[a])\n"
   ]
  },
  {
   "cell_type": "code",
   "execution_count": 41,
   "metadata": {},
   "outputs": [],
   "source": [
    "with open(\"file.txt\",\"w\") as my_file:\n",
    "    my_file.write(\"Hello World\")"
   ]
  },
  {
   "cell_type": "code",
   "execution_count": 43,
   "metadata": {},
   "outputs": [
    {
     "name": "stdout",
     "output_type": "stream",
     "text": [
      "Hello World\n"
     ]
    }
   ],
   "source": [
    "with open(\"file.txt\",\"r\") as my_file:\n",
    "    txt=my_file.read()\n",
    "    print(txt)\n"
   ]
  }
 ],
 "metadata": {
  "kernelspec": {
   "display_name": "Python 3",
   "language": "python",
   "name": "python3"
  },
  "language_info": {
   "codemirror_mode": {
    "name": "ipython",
    "version": 3
   },
   "file_extension": ".py",
   "mimetype": "text/x-python",
   "name": "python",
   "nbconvert_exporter": "python",
   "pygments_lexer": "ipython3",
   "version": "3.8.9"
  },
  "orig_nbformat": 4,
  "vscode": {
   "interpreter": {
    "hash": "31f2aee4e71d21fbe5cf8b01ff0e069b9275f58929596ceb00d14d90e3e16cd6"
   }
  }
 },
 "nbformat": 4,
 "nbformat_minor": 2
}
