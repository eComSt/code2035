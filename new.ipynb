{
 "cells": [
  {
   "cell_type": "code",
   "execution_count": null,
   "metadata": {},
   "outputs": [],
   "source": [
    "def abc(*a,**b):\n",
    "    print(a)\n",
    "    print(b)\n",
    "abc(1,2,3,f=6,g=\"sdfgsdg\",w=0.4)"
   ]
  },
  {
   "cell_type": "code",
   "execution_count": 40,
   "metadata": {},
   "outputs": [
    {
     "name": "stdout",
     "output_type": "stream",
     "text": [
      "list generation time of work:0.42410898208618164\n",
      "usupported operation\n",
      "hello\n"
     ]
    }
   ],
   "source": [
    "import time\n",
    "from types import TracebackType\n",
    "class Benchmark:\n",
    "    def __init__(self,name):\n",
    "        self.init=None\n",
    "        self.name = name\n",
    "\n",
    "    def __enter__(self):\n",
    "        self.start = time.time()\n",
    "        return \"Hello, im context manager!\"\n",
    "\n",
    "    def __exit__(self,exc_type,exc_val,exc_tb: TracebackType):\n",
    "        print(f\"{self.name} time of work:{time.time()-self.start}\")\n",
    "        if exc_type is TypeError:\n",
    "            print(\"usupported operation\")\n",
    "            return True\n",
    "\n",
    "with Benchmark(\"list generation\") as f:\n",
    "    my_list = [x for x in range(10_000_000)]\n",
    "    my_list -=\"s\"\n",
    "\n"
   ]
  },
  {
   "cell_type": "code",
   "execution_count": 47,
   "metadata": {},
   "outputs": [
    {
     "name": "stdout",
     "output_type": "stream",
     "text": [
      "1\n",
      "2\n",
      "3\n",
      "4\n",
      "5\n"
     ]
    }
   ],
   "source": [
    "my_list = [1,2,3,4,5,6]\n",
    "iterator = iter(my_list)\n",
    "print(next(iterator))\n",
    "print(next(iterator))\n",
    "print(next(iterator))\n",
    "print(next(iterator))\n",
    "print(next(iterator))"
   ]
  },
  {
   "cell_type": "code",
   "execution_count": 48,
   "metadata": {},
   "outputs": [
    {
     "name": "stdout",
     "output_type": "stream",
     "text": [
      "6\n"
     ]
    }
   ],
   "source": [
    "for i in iterator:\n",
    "    print(i)"
   ]
  },
  {
   "cell_type": "code",
   "execution_count": 87,
   "metadata": {},
   "outputs": [
    {
     "name": "stdout",
     "output_type": "stream",
     "text": [
      "<__main__.RandomIter object at 0x10c595d50>\n",
      "30\n",
      "19\n",
      "85\n",
      "72\n",
      "6\n",
      "49\n",
      "76\n",
      "68\n",
      "75\n",
      "56\n"
     ]
    }
   ],
   "source": [
    "import random\n",
    "\n",
    "class RandomIter:\n",
    "    def __init__(self,num):\n",
    "        self.limit = num\n",
    "        self.num = num\n",
    "    def __iter__(self):\n",
    "        self.num = self.limit\n",
    "        return self\n",
    "    def __next__(self):\n",
    "        if self.num == 0:\n",
    "            raise StopIteration\n",
    "        self.num -= 1\n",
    "        return random.randint(0,100)\n",
    "\n",
    "r_i = RandomIter(10)\n",
    "print(iter(r_i))\n",
    "for i in r_i:\n",
    "    print(i)"
   ]
  },
  {
   "cell_type": "code",
   "execution_count": 93,
   "metadata": {},
   "outputs": [
    {
     "name": "stdout",
     "output_type": "stream",
     "text": [
      "86\n",
      "54\n",
      "40\n",
      "7\n",
      "98\n",
      "57\n",
      "71\n",
      "26\n",
      "87\n",
      "61\n"
     ]
    }
   ],
   "source": [
    "for i in r_i:\n",
    "    print(i)"
   ]
  }
 ],
 "metadata": {
  "kernelspec": {
   "display_name": "Python 3",
   "language": "python",
   "name": "python3"
  },
  "language_info": {
   "codemirror_mode": {
    "name": "ipython",
    "version": 3
   },
   "file_extension": ".py",
   "mimetype": "text/x-python",
   "name": "python",
   "nbconvert_exporter": "python",
   "pygments_lexer": "ipython3",
   "version": "3.11.1"
  },
  "orig_nbformat": 4
 },
 "nbformat": 4,
 "nbformat_minor": 2
}
