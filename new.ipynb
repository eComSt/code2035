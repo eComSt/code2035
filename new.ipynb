{
 "cells": [
  {
   "cell_type": "code",
   "execution_count": 15,
   "metadata": {},
   "outputs": [
    {
     "name": "stdout",
     "output_type": "stream",
     "text": [
      "2023-02-21 21:30:52.604609\n",
      "79,1330 рублей за 1 евро\n",
      "74,0432 рублей за 1 доллар\n",
      "88,8370 рублей за 1 Фунт стерлингов Соединенного королевства\n",
      "20,6111 рублей за 100 Венгерских форинтов\n",
      "57,1983 рублей за 1000 Вон Республики Корея\n"
     ]
    },
    {
     "name": "stderr",
     "output_type": "stream",
     "text": [
      "/Users/pattycha/Library/Python/3.8/lib/python/site-packages/bs4/builder/__init__.py:545: XMLParsedAsHTMLWarning: It looks like you're parsing an XML document using an HTML parser. If this really is an HTML document (maybe it's XHTML?), you can ignore or filter this warning. If it's XML, you should know that using an XML parser will be more reliable. To parse this document as XML, make sure you have the lxml package installed, and pass the keyword argument `features=\"xml\"` into the BeautifulSoup constructor.\n",
      "  warnings.warn(\n"
     ]
    },
    {
     "data": {
      "text/plain": [
       "'For 100 Доллар США you get 7404.32 Российский рубль'"
      ]
     },
     "execution_count": 15,
     "metadata": {},
     "output_type": "execute_result"
    }
   ],
   "source": [
    "import requests\n",
    "from datetime import datetime as dt\n",
    "from bs4 import BeautifulSoup as bs\n",
    "today = dt.today()\n",
    "today = today.strftime(\"%d/%m/%Y\")\n",
    "payload = {\"date_req\":today}\n",
    "url = \"http://www.cbr.ru/scripts/XML_daily.asp\"\n",
    "responce = requests.get(url,params=payload)\n",
    "\n",
    "def get_val(ch):\n",
    "    if ch == \"RUR\": return (\"Российский рубль\",1,1)\n",
    "    if ch not in responce.text: return False\n",
    "    a = responce.text.split(ch)[1]\n",
    "    a = a.split(\"</Valute>\")[0]\n",
    "    nom = a.split(\"<Nominal>\")[1].split(\"</Nominal>\")[0]\n",
    "    name = a.split(\"<Name>\")[1].split(\"</Name>\")[0]\n",
    "    val = a.split(\"<Value>\")[1].split(\"</Value>\")[0]\n",
    "    val = val.replace(\",\",\".\") \n",
    "    return (name, int(nom),float(val))\n",
    "\n",
    "def course(valute_from, valute_to, amount): \n",
    "    valute_from = get_val(valute_from)\n",
    "    valute_to = get_val(valute_to)\n",
    "    if valute_to!=False and valute_from!=False:\n",
    "        a = amount* valute_from[2]/valute_from[1]\n",
    "        b = a*valute_to[1]/valute_to[2]\n",
    "        return f\"For {amount} {valute_from[0]} you get {b} {valute_to[0]}\"\n",
    "    else:\n",
    "        return \"Valute not found\"\n",
    "\n",
    "xml = bs(responce.content,\"lxml\")\n",
    "def getCourse(id):\n",
    "    return xml.find(\"valute\", {\"id\": id}).value.text\n",
    "\n",
    "print(getCourse(\"R01239\"), \"рублей за 1 евро\")\n",
    "print(getCourse(\"R01235\"), \"рублей за 1 доллар\")\n",
    "print(getCourse(\"R01035\"), \"рублей за 1 Фунт стерлингов Соединенного королевства\")\n",
    "print(getCourse(\"R01135\"), \"рублей за 100 Венгерских форинтов\")\n",
    "print(getCourse(\"R01815\"), \"рублей за 1000 Вон Республики Корея\")\n",
    "course(\"USD\",\"RUR\",100)\n",
    "\n",
    "\n"
   ]
  },
  {
   "cell_type": "code",
   "execution_count": null,
   "metadata": {},
   "outputs": [],
   "source": [
    "valute_from = \"EUR\" \n",
    "valute_to = \"USD\" \n",
    "amount = int(input(\"Enter the amount to be converted: \")) \n",
    " \n",
    "def course(valute_from, valute_to, amount): \n",
    "    rates = { \n",
    "        \"RUR\": 1.0, \n",
    "        \"USD\": 63.0, \n",
    "        \"EUR\": 75.0 \n",
    "    } \n",
    "     \n",
    "    if valute_from == \"RUR\": \n",
    "        return amount / rates[valute_to] \n",
    "    else: \n",
    "        return amount / rates[valute_from] * rates[valute_to] \n",
    " \n",
    "print(\"Converted amount:\", course(valute_from, valute_to, amount))"
   ]
  },
  {
   "cell_type": "code",
   "execution_count": 38,
   "metadata": {},
   "outputs": [
    {
     "name": "stdout",
     "output_type": "stream",
     "text": [
      "frozenset({1, 2, 3, 4, 5, 6, 7, 8, 9})\n",
      "42\n"
     ]
    }
   ],
   "source": [
    "b=[1, 2, 3, 4, 5, 6, 7, 8, 9,1, 2, 3, 4, 5, 6, 7, 8, 9]\n",
    "a=frozenset(b)\n",
    "c = {a:\"42\"}\n",
    "print(a)\n",
    "print(c[a])\n"
   ]
  },
  {
   "cell_type": "code",
   "execution_count": 41,
   "metadata": {},
   "outputs": [],
   "source": [
    "with open(\"file.txt\",\"w\") as my_file:\n",
    "    my_file.write(\"Hello World\")"
   ]
  },
  {
   "cell_type": "code",
   "execution_count": 43,
   "metadata": {},
   "outputs": [
    {
     "name": "stdout",
     "output_type": "stream",
     "text": [
      "Hello World\n"
     ]
    }
   ],
   "source": [
    "with open(\"file.txt\",\"r\") as my_file:\n",
    "    txt=my_file.read()\n",
    "    print(txt)\n"
   ]
  }
 ],
 "metadata": {
  "kernelspec": {
   "display_name": "Python 3",
   "language": "python",
   "name": "python3"
  },
  "language_info": {
   "codemirror_mode": {
    "name": "ipython",
    "version": 3
   },
   "file_extension": ".py",
   "mimetype": "text/x-python",
   "name": "python",
   "nbconvert_exporter": "python",
   "pygments_lexer": "ipython3",
   "version": "3.8.9"
  },
  "orig_nbformat": 4,
  "vscode": {
   "interpreter": {
    "hash": "31f2aee4e71d21fbe5cf8b01ff0e069b9275f58929596ceb00d14d90e3e16cd6"
   }
  }
 },
 "nbformat": 4,
 "nbformat_minor": 2
}
