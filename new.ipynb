{
 "cells": [
  {
   "cell_type": "code",
   "execution_count": null,
   "metadata": {},
   "outputs": [],
   "source": [
    "reason = (6,7,8,9,10,11,12)\n"
   ]
  },
  {
   "cell_type": "code",
   "execution_count": null,
   "metadata": {},
   "outputs": [],
   "source": [
    "for i in range(1,20,2): \n",
    "    if i in reason:\n",
    "        print(i)"
   ]
  },
  {
   "cell_type": "code",
   "execution_count": 15,
   "metadata": {},
   "outputs": [
    {
     "name": "stdout",
     "output_type": "stream",
     "text": [
      "unsupported type for add\n",
      "Videocard, ценой 1000, весом 0.5 кг\n"
     ]
    }
   ],
   "source": [
    "class Item:\n",
    "    def __init__(self,name,price,weight):\n",
    "        self.name = name\n",
    "        self.price = price\n",
    "        self.weight = weight\n",
    "    def __add__(self,other):\n",
    "        if isinstance(other, Item):\n",
    "            item_add_result = Item(f\"{self.name}, {other.name}\",self.price+other.price,self.weight+other.weight)\n",
    "        elif isinstance(other, (int, float)):\n",
    "            item_add_result = self.price + other\n",
    "        else:\n",
    "            print(\"Warning: unsupported type for add\") \n",
    "            item_add_result = self\n",
    "        return item_add_result\n",
    "    def __str__(self):\n",
    "        return f\"{self.name}, ценой {self.price}, весом {self.weight} кг\"\n",
    "\n",
    "\n",
    "item_1 = Item(\"Videocard\",1000,0.5)\n",
    "item_2 = Item(\"Minitor\",500,5)\n",
    "total_price = item_1 + [1,2,4,4]\n",
    "print(total_price)"
   ]
  }
 ],
 "metadata": {
  "kernelspec": {
   "display_name": "Python 3",
   "language": "python",
   "name": "python3"
  },
  "language_info": {
   "codemirror_mode": {
    "name": "ipython",
    "version": 3
   },
   "file_extension": ".py",
   "mimetype": "text/x-python",
   "name": "python",
   "nbconvert_exporter": "python",
   "pygments_lexer": "ipython3",
   "version": "3.11.1"
  },
  "orig_nbformat": 4
 },
 "nbformat": 4,
 "nbformat_minor": 2
}
