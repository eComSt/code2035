{
 "cells": [
  {
   "cell_type": "code",
   "execution_count": 2,
   "metadata": {},
   "outputs": [],
   "source": [
    "from tkinter import *\n",
    "import time\n",
    "def close(event=None):\n",
    "    window.destroy()\n",
    "def on_close():\n",
    "    count_start()\n",
    "def count_start():\n",
    "    if count_text[\"text\"]>0:\n",
    "        count_text[\"text\"]-=1\n",
    "        count_text.place(x=250,y=25,width=400,height=100)\n",
    "        window.after(1000,count_start)\n",
    "    else:\n",
    "        width = window.winfo_screenwidth()\n",
    "        height = window.winfo_screenheight()\n",
    "        window.geometry(str(width)+\"x\"+str(height))\n",
    "        photo = PhotoImage(file=\"/Users/pattycha/code2035-2/skelet.gif\")\n",
    "        label = Label(image=photo,bg=\"black\")\n",
    "        label.image = photo\n",
    "        label.place(width=width,height=height,x=0,y=0)\n",
    "\n",
    "window = Tk()\n",
    "window.geometry(\"900x300\")\n",
    "window.resizable(width=False,height=False)\n",
    "window.config(bg='black')\n",
    "text = Label(text=\"Ваш ПК ЗАРАЖЕН\",fg=\"green\",bg=\"black\",font=(\"Courier New\",34))\n",
    "text.place(x=100,y=100,width=700,height=100)\n",
    "count_text = Label(text = 3,fg=\"green\",bg=\"black\",font=(\"Courier New\",34))\n",
    "window.protocol(\"WM_DELETE_WINDOW\",on_close)\n",
    "window.bind(\"<Escape>\",close)\n",
    "window.mainloop()"
   ]
  },
  {
   "cell_type": "code",
   "execution_count": 6,
   "metadata": {},
   "outputs": [],
   "source": [
    "from tkinter import *\n",
    "import time\n",
    "def close(event=None):\n",
    "    window.destroy()\n",
    "def on_close():\n",
    "    count_start()\n",
    "def count_start():\n",
    "    if count_text[\"text\"]>0:\n",
    "        count_text[\"text\"]-=1\n",
    "        count_text.place(x=250,y=25,width=400,height=100)\n",
    "        window.after(1000,count_start)\n",
    "    else:\n",
    "        window.wm_attributes('-fullscreen',True)\n",
    "        window.overrideredirect(True)\n",
    "        window.attributes('-topmost',True)\n",
    "        photo = PhotoImage(file=\"/Users/pattycha/code2035-2/skelet.gif\")\n",
    "        label = Label(image=photo,bg=\"black\")\n",
    "        label.image = photo\n",
    "        label.place(x=0,y=0)\n",
    "\n",
    "window = Tk()\n",
    "window.geometry(\"900x300\")\n",
    "window.resizable(width=False,height=False)\n",
    "window.config(bg='black')\n",
    "text = Label(text=\"Ваш ПК ЗАРАЖЕН\",fg=\"green\",bg=\"black\",font=(\"Courier New\",34))\n",
    "text.place(x=100,y=100,width=700,height=100)\n",
    "count_text = Label(text = 3,fg=\"green\",bg=\"black\",font=(\"Courier New\",34))\n",
    "window.protocol(\"WM_DELETE_WINDOW\",on_close)\n",
    "window.bind(\"<Escape>\",close)\n",
    "window.mainloop()"
   ]
  },
  {
   "cell_type": "code",
   "execution_count": null,
   "metadata": {},
   "outputs": [],
   "source": [
    "from tkinter import *\n",
    "import time\n",
    "from PIL import ImageTk, Image\n",
    "def close(event=None):\n",
    "    window.destroy()\n",
    "def on_close():\n",
    "    count_start()\n",
    "def count_start():\n",
    "    if count_text[\"text\"]>0:\n",
    "        count_text[\"text\"]-=1\n",
    "        count_text.place(x=250,y=25,width=400,height=100)\n",
    "        window.after(1000,count_start)\n",
    "    else:\n",
    "        window.wm_attributes('-fullscreen',True)\n",
    "        window.overrideredirect(True)\n",
    "        window.attributes('-topmost',True)\n",
    "        photo = Image.open(\"/Users/pattycha/lessons/8 урок/123.jpg\")\n",
    "        image = ImageTk.PhotoImage(photo)\n",
    "        label = Label(image=image,bg=\"black\")\n",
    "        label.image = photo\n",
    "        label.place(x=0,y=0)\n",
    "\n",
    "window = Tk()\n",
    "window.geometry(\"900x300\")\n",
    "window.resizable(width=False,height=False)\n",
    "window.config(bg='black')\n",
    "text = Label(text=\"Ваш ПК ЗАРАЖЕН\",fg=\"green\",bg=\"black\",font=(\"Courier New\",34))\n",
    "text.place(x=100,y=100,width=700,height=100)\n",
    "count_text = Label(text = 3,fg=\"green\",bg=\"black\",font=(\"Courier New\",34))\n",
    "window.protocol(\"WM_DELETE_WINDOW\",on_close)\n",
    "window.bind(\"<Escape>\",close)\n",
    "window.mainloop()"
   ]
  }
 ],
 "metadata": {
  "kernelspec": {
   "display_name": "Python 3",
   "language": "python",
   "name": "python3"
  },
  "language_info": {
   "codemirror_mode": {
    "name": "ipython",
    "version": 3
   },
   "file_extension": ".py",
   "mimetype": "text/x-python",
   "name": "python",
   "nbconvert_exporter": "python",
   "pygments_lexer": "ipython3",
   "version": "3.8.9 (default, Oct 26 2021, 07:25:54) \n[Clang 13.0.0 (clang-1300.0.29.30)]"
  },
  "orig_nbformat": 4,
  "vscode": {
   "interpreter": {
    "hash": "31f2aee4e71d21fbe5cf8b01ff0e069b9275f58929596ceb00d14d90e3e16cd6"
   }
  }
 },
 "nbformat": 4,
 "nbformat_minor": 2
}
