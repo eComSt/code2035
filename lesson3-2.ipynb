{
 "cells": [
  {
   "cell_type": "code",
   "execution_count": 104,
   "metadata": {},
   "outputs": [],
   "source": [
    "from random import *\n",
    "#import random\n",
    "facts = ['Хамелеоны могут двигать глазами в разных направлениях одновременно.',\n",
    "   'Змеи видят через веки.',\n",
    "   'У коал отпечатки пальцев похожи на человеческие.',\n",
    "   'Белые медведи-левши.']\n",
    "\n"
   ]
  },
  {
   "cell_type": "code",
   "execution_count": 114,
   "metadata": {},
   "outputs": [
    {
     "name": "stdout",
     "output_type": "stream",
     "text": [
      "3\n",
      "6\n",
      "9\n",
      "9\n"
     ]
    }
   ],
   "source": [
    "\n",
    "l=range(3,10,3)\n",
    "s=\"hello, world!\"\n",
    "for i in l:\n",
    "    print(i)\n",
    "print(i)"
   ]
  },
  {
   "cell_type": "code",
   "execution_count": 118,
   "metadata": {},
   "outputs": [
    {
     "name": "stdout",
     "output_type": "stream",
     "text": [
      "6.3\n"
     ]
    }
   ],
   "source": [
    "deposit=0.3*sum([int(input(f\"dohod за {i+1} mesiac\")) for i in range(6)])\n",
    "print(dep)\n"
   ]
  },
  {
   "cell_type": "code",
   "execution_count": 120,
   "metadata": {},
   "outputs": [
    {
     "name": "stdout",
     "output_type": "stream",
     "text": [
      "[0, 1, 2, 3, 4, 5, 6, 7, 8, 9, 10, 11, 12, 13, 14, 15, 16, 17, 18, 19, 20, 21, 22, 23, 24, 25, 26, 27, 28, 29, 30, 31, 32, 33, 34, 35, 36, 37, 38, 39, 40, 41, 42, 43, 44, 45, 46, 47, 48, 49, 50, 51, 52, 53, 54, 55, 56, 57, 58, 59, 60, 61, 62, 63, 64, 65, 66, 67, 68, 69, 70, 71, 72, 73, 74, 75, 76, 77, 78, 79, 80, 81, 82, 83, 84, 85, 86, 87, 88, 89, 90, 91, 92, 93, 94, 95, 96, 97, 98, 99]\n"
     ]
    }
   ],
   "source": [
    "lst=[]\n",
    "for i in range(100):\n",
    "    lst.append(i)\n",
    "print(lst)"
   ]
  },
  {
   "cell_type": "code",
   "execution_count": 134,
   "metadata": {},
   "outputs": [
    {
     "name": "stdout",
     "output_type": "stream",
     "text": [
      "4 5 6 3\n"
     ]
    }
   ],
   "source": [
    "import random\n",
    "animals=[]\n",
    "prop=[]\n",
    "for i in range(3):\n",
    "    animal=input()\n",
    "    animals.append(animal)\n",
    "for i in range(3):\n",
    "    p=input()\n",
    "    prop.append(p)\n",
    "anim=random.choice(animals)\n",
    "pr=random.choice(prop)\n",
    "print(anim+\" \"+pr)"
   ]
  },
  {
   "cell_type": "code",
   "execution_count": 135,
   "metadata": {},
   "outputs": [
    {
     "name": "stdout",
     "output_type": "stream",
     "text": [
      "[0, 1, 2, 3, 4, 5, 6, 7, 8, 9, 10, 11, 12, 13, 14, 15, 16, 17, 18, 19, 20, 21, 22, 23, 24, 25, 26, 27, 28, 29, 30, 31, 32, 33, 34, 35, 36, 37, 38, 39, 40, 41, 42, 43, 44, 45, 46, 47, 48, 49, 50, 51, 52, 53, 54, 55, 56, 57, 58, 59, 60, 61, 62, 63, 64, 65, 66, 67, 68, 69, 70, 71, 72, 73, 74, 75, 76, 77, 78, 79, 80, 81, 82, 83, 84, 85, 86, 87, 88, 89, 90, 91, 92, 93, 94, 95, 96, 97, 98, 99]\n"
     ]
    }
   ],
   "source": [
    "lst=[]\n",
    "for i in range(100):\n",
    "     lst.append(i)\n",
    "print(lst)"
   ]
  },
  {
   "cell_type": "code",
   "execution_count": 133,
   "metadata": {},
   "outputs": [
    {
     "name": "stdout",
     "output_type": "stream",
     "text": [
      "5\n"
     ]
    }
   ],
   "source": [
    "print([random.randint(0,5) for i in range (30)].count(5))"
   ]
  },
  {
   "cell_type": "code",
   "execution_count": null,
   "metadata": {},
   "outputs": [],
   "source": [
    "lst=[\"математика\",\"алгебра\",\"русский язык\",\"химия\",\"биология\",\"история\"]\n",
    "#1\n",
    "#lst.append(\"информатика\")\n",
    "lst+=[\"информатика\"]\n",
    "\n",
    "#2\n",
    "lst.pop(1)\n",
    "lst.insert(1,\"английский\")\n",
    "#lst[1]=\"английский\"\n",
    "print(lst)\n",
    "#3\n",
    "lngth=len(lst)\n",
    "print(lngth)\n",
    "#4\n",
    "lst2=sorted(lst)\n",
    "print(lst2)\n",
    "print(lst)\n",
    "#lst.sort()\n",
    "#5\n",
    "del(lst[len(lst)-1])\n",
    "print(lst)"
   ]
  }
 ],
 "metadata": {
  "kernelspec": {
   "display_name": "Python 3",
   "language": "python",
   "name": "python3"
  },
  "language_info": {
   "codemirror_mode": {
    "name": "ipython",
    "version": 3
   },
   "file_extension": ".py",
   "mimetype": "text/x-python",
   "name": "python",
   "nbconvert_exporter": "python",
   "pygments_lexer": "ipython3",
   "version": "3.10.8"
  },
  "orig_nbformat": 4,
  "vscode": {
   "interpreter": {
    "hash": "379f48a0a2264dcd18e018f59e5f6957f70a86f867a1be205da3494d0ccba0ca"
   }
  }
 },
 "nbformat": 4,
 "nbformat_minor": 2
}
