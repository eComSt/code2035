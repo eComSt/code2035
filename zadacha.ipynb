{
 "cells": [
  {
   "cell_type": "code",
   "execution_count": 11,
   "metadata": {},
   "outputs": [
    {
     "name": "stdout",
     "output_type": "stream",
     "text": [
      "a:b \n",
      "c:d \n",
      "e:f g:h \n"
     ]
    }
   ],
   "source": [
    "def fun(x):\n",
    "    s=\"\"\n",
    "    for j in x.keys():\n",
    "        s+=f\"{j}:{x[j]} \"\n",
    "    return s\n",
    "l = [{\"a\":\"b\"},{\"c\":\"d\"},{\"e\":\"f\",\"g\":\"h\"}]\n",
    "m = list(map(fun,l))\n",
    "s = \"\\n\".join(m)\n",
    "print(s)"
   ]
  }
 ],
 "metadata": {
  "kernelspec": {
   "display_name": "Python 3",
   "language": "python",
   "name": "python3"
  },
  "language_info": {
   "codemirror_mode": {
    "name": "ipython",
    "version": 3
   },
   "file_extension": ".py",
   "mimetype": "text/x-python",
   "name": "python",
   "nbconvert_exporter": "python",
   "pygments_lexer": "ipython3",
   "version": "3.8.9 (default, Oct 26 2021, 07:25:54) \n[Clang 13.0.0 (clang-1300.0.29.30)]"
  },
  "orig_nbformat": 4,
  "vscode": {
   "interpreter": {
    "hash": "31f2aee4e71d21fbe5cf8b01ff0e069b9275f58929596ceb00d14d90e3e16cd6"
   }
  }
 },
 "nbformat": 4,
 "nbformat_minor": 2
}
