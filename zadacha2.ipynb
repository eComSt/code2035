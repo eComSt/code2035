{
 "cells": [
  {
   "cell_type": "code",
   "execution_count": null,
   "metadata": {},
   "outputs": [],
   "source": [
    "def fff(nums,target):\n",
    "    for i in range(len(nums)):\n",
    "        x = nums[i]\n",
    "        nums[i]= 'x'\n",
    "        dif = target - x\n",
    "        if dif in nums:\n",
    "            return(i,nums.index(dif))\n",
    "nums = [3,2,4,5,3]\n",
    "target = 6\n",
    "print(fff(nums,target))"
   ]
  }
 ],
 "metadata": {
  "language_info": {
   "name": "python"
  },
  "orig_nbformat": 4
 },
 "nbformat": 4,
 "nbformat_minor": 2
}
