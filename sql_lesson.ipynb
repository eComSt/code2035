{
 "cells": [
  {
   "cell_type": "code",
   "execution_count": 1,
   "metadata": {},
   "outputs": [],
   "source": [
    "import sqlite3\n",
    "from pprint import pprint"
   ]
  },
  {
   "cell_type": "code",
   "execution_count": 2,
   "metadata": {},
   "outputs": [],
   "source": [
    "try:\n",
    "    connection = sqlite3.connect('main.db')\n",
    "    cursor = connection.cursor()\n",
    "except:\n",
    "    print(\"Ошибка подключения\")\n",
    "finally:\n",
    "    connection.close()"
   ]
  },
  {
   "cell_type": "code",
   "execution_count": 41,
   "metadata": {},
   "outputs": [
    {
     "name": "stdout",
     "output_type": "stream",
     "text": [
      "(1, 'Максим', 'Максимов', 'male')\n",
      "(2, 'Владимир', 'Петров', 'male')\n",
      "(3, 'Юлия', 'Сидорова', 'female')\n",
      "[(1, 'Максим', 'Максимов', 'male')]\n",
      "[(1, 'Олег', 'Максимов', 'male')]\n",
      "_________________________\n",
      "(2, 'Владимир', 'Петров', 'male')\n",
      "(3, 'Юлия', 'Сидорова', 'female')\n",
      "_________________________\n",
      "(2, 'Владимир', 'Петров', 'male')\n",
      "_________________________\n",
      "(3, 'Юлия', 'Сидорова', 'female')\n"
     ]
    }
   ],
   "source": [
    "class User:\n",
    "    def __init__(self, name, surname, gender):\n",
    "        self.name = name\n",
    "        self.surname = surname\n",
    "        self.gender = gender\n",
    "    def get_all(self):\n",
    "        return (self.name, self.surname, self.gender)\n",
    "    def __str__(self):\n",
    "        return f\"{self.name} {self.surname} {self.gender}\"\n",
    "\n",
    "def create_table_user(cursor):\n",
    "    command = \"\"\"\n",
    "    CREATE TABLE IF NOT EXISTS users (\n",
    "        id INTEGER PRIMARY KEY,\n",
    "        name TEXT,\n",
    "        surname TEXT,\n",
    "        gender TEXT\n",
    "    )\n",
    "    \"\"\"\n",
    "    cursor.execute(command)\n",
    "\n",
    "\n",
    "def add_user(cursor,user):\n",
    "    command = \"\"\"\n",
    "    INSERT INTO users (name, surname, gender) VALUES (?, ?, ?);\n",
    "    \"\"\"\n",
    "    cursor.execute(command, user.get_all())\n",
    "\n",
    "def get_users_list(cursor):\n",
    "    command = \"\"\"\n",
    "    SELECT * FROM users;\n",
    "    \"\"\"\n",
    "    result = cursor.execute(command)\n",
    "    users = result.fetchall()\n",
    "    for u in users:\n",
    "        print(u)\n",
    "\n",
    "def get_users_list_by_gender(cursor,gender):\n",
    "    command = \"\"\"\n",
    "    SELECT * FROM users WHERE gender = ?;\n",
    "    \"\"\"\n",
    "    result = cursor.execute(command,(gender,))\n",
    "    users = result.fetchall()\n",
    "    for u in users:\n",
    "        print(u)\n",
    "\n",
    "def get_user(cursor,id):\n",
    "    command = \"\"\"\n",
    "    SELECT * FROM users WHERE id = ?\n",
    "    \"\"\"   \n",
    "    result = cursor.execute(command, (id,))\n",
    "    user = result.fetchall()\n",
    "    print(user)\n",
    "\n",
    "def delete_users(cursor):\n",
    "    command = \"\"\"\n",
    "    DELETE FROM users\n",
    "    \"\"\"   \n",
    "    cursor.execute(command)\n",
    "\n",
    "def delete_user_by_id(cursor,id):\n",
    "    command = \"\"\"\n",
    "    DELETE FROM users WHERE id = ?\n",
    "    \"\"\"   \n",
    "    cursor.execute(command,(id,))\n",
    "\n",
    "def update_user_name(cursor,value,id):\n",
    "    command = \"\"\"\n",
    "    UPDATE users SET name = ? WHERE id = ?;\n",
    "    \"\"\"   \n",
    "    cursor.execute(command,(value,id,))\n",
    "\n",
    "if __name__ == '__main__':\n",
    "    with sqlite3.connect('main.db') as cursor:\n",
    "        create_table_user(cursor)\n",
    "        delete_users(cursor)\n",
    "        add_user(cursor,User(\"Максим\",\"Максимов\",\"male\"))\n",
    "        add_user(cursor,User(\"Владимир\",\"Петров\",\"male\"))\n",
    "        add_user(cursor,User(\"Юлия\",\"Сидорова\",\"female\"))\n",
    "        get_users_list(cursor)\n",
    "        get_user(cursor,1)\n",
    "        update_user_name(cursor,\"Олег\",1)\n",
    "        get_user(cursor,1)\n",
    "        print(25*\"_\")\n",
    "        delete_user_by_id(cursor,1)\n",
    "        get_users_list(cursor)\n",
    "        print(25*\"_\")\n",
    "        get_users_list_by_gender(cursor,\"male\")\n",
    "        print(25*\"_\")\n",
    "        get_users_list_by_gender(cursor,\"female\")"
   ]
  },
  {
   "cell_type": "code",
   "execution_count": 20,
   "metadata": {},
   "outputs": [
    {
     "name": "stdout",
     "output_type": "stream",
     "text": [
      "[1, 2, 3, 4]\n",
      "1 2 3 4\n",
      "1 2 3 4\n"
     ]
    }
   ],
   "source": [
    "l = [1,2,3,4]\n",
    "print(l)\n",
    "print(*l)\n",
    "print([1,2,3,4])\n",
    "print(1,2,3,4)"
   ]
  }
 ],
 "metadata": {
  "kernelspec": {
   "display_name": "Python 3",
   "language": "python",
   "name": "python3"
  },
  "language_info": {
   "codemirror_mode": {
    "name": "ipython",
    "version": 3
   },
   "file_extension": ".py",
   "mimetype": "text/x-python",
   "name": "python",
   "nbconvert_exporter": "python",
   "pygments_lexer": "ipython3",
   "version": "3.11.1"
  },
  "orig_nbformat": 4
 },
 "nbformat": 4,
 "nbformat_minor": 2
}
