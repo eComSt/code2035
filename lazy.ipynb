{
 "cells": [
  {
   "cell_type": "code",
   "execution_count": 3,
   "metadata": {},
   "outputs": [],
   "source": [
    "import time\n",
    "\n",
    "# print(range(1,10))\n",
    "# print(list(range(1,10)))\n",
    "\n",
    "my_iter = [time.sleep(x) for x in range(1,3)]"
   ]
  },
  {
   "cell_type": "code",
   "execution_count": 6,
   "metadata": {},
   "outputs": [],
   "source": [
    "my_iter2 = (time.sleep(x) for x in range(1,3))"
   ]
  },
  {
   "cell_type": "code",
   "execution_count": 13,
   "metadata": {},
   "outputs": [
    {
     "name": "stdout",
     "output_type": "stream",
     "text": [
      "2\n",
      "4\n",
      "6\n",
      "8\n",
      "Яблоко\n",
      "Банан\n",
      "Апельсин\n"
     ]
    }
   ],
   "source": [
    "def my_range(*args):\n",
    "    if len(args)==1:\n",
    "        start = 0\n",
    "        finish = args[0]\n",
    "        step = 1\n",
    "    elif len(args)==2:\n",
    "        start = args[0]\n",
    "        finish = args[1]\n",
    "        step = 1\n",
    "    elif len(args)==3:\n",
    "        start = args[0]\n",
    "        finish = args[1]\n",
    "        step = args[2]\n",
    "    i =start\n",
    "    while i<finish:\n",
    "        yield i\n",
    "        i = i+step\n",
    "def infinit_gen():\n",
    "    while True:\n",
    "        yield \"#\"\n",
    "\n",
    "def gen(items):\n",
    "    yield from items\n",
    "\n",
    "for j in my_range(2,10,2):\n",
    "    print(j)\n",
    "for j in gen([\"Яблоко\", \"Банан\", \"Апельсин\"]):\n",
    "    print(j)"
   ]
  }
 ],
 "metadata": {
  "kernelspec": {
   "display_name": "Python 3",
   "language": "python",
   "name": "python3"
  },
  "language_info": {
   "codemirror_mode": {
    "name": "ipython",
    "version": 3
   },
   "file_extension": ".py",
   "mimetype": "text/x-python",
   "name": "python",
   "nbconvert_exporter": "python",
   "pygments_lexer": "ipython3",
   "version": "3.11.1"
  },
  "orig_nbformat": 4
 },
 "nbformat": 4,
 "nbformat_minor": 2
}
