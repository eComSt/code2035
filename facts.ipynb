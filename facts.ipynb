{
 "cells": [
  {
   "cell_type": "code",
   "execution_count": null,
   "metadata": {},
   "outputs": [],
   "source": [
    "facts = ['Хамелеоны могут двигать глазами в разных направлениях одновременно.',\n",
    "   'Змеи видят через веки.',\n",
    "   'У коал отпечатки пальцев похожи на человеческие.',\n",
    "   'Белые медведи-левши.']"
   ]
  }
 ],
 "metadata": {
  "language_info": {
   "name": "python"
  },
  "orig_nbformat": 4
 },
 "nbformat": 4,
 "nbformat_minor": 2
}
