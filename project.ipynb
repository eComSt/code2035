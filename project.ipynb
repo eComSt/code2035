{
 "cells": [
  {
   "cell_type": "code",
   "execution_count": 1,
   "metadata": {},
   "outputs": [],
   "source": [
    "\n",
    "from tkinter import*\n",
    "import requests\n",
    "import random\n",
    "from bs4 import BeautifulSoup\n",
    "window = Tk()\n",
    "window.geometry('700x600')\n",
    "\n",
    "def get_anekdot():\n",
    "    try:\n",
    "        res = requests.get('https://www.anekdot.ru/random/anekdot/')\n",
    "        res = res.content\n",
    "        html = BeautifulSoup(res, 'lxml')\n",
    "        return random.choice(html.find_all(class_='text')).text\n",
    "    except Exception as e:\n",
    "        return (\"Exception (find):\", e)\n",
    "\n",
    "def new_anec():\n",
    "    root=Toplevel(window)\n",
    "    root.geometry('500x200')\n",
    "    root.attributes('-alpha',1)\n",
    "    root.configure(bg='black')\n",
    "    txt = Text(root,fg='lightgreen',bg='black',relief='groove',font=(\"Arial\", 10), width=81, height=20)\n",
    "    txt.place(x=2,y=2)\n",
    "    txt.insert(1.0,get_anekdot())\n",
    "\n",
    "def draw_menu():\n",
    "    clear()\n",
    "    label_title = Label(text='Что бы вы хотели сделать?',font=('Arial', 24), fg='white', bg='orange')\n",
    "    label_title.place(width=700, height=50, x=0, y=0)\n",
    "    b_1 = Button(text='анекдот', font=('Arial', 18), fg='black', command=new_anec)\n",
    "    b_1.place(x=25, y=75, width=300)\n",
    "\n",
    "    b_2 = Button(text='что-то еще', font=('Arial', 18), fg='black', command=func)\n",
    "    b_2.place(x=375, y=75, width=300)\n",
    "\n",
    "def clear():\n",
    "    all_widgets = window.place_slaves()\n",
    "    for l in all_widgets:\n",
    "        l.destroy()\n",
    "    draw_home_button()\n",
    "\n",
    "def func():\n",
    "    clear()\n",
    "    draw_home_button()\n",
    "\n",
    "def draw_home_button():\n",
    "    b = Button(text='Домой', font=('Arial', 24), fg='black', command=draw_menu) \n",
    "    b.place(x=25, y=500, width=150)\n",
    "    \n",
    "draw_menu()\n",
    "\n",
    "window.mainloop()\n"
   ]
  }
 ],
 "metadata": {
  "kernelspec": {
   "display_name": "Python 3",
   "language": "python",
   "name": "python3"
  },
  "language_info": {
   "codemirror_mode": {
    "name": "ipython",
    "version": 3
   },
   "file_extension": ".py",
   "mimetype": "text/x-python",
   "name": "python",
   "nbconvert_exporter": "python",
   "pygments_lexer": "ipython3",
   "version": "3.8.9"
  },
  "orig_nbformat": 4,
  "vscode": {
   "interpreter": {
    "hash": "31f2aee4e71d21fbe5cf8b01ff0e069b9275f58929596ceb00d14d90e3e16cd6"
   }
  }
 },
 "nbformat": 4,
 "nbformat_minor": 2
}
