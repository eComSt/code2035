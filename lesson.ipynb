{
 "cells": [
  {
   "cell_type": "code",
   "execution_count": 11,
   "metadata": {},
   "outputs": [
    {
     "name": "stdout",
     "output_type": "stream",
     "text": [
      "Лампа всего 27 на сумму 1134\n",
      "Стол всего 54 на сумму 27860\n",
      "Диван всего 3 на сумму 3550\n",
      "Стул всего 105 на сумму 10311\n"
     ]
    }
   ],
   "source": [
    "goods = { 'Лампа': '12345', 'Стол': '23456', 'Диван': '34567', 'Стул': '45678'}\n",
    "store = { '12345': [ {'quantity': 27, 'price': 42}, ],\n",
    "         '23456': [ {'quantity': 22, 'price': 510}, {'quantity': 32, 'price': 520}, ],\n",
    "        '34567': [ {'quantity': 2, 'price': 1200}, {'quantity': 1, 'price': 1150}, ], \n",
    "        '45678': [ {'quantity': 50, 'price': 100}, {'quantity': 12, 'price': 95}, {'quantity': 43, 'price': 97}, ]}\n",
    "\n",
    "for i in store:\n",
    "    q=[]\n",
    "    p=[]\n",
    "    for j in store[i]:\n",
    "        q.append(j['quantity'])\n",
    "        p.append(j['quantity']*j[\"price\"])\n",
    "    store[i]=[sum(q),sum(p)]\n",
    "for i in goods:\n",
    "    print(i, \"всего\", store[goods[i]][0],'на сумму', store[goods[i]][1])\n"
   ]
  },
  {
   "cell_type": "code",
   "execution_count": 12,
   "metadata": {},
   "outputs": [
    {
     "name": "stdout",
     "output_type": "stream",
     "text": [
      "Лампа  -  27  штук(и), стоимость  1134 рублей\n",
      "Стол  -  54  штук(и), стоимость  27860 рублей\n",
      "Диван  -  3  штук(и), стоимость  3550 рублей\n",
      "Стул  -  105  штук(и), стоимость  10311 рублей\n"
     ]
    }
   ],
   "source": [
    "goods = { 'Лампа': '12345', 'Стол': '23456', 'Диван': '34567', 'Стул': '45678'}\n",
    "store = { '12345': [ {'quantity': 27, 'price': 42}, ],\n",
    "         '23456': [ {'quantity': 22, 'price': 510}, {'quantity': 32, 'price': 520}, ],\n",
    "        '34567': [ {'quantity': 2, 'price': 1200}, {'quantity': 1, 'price': 1150}, ], \n",
    "        '45678': [ {'quantity': 50, 'price': 100}, {'quantity': 12, 'price': 95}, {'quantity': 43, 'price': 97}, ]}\n",
    "\n",
    "for key in goods:\n",
    "    count = 0\n",
    "    result = 0\n",
    "    for arg in store[goods[key]]:\n",
    "        count += arg['quantity']\n",
    "        result += arg['quantity'] * arg['price']\n",
    "    print(key,\" - \", count , \" штук(и), стоимость \", result, \"рублей\")"
   ]
  }
 ],
 "metadata": {
  "kernelspec": {
   "display_name": "Python 3",
   "language": "python",
   "name": "python3"
  },
  "language_info": {
   "codemirror_mode": {
    "name": "ipython",
    "version": 3
   },
   "file_extension": ".py",
   "mimetype": "text/x-python",
   "name": "python",
   "nbconvert_exporter": "python",
   "pygments_lexer": "ipython3",
   "version": "3.8.9 (default, Oct 26 2021, 07:25:54) \n[Clang 13.0.0 (clang-1300.0.29.30)]"
  },
  "orig_nbformat": 4,
  "vscode": {
   "interpreter": {
    "hash": "31f2aee4e71d21fbe5cf8b01ff0e069b9275f58929596ceb00d14d90e3e16cd6"
   }
  }
 },
 "nbformat": 4,
 "nbformat_minor": 2
}
