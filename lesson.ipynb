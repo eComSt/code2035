{
 "cells": [
  {
   "cell_type": "code",
   "execution_count": 9,
   "metadata": {},
   "outputs": [
    {
     "name": "stdout",
     "output_type": "stream",
     "text": [
      "А есть ли суслик?\n"
     ]
    }
   ],
   "source": [
    "ru_en={\"яблоко\":\"apple\",'муравей':\"ant\",\n",
    "    \"любимый\":\"darling\",\"кот\":\"cat\",\n",
    "    \"мир\":'world',\"идти\":\"go\"\n",
    "}\n",
    "word=input(\"Введите слово:\")\n",
    "if word in ru_en:\n",
    "    print(f\"Перевод слова '{word}':{ru_en[word]}\")\n",
    "else:\n",
    "    print(f\"А есть ли {word}?\")"
   ]
  },
  {
   "cell_type": "code",
   "execution_count": 36,
   "metadata": {},
   "outputs": [
    {
     "name": "stdout",
     "output_type": "stream",
     "text": [
      "{'яблоко': 'apple', 'муравей': 'ant', 'любимый': 'darling', 'кот': 'cat', 'мир': 'world', 'идти': 'go', 'Начало': 'Леонардо Ди Каприо', 'Пираты Карибского моря': 'Джонни Депп', 'Миссия невыполнима': 'Том Круз', 'Драйв': 'Раян Гослинг'}\n"
     ]
    }
   ],
   "source": [
    "\n",
    "films_dict = {\n",
    "    'Начало': 'Леонардо Ди Каприо', \n",
    "    'Пираты Карибского моря': 'Джонни Депп',\n",
    "    'Миссия невыполнима': 'Том Круз',\n",
    "    'Драйв':'Раян Гослинг'\n",
    "}\n",
    "ru_en={\"яблоко\":\"apple\",'муравей':\"ant\",\n",
    "    \"любимый\":\"darling\",\"кот\":\"cat\",\n",
    "    \"мир\":'world',\"идти\":\"go\"\n",
    "}\n",
    "ru_en.update(films_dict)\n",
    "print(ru_en)"
   ]
  },
  {
   "cell_type": "code",
   "execution_count": 18,
   "metadata": {},
   "outputs": [
    {
     "name": "stdout",
     "output_type": "stream",
     "text": [
      "Леонардо Ди Каприо\n"
     ]
    }
   ],
   "source": [
    "films_dict = {\n",
    "    'Начало': 'Леонардо Ди Каприо', \n",
    "    'Пираты Карибского моря': 'Джонни Депп',\n",
    "    'Миссия невыполнима': 'Том Круз',\n",
    "    'Драйв':'Раян Гослинг'\n",
    "}\n",
    "#print(films_dict[\"Начало\"])\n",
    "film = input('Какой фильм вы собираетесь смотреть? ') \n",
    "favor= \"Раян Гослинг\"\n",
    "if film in films_dict:\n",
    "    if films_dict[film] == favor: print(\"стоит посмотреть\")\n",
    "    else: print(\"Не буду)\")\n",
    "else: \n",
    "    print(\"Нет такого фильма\")"
   ]
  },
  {
   "cell_type": "code",
   "execution_count": 43,
   "metadata": {},
   "outputs": [
    {
     "name": "stdout",
     "output_type": "stream",
     "text": [
      "Сколько персонажей в Марвеле?\n",
      "\t1. 10\n",
      "\t2. 34\n",
      "\t3. 250\n",
      "\t4. 474\n",
      "Как появился человек паук?\n",
      "\t1. отравился едой\n",
      "\t2. укусил паук\n",
      "\t3. упал с лестницы\n",
      "Кто был отцом Питера Квилла из Стражей Галактики?\n",
      "\t1. планета\n",
      "\t2. медуза\n",
      "\t3. человек муравей\n",
      "\t4. самолет\n"
     ]
    }
   ],
   "source": [
    "opros = [\n",
    "    {\"q\":\"Сколько персонажей в Марвеле?\",'var':[\"10\",\"34\",\"250\",\"474\"],'a':3},\n",
    "    {'q':\"Как появился человек паук?\",\"var\":[\"отравился едой\",\"укусил паук\",'упал с лестницы'],'a':1},\n",
    "    {'q':\"Кто был отцом Питера Квилла из Стражей Галактики?\",\"var\":['планета',\"медуза\",\"человек муравей\",\"самолет\"],\"a\":0}\n",
    "]\n",
    "score = 0\n",
    "for i in opros:\n",
    "    print(i['q'])\n",
    "    num=1\n",
    "    for j in i['var']:\n",
    "        print(f\"\\t{num}. {j}\")\n",
    "        num=num+1\n",
    "    ans=int(input(\"Ваш ответ?\"))-1\n",
    "    if ans==i[\"a\"]:\n",
    "        score+=1\n",
    "        print('Верно! Ваш счет: {score} очков')\n",
    "    else:\n",
    "        print(\"Ошибка!\")\n"
   ]
  }
 ],
 "metadata": {
  "kernelspec": {
   "display_name": "Python 3",
   "language": "python",
   "name": "python3"
  },
  "language_info": {
   "codemirror_mode": {
    "name": "ipython",
    "version": 3
   },
   "file_extension": ".py",
   "mimetype": "text/x-python",
   "name": "python",
   "nbconvert_exporter": "python",
   "pygments_lexer": "ipython3",
   "version": "3.8.9"
  },
  "orig_nbformat": 4,
  "vscode": {
   "interpreter": {
    "hash": "31f2aee4e71d21fbe5cf8b01ff0e069b9275f58929596ceb00d14d90e3e16cd6"
   }
  }
 },
 "nbformat": 4,
 "nbformat_minor": 2
}
