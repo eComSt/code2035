{
 "cells": [
  {
   "cell_type": "code",
   "execution_count": 9,
   "metadata": {},
   "outputs": [
    {
     "name": "stdout",
     "output_type": "stream",
     "text": [
      "А есть ли суслик?\n"
     ]
    }
   ],
   "source": [
    "ru_en={\"яблоко\":\"apple\",'муравей':\"ant\",\n",
    "    \"любимый\":\"darling\",\"кот\":\"cat\",\n",
    "    \"мир\":'world',\"идти\":\"go\"\n",
    "}\n",
    "word=input(\"Введите слово:\")\n",
    "if word in ru_en:\n",
    "    print(f\"Перевод слова '{word}':{ru_en[word]}\")\n",
    "else:\n",
    "    print(f\"А есть ли {word}?\")"
   ]
  },
  {
   "cell_type": "code",
   "execution_count": 16,
   "metadata": {},
   "outputs": [
    {
     "name": "stdout",
     "output_type": "stream",
     "text": [
      "Нет такого фильма\n"
     ]
    }
   ],
   "source": [
    "films_dict = {\n",
    "    'Начало': 'Леонардо Ди Каприо', \n",
    "    'Пираты Карибского моря': 'Джонни Депп',\n",
    "    'Миссия невыполнима': 'Том Круз',\n",
    "    'Драйв':'Раян Гослинг'\n",
    "}\n",
    "film = input('Какой фильм вы собираетесь смотреть? ') \n",
    "favor= \"Раян Гослинг\"\n",
    "if film in films_dict:\n",
    "    if films_dict[film] == favor: print(\"стоит посмотреть\")\n",
    "    else: print(\"Не буду)\")\n",
    "else: \n",
    "    print(\"Нет такого фильма\")"
   ]
  },
  {
   "cell_type": "markdown",
   "metadata": {},
   "source": []
  }
 ],
 "metadata": {
  "kernelspec": {
   "display_name": "Python 3",
   "language": "python",
   "name": "python3"
  },
  "language_info": {
   "codemirror_mode": {
    "name": "ipython",
    "version": 3
   },
   "file_extension": ".py",
   "mimetype": "text/x-python",
   "name": "python",
   "nbconvert_exporter": "python",
   "pygments_lexer": "ipython3",
   "version": "3.8.9"
  },
  "orig_nbformat": 4,
  "vscode": {
   "interpreter": {
    "hash": "31f2aee4e71d21fbe5cf8b01ff0e069b9275f58929596ceb00d14d90e3e16cd6"
   }
  }
 },
 "nbformat": 4,
 "nbformat_minor": 2
}
