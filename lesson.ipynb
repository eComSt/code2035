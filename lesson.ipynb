{
 "cells": [
  {
   "cell_type": "code",
   "execution_count": 9,
   "metadata": {},
   "outputs": [
    {
     "name": "stdout",
     "output_type": "stream",
     "text": [
      "А есть ли суслик?\n"
     ]
    }
   ],
   "source": [
    "ru_en={\"яблоко\":\"apple\",'муравей':\"ant\",\n",
    "    \"любимый\":\"darling\",\"кот\":\"cat\",\n",
    "    \"мир\":'world',\"идти\":\"go\"\n",
    "}\n",
    "word=input(\"Введите слово:\")\n",
    "if word in ru_en:\n",
    "    print(f\"Перевод слова '{word}':{ru_en[word]}\")\n",
    "else:\n",
    "    print(f\"А есть ли {word}?\")"
   ]
  },
  {
   "cell_type": "code",
   "execution_count": 13,
   "metadata": {},
   "outputs": [
    {
     "ename": "KeyError",
     "evalue": "'Агент 007'",
     "output_type": "error",
     "traceback": [
      "\u001b[0;31m---------------------------------------------------------------------------\u001b[0m",
      "\u001b[0;31mKeyError\u001b[0m                                  Traceback (most recent call last)",
      "\u001b[1;32m/Users/pattycha/code2035-1/lesson.ipynb Cell 2\u001b[0m in \u001b[0;36m<cell line: 9>\u001b[0;34m()\u001b[0m\n\u001b[1;32m      <a href='vscode-notebook-cell:/Users/pattycha/code2035-1/lesson.ipynb#W1sZmlsZQ%3D%3D?line=6'>7</a>\u001b[0m film \u001b[39m=\u001b[39m \u001b[39minput\u001b[39m(\u001b[39m'\u001b[39m\u001b[39mКакой фильм вы собираетесь смотреть? \u001b[39m\u001b[39m'\u001b[39m) \n\u001b[1;32m      <a href='vscode-notebook-cell:/Users/pattycha/code2035-1/lesson.ipynb#W1sZmlsZQ%3D%3D?line=7'>8</a>\u001b[0m favor\u001b[39m=\u001b[39m \u001b[39m\"\u001b[39m\u001b[39mРаян Гослинг\u001b[39m\u001b[39m\"\u001b[39m\n\u001b[0;32m----> <a href='vscode-notebook-cell:/Users/pattycha/code2035-1/lesson.ipynb#W1sZmlsZQ%3D%3D?line=8'>9</a>\u001b[0m \u001b[39mif\u001b[39;00m films_dict[film] \u001b[39m==\u001b[39m favor: \u001b[39mprint\u001b[39m(\u001b[39m\"\u001b[39m\u001b[39mстоит посмотреть\u001b[39m\u001b[39m\"\u001b[39m)\n\u001b[1;32m     <a href='vscode-notebook-cell:/Users/pattycha/code2035-1/lesson.ipynb#W1sZmlsZQ%3D%3D?line=9'>10</a>\u001b[0m \u001b[39melse\u001b[39;00m: \u001b[39mprint\u001b[39m(\u001b[39m\"\u001b[39m\u001b[39mНе буду)\u001b[39m\u001b[39m\"\u001b[39m)\n",
      "\u001b[0;31mKeyError\u001b[0m: 'Агент 007'"
     ]
    }
   ],
   "source": [
    "films_dict = {\n",
    "    'Начало': 'Леонардо Ди Каприо', \n",
    "    'Пираты Карибского моря': 'Джонни Депп',\n",
    "    'Миссия невыполнима': 'Том Круз',\n",
    "    'Драйв':'Раян Гослинг'\n",
    "}\n",
    "film = input('Какой фильм вы собираетесь смотреть? ') \n",
    "favor= \"Раян Гослинг\"\n",
    "if films_dict[film] == favor: print(\"стоит посмотреть\")\n",
    "else: print(\"Не буду)\")"
   ]
  },
  {
   "cell_type": "markdown",
   "metadata": {},
   "source": []
  }
 ],
 "metadata": {
  "kernelspec": {
   "display_name": "Python 3",
   "language": "python",
   "name": "python3"
  },
  "language_info": {
   "codemirror_mode": {
    "name": "ipython",
    "version": 3
   },
   "file_extension": ".py",
   "mimetype": "text/x-python",
   "name": "python",
   "nbconvert_exporter": "python",
   "pygments_lexer": "ipython3",
   "version": "3.8.9"
  },
  "orig_nbformat": 4,
  "vscode": {
   "interpreter": {
    "hash": "31f2aee4e71d21fbe5cf8b01ff0e069b9275f58929596ceb00d14d90e3e16cd6"
   }
  }
 },
 "nbformat": 4,
 "nbformat_minor": 2
}
