{
 "cells": [
  {
   "cell_type": "code",
   "execution_count": 18,
   "metadata": {},
   "outputs": [
    {
     "ename": "FileNotFoundError",
     "evalue": "[Errno 2] No such file or directory: 'img/10.jpg'",
     "output_type": "error",
     "traceback": [
      "\u001b[0;31m---------------------------------------------------------------------------\u001b[0m",
      "\u001b[0;31mFileNotFoundError\u001b[0m                         Traceback (most recent call last)",
      "\u001b[1;32m/Users/pattycha/code2035/zagotovka.ipynb Cell 1\u001b[0m in \u001b[0;36m<cell line: 64>\u001b[0;34m()\u001b[0m\n\u001b[1;32m     <a href='vscode-notebook-cell:/Users/pattycha/code2035/zagotovka.ipynb#W0sZmlsZQ%3D%3D?line=61'>62</a>\u001b[0m     \u001b[39melif\u001b[39;00m message\u001b[39m.\u001b[39mtext\u001b[39m.\u001b[39mstrip() \u001b[39m==\u001b[39m \u001b[39m\"\u001b[39m\u001b[39mСтикер\u001b[39m\u001b[39m\"\u001b[39m:\n\u001b[1;32m     <a href='vscode-notebook-cell:/Users/pattycha/code2035/zagotovka.ipynb#W0sZmlsZQ%3D%3D?line=62'>63</a>\u001b[0m         send_sticker(message)\n\u001b[0;32m---> <a href='vscode-notebook-cell:/Users/pattycha/code2035/zagotovka.ipynb#W0sZmlsZQ%3D%3D?line=63'>64</a>\u001b[0m bot\u001b[39m.\u001b[39;49mpolling()\n",
      "File \u001b[0;32m~/Library/Python/3.8/lib/python/site-packages/telebot/__init__.py:1043\u001b[0m, in \u001b[0;36mTeleBot.polling\u001b[0;34m(self, non_stop, skip_pending, interval, timeout, long_polling_timeout, logger_level, allowed_updates, none_stop, restart_on_change, path_to_watch)\u001b[0m\n\u001b[1;32m   1040\u001b[0m logger\u001b[39m.\u001b[39minfo(\u001b[39m'\u001b[39m\u001b[39mStarting your bot with username: [@\u001b[39m\u001b[39m%s\u001b[39;00m\u001b[39m]\u001b[39m\u001b[39m'\u001b[39m, \u001b[39mself\u001b[39m\u001b[39m.\u001b[39muser\u001b[39m.\u001b[39musername)\n\u001b[1;32m   1042\u001b[0m \u001b[39mif\u001b[39;00m \u001b[39mself\u001b[39m\u001b[39m.\u001b[39mthreaded:\n\u001b[0;32m-> 1043\u001b[0m     \u001b[39mself\u001b[39;49m\u001b[39m.\u001b[39;49m__threaded_polling(non_stop\u001b[39m=\u001b[39;49mnon_stop, interval\u001b[39m=\u001b[39;49minterval, timeout\u001b[39m=\u001b[39;49mtimeout, long_polling_timeout\u001b[39m=\u001b[39;49mlong_polling_timeout,\n\u001b[1;32m   1044\u001b[0m                             logger_level\u001b[39m=\u001b[39;49mlogger_level, allowed_updates\u001b[39m=\u001b[39;49mallowed_updates)\n\u001b[1;32m   1045\u001b[0m \u001b[39melse\u001b[39;00m:\n\u001b[1;32m   1046\u001b[0m     \u001b[39mself\u001b[39m\u001b[39m.\u001b[39m__non_threaded_polling(non_stop\u001b[39m=\u001b[39mnon_stop, interval\u001b[39m=\u001b[39minterval, timeout\u001b[39m=\u001b[39mtimeout, long_polling_timeout\u001b[39m=\u001b[39mlong_polling_timeout,\n\u001b[1;32m   1047\u001b[0m                                 logger_level\u001b[39m=\u001b[39mlogger_level, allowed_updates\u001b[39m=\u001b[39mallowed_updates)\n",
      "File \u001b[0;32m~/Library/Python/3.8/lib/python/site-packages/telebot/__init__.py:1118\u001b[0m, in \u001b[0;36mTeleBot.__threaded_polling\u001b[0;34m(self, non_stop, interval, timeout, long_polling_timeout, logger_level, allowed_updates)\u001b[0m\n\u001b[1;32m   1116\u001b[0m     polling_thread\u001b[39m.\u001b[39mclear_exceptions()   \u001b[39m#*\u001b[39;00m\n\u001b[1;32m   1117\u001b[0m     \u001b[39mself\u001b[39m\u001b[39m.\u001b[39mworker_pool\u001b[39m.\u001b[39mclear_exceptions() \u001b[39m#*\u001b[39;00m\n\u001b[0;32m-> 1118\u001b[0m     \u001b[39mraise\u001b[39;00m e\n\u001b[1;32m   1119\u001b[0m \u001b[39melse\u001b[39;00m:\n\u001b[1;32m   1120\u001b[0m     polling_thread\u001b[39m.\u001b[39mclear_exceptions()\n",
      "File \u001b[0;32m~/Library/Python/3.8/lib/python/site-packages/telebot/__init__.py:1074\u001b[0m, in \u001b[0;36mTeleBot.__threaded_polling\u001b[0;34m(self, non_stop, interval, timeout, long_polling_timeout, logger_level, allowed_updates)\u001b[0m\n\u001b[1;32m   1072\u001b[0m     or_event\u001b[39m.\u001b[39mwait()  \u001b[39m# wait for polling thread finish, polling thread error or thread pool error\u001b[39;00m\n\u001b[1;32m   1073\u001b[0m     polling_thread\u001b[39m.\u001b[39mraise_exceptions()\n\u001b[0;32m-> 1074\u001b[0m     \u001b[39mself\u001b[39;49m\u001b[39m.\u001b[39;49mworker_pool\u001b[39m.\u001b[39;49mraise_exceptions()\n\u001b[1;32m   1075\u001b[0m     error_interval \u001b[39m=\u001b[39m \u001b[39m0.25\u001b[39m\n\u001b[1;32m   1076\u001b[0m \u001b[39mexcept\u001b[39;00m apihelper\u001b[39m.\u001b[39mApiException \u001b[39mas\u001b[39;00m e:\n",
      "File \u001b[0;32m~/Library/Python/3.8/lib/python/site-packages/telebot/util.py:156\u001b[0m, in \u001b[0;36mThreadPool.raise_exceptions\u001b[0;34m(self)\u001b[0m\n\u001b[1;32m    154\u001b[0m \u001b[39mdef\u001b[39;00m \u001b[39mraise_exceptions\u001b[39m(\u001b[39mself\u001b[39m):\n\u001b[1;32m    155\u001b[0m     \u001b[39mif\u001b[39;00m \u001b[39mself\u001b[39m\u001b[39m.\u001b[39mexception_event\u001b[39m.\u001b[39mis_set():\n\u001b[0;32m--> 156\u001b[0m         \u001b[39mraise\u001b[39;00m \u001b[39mself\u001b[39m\u001b[39m.\u001b[39mexception_info\n",
      "File \u001b[0;32m~/Library/Python/3.8/lib/python/site-packages/telebot/util.py:100\u001b[0m, in \u001b[0;36mWorkerThread.run\u001b[0;34m(self)\u001b[0m\n\u001b[1;32m     97\u001b[0m logger\u001b[39m.\u001b[39mdebug(\u001b[39m\"\u001b[39m\u001b[39mReceived task\u001b[39m\u001b[39m\"\u001b[39m)\n\u001b[1;32m     98\u001b[0m \u001b[39mself\u001b[39m\u001b[39m.\u001b[39mreceived_task_event\u001b[39m.\u001b[39mset()\n\u001b[0;32m--> 100\u001b[0m task(\u001b[39m*\u001b[39;49margs, \u001b[39m*\u001b[39;49m\u001b[39m*\u001b[39;49mkwargs)\n\u001b[1;32m    101\u001b[0m logger\u001b[39m.\u001b[39mdebug(\u001b[39m\"\u001b[39m\u001b[39mTask complete\u001b[39m\u001b[39m\"\u001b[39m)\n\u001b[1;32m    102\u001b[0m \u001b[39mself\u001b[39m\u001b[39m.\u001b[39mdone_event\u001b[39m.\u001b[39mset()\n",
      "File \u001b[0;32m~/Library/Python/3.8/lib/python/site-packages/telebot/__init__.py:6395\u001b[0m, in \u001b[0;36mTeleBot._run_middlewares_and_handler\u001b[0;34m(self, message, handlers, middlewares, update_type)\u001b[0m\n\u001b[1;32m   6393\u001b[0m     result \u001b[39m=\u001b[39m handler[\u001b[39m'\u001b[39m\u001b[39mfunction\u001b[39m\u001b[39m'\u001b[39m](message, bot\u001b[39m=\u001b[39m\u001b[39mself\u001b[39m)\n\u001b[1;32m   6394\u001b[0m \u001b[39melse\u001b[39;00m:\n\u001b[0;32m-> 6395\u001b[0m     result \u001b[39m=\u001b[39m handler[\u001b[39m'\u001b[39;49m\u001b[39mfunction\u001b[39;49m\u001b[39m'\u001b[39;49m](message)\n\u001b[1;32m   6396\u001b[0m \u001b[39mif\u001b[39;00m \u001b[39mnot\u001b[39;00m \u001b[39misinstance\u001b[39m(result, ContinueHandling):\n\u001b[1;32m   6397\u001b[0m     \u001b[39mbreak\u001b[39;00m\n",
      "\u001b[1;32m/Users/pattycha/code2035/zagotovka.ipynb Cell 1\u001b[0m in \u001b[0;36manswear\u001b[0;34m(message)\u001b[0m\n\u001b[1;32m     <a href='vscode-notebook-cell:/Users/pattycha/code2035/zagotovka.ipynb#W0sZmlsZQ%3D%3D?line=58'>59</a>\u001b[0m     send_poem(message)\n\u001b[1;32m     <a href='vscode-notebook-cell:/Users/pattycha/code2035/zagotovka.ipynb#W0sZmlsZQ%3D%3D?line=59'>60</a>\u001b[0m \u001b[39melif\u001b[39;00m message\u001b[39m.\u001b[39mtext\u001b[39m.\u001b[39mstrip() \u001b[39m==\u001b[39m \u001b[39m\"\u001b[39m\u001b[39mКотики\u001b[39m\u001b[39m\"\u001b[39m:\n\u001b[0;32m---> <a href='vscode-notebook-cell:/Users/pattycha/code2035/zagotovka.ipynb#W0sZmlsZQ%3D%3D?line=60'>61</a>\u001b[0m     send_cat(message)\n\u001b[1;32m     <a href='vscode-notebook-cell:/Users/pattycha/code2035/zagotovka.ipynb#W0sZmlsZQ%3D%3D?line=61'>62</a>\u001b[0m \u001b[39melif\u001b[39;00m message\u001b[39m.\u001b[39mtext\u001b[39m.\u001b[39mstrip() \u001b[39m==\u001b[39m \u001b[39m\"\u001b[39m\u001b[39mСтикер\u001b[39m\u001b[39m\"\u001b[39m:\n\u001b[1;32m     <a href='vscode-notebook-cell:/Users/pattycha/code2035/zagotovka.ipynb#W0sZmlsZQ%3D%3D?line=62'>63</a>\u001b[0m     send_sticker(message)\n",
      "\u001b[1;32m/Users/pattycha/code2035/zagotovka.ipynb Cell 1\u001b[0m in \u001b[0;36msend_cat\u001b[0;34m(message)\u001b[0m\n\u001b[1;32m     <a href='vscode-notebook-cell:/Users/pattycha/code2035/zagotovka.ipynb#W0sZmlsZQ%3D%3D?line=39'>40</a>\u001b[0m \u001b[39m@bot\u001b[39m\u001b[39m.\u001b[39mmessage_handler(commands\u001b[39m=\u001b[39m[\u001b[39m'\u001b[39m\u001b[39mcat\u001b[39m\u001b[39m'\u001b[39m])\n\u001b[1;32m     <a href='vscode-notebook-cell:/Users/pattycha/code2035/zagotovka.ipynb#W0sZmlsZQ%3D%3D?line=40'>41</a>\u001b[0m \u001b[39mdef\u001b[39;00m \u001b[39msend_cat\u001b[39m(message):\n\u001b[1;32m     <a href='vscode-notebook-cell:/Users/pattycha/code2035/zagotovka.ipynb#W0sZmlsZQ%3D%3D?line=41'>42</a>\u001b[0m     cat_number \u001b[39m=\u001b[39m \u001b[39mstr\u001b[39m(random\u001b[39m.\u001b[39mrandint(\u001b[39m1\u001b[39m,\u001b[39m10\u001b[39m))\n\u001b[0;32m---> <a href='vscode-notebook-cell:/Users/pattycha/code2035/zagotovka.ipynb#W0sZmlsZQ%3D%3D?line=42'>43</a>\u001b[0m     cat_img \u001b[39m=\u001b[39m \u001b[39mopen\u001b[39;49m(\u001b[39m'\u001b[39;49m\u001b[39mimg/\u001b[39;49m\u001b[39m'\u001b[39;49m \u001b[39m+\u001b[39;49m cat_number \u001b[39m+\u001b[39;49m \u001b[39m'\u001b[39;49m\u001b[39m.jpg\u001b[39;49m\u001b[39m'\u001b[39;49m, \u001b[39m'\u001b[39;49m\u001b[39mrb\u001b[39;49m\u001b[39m'\u001b[39;49m)\n\u001b[1;32m     <a href='vscode-notebook-cell:/Users/pattycha/code2035/zagotovka.ipynb#W0sZmlsZQ%3D%3D?line=43'>44</a>\u001b[0m     bot\u001b[39m.\u001b[39msend_photo(message\u001b[39m.\u001b[39mchat\u001b[39m.\u001b[39mid, cat_img)\n",
      "\u001b[0;31mFileNotFoundError\u001b[0m: [Errno 2] No such file or directory: 'img/10.jpg'"
     ]
    }
   ],
   "source": [
    "import telebot\n",
    "import requests\n",
    "import random\n",
    "from bs4 import BeautifulSoup\n",
    "\n",
    "token = '5887799871:AAEKass2GpBSHVWUefXCRseiKHHzyBiY12s'\n",
    "bot = telebot.TeleBot(token)\n",
    "\n",
    "\n",
    "@bot.message_handler(commands=['start', 'help'])\n",
    "def send_welcome(message):\n",
    "    welcome_text = \"\"\"\n",
    "    Привет! Я умею рассказывать стихи, знаю много интересных фактов и могу показать милых котиков!\n",
    "    \"\"\"\n",
    "    keyboard=telebot.types.ReplyKeyboardMarkup(row_width=2,resize_keyboard=False,one_time_keyboard=False)\n",
    "    button1=telebot.types.KeyboardButton(\"Факт\")\n",
    "    button2=telebot.types.KeyboardButton(\"Стихотворение\")\n",
    "    button3=telebot.types.KeyboardButton(\"Котики\")\n",
    "    button4=telebot.types.KeyboardButton(\"Стикер\")\n",
    "    keyboard.add(button1,button2,button3,button4)\n",
    "    bot.send_message(message.chat.id,  welcome_text,reply_markup=keyboard)\n",
    "\n",
    "@bot.message_handler(commands=['poem'])\n",
    "def send_poem(message):\n",
    "    poem_text = \"Муха села на варенье, вот и все стихотворенье...\"\n",
    "    bot.send_message(message.chat.id, poem_text)\n",
    "    keyboard = telebot.types.InlineKeyboardMarkup(row_width=1)\n",
    "    button_url=telebot.types.InlineKeyboardButton(\"Перейти\",url=\"https://stihi.ru\")\n",
    "    keyboard.add(button_url)\n",
    "    bot.send_message(message.chat.id,\"Больше стихов\",reply_markup=keyboard)\n",
    "\n",
    "@bot.message_handler(commands=['fact'])\n",
    "def send_fact(message):\n",
    "    response = requests.get('https://i-fakt.ru/').content\n",
    "    html = BeautifulSoup(response, 'lxml')\n",
    "    fact = random.choice(html.find_all(class_='p-2 clearfix'))\n",
    "    fact_link =  fact.a.attrs['href']\n",
    "    bot.send_message(message.chat.id, fact_link)\n",
    "\n",
    "@bot.message_handler(commands=['cat'])\n",
    "def send_cat(message):\n",
    "    cat_number = str(random.randint(1,10))\n",
    "    cat_img = open('img/' + cat_number + '.jpg', 'rb')\n",
    "    bot.send_photo(message.chat.id, cat_img)\n",
    "\n",
    "@bot.message_handler(commands=['musik'])\n",
    "def send_mus(message):\n",
    "    mus = open(\"happy.mp3\", 'rb')\n",
    "    bot.send_(message.chat.id, mus)\n",
    "@bot.message_handler(commands=['sticker'])\n",
    "def send_sticker(message):\n",
    "    bot.send_sticker(message.chat.id,\"CAACAgIAAxkBAAEGyAFjlcn6NwXCN0gfFcJfQ-iv-usiUAAC1CIAAvhtsEgTy0IAAWSuHYgrBA\")\n",
    "\n",
    "@bot.message_handler(content_types=[\"text\"])\n",
    "def answear(message):\n",
    "    if message.text.strip() == \"Факт\":\n",
    "        send_fact(message)\n",
    "    elif message.text.strip() == \"Стихотворение\":\n",
    "        send_poem(message)\n",
    "    elif message.text.strip() == \"Котики\":\n",
    "        send_cat(message)\n",
    "    elif message.text.strip() == \"Стикер\":\n",
    "        send_sticker(message)\n",
    "bot.polling()\n"
   ]
  },
  {
   "cell_type": "code",
   "execution_count": 5,
   "metadata": {},
   "outputs": [
    {
     "ename": "NameError",
     "evalue": "name 'win' is not defined",
     "output_type": "error",
     "traceback": [
      "\u001b[0;31m---------------------------------------------------------------------------\u001b[0m",
      "\u001b[0;31mNameError\u001b[0m                                 Traceback (most recent call last)",
      "\u001b[1;32m/Users/pattycha/code2035/zagotovka.ipynb Cell 2\u001b[0m in \u001b[0;36m<cell line: 1>\u001b[0;34m()\u001b[0m\n\u001b[0;32m----> <a href='vscode-notebook-cell:/Users/pattycha/code2035/zagotovka.ipynb#W1sZmlsZQ%3D%3D?line=0'>1</a>\u001b[0m win\u001b[39m+\u001b[39mr\n",
      "\u001b[0;31mNameError\u001b[0m: name 'win' is not defined"
     ]
    }
   ],
   "source": [
    "pip install pyTelegramBotAPI"
   ]
  },
  {
   "cell_type": "code",
   "execution_count": null,
   "metadata": {},
   "outputs": [],
   "source": []
  }
 ],
 "metadata": {
  "kernelspec": {
   "display_name": "Python 3",
   "language": "python",
   "name": "python3"
  },
  "language_info": {
   "codemirror_mode": {
    "name": "ipython",
    "version": 3
   },
   "file_extension": ".py",
   "mimetype": "text/x-python",
   "name": "python",
   "nbconvert_exporter": "python",
   "pygments_lexer": "ipython3",
   "version": "3.8.9 (default, Oct 26 2021, 07:25:54) \n[Clang 13.0.0 (clang-1300.0.29.30)]"
  },
  "orig_nbformat": 4,
  "vscode": {
   "interpreter": {
    "hash": "31f2aee4e71d21fbe5cf8b01ff0e069b9275f58929596ceb00d14d90e3e16cd6"
   }
  }
 },
 "nbformat": 4,
 "nbformat_minor": 2
}
