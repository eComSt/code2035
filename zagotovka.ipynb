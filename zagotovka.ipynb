{
 "cells": [
  {
   "cell_type": "code",
   "execution_count": 18,
   "metadata": {},
   "outputs": [],
   "source": [
    "import telebot\n",
    "import requests\n",
    "import random\n",
    "from bs4 import BeautifulSoup\n",
    "\n",
    "token = '5887799871:AAEKass2GpBSHVWUefXCRseiKHHzyBiY12s'\n",
    "bot = telebot.TeleBot(token)\n",
    "\n",
    "\n",
    "@bot.message_handler(commands=['start', 'help'])\n",
    "def send_welcome(message):\n",
    "    welcome_text = \"\"\"\n",
    "    Привет! Я умею рассказывать стихи, знаю много интересных фактов и могу показать милых котиков!\n",
    "    \"\"\"\n",
    "    keyboard=telebot.types.ReplyKeyboardMarkup(row_width=2,resize_keyboard=False,one_time_keyboard=False)\n",
    "    button1=telebot.types.KeyboardButton(\"Факт\")\n",
    "    button2=telebot.types.KeyboardButton(\"Стихотворение\")\n",
    "    button3=telebot.types.KeyboardButton(\"Котики\")\n",
    "    button4=telebot.types.KeyboardButton(\"Стикер\")\n",
    "    keyboard.add(button1,button2,button3,button4)\n",
    "    bot.send_message(message.chat.id,  welcome_text,reply_markup=keyboard)\n",
    "\n",
    "@bot.message_handler(commands=['poem'])\n",
    "def send_poem(message):\n",
    "    poem_text = \"Муха села на варенье, вот и все стихотворенье...\"\n",
    "    bot.send_message(message.chat.id, poem_text)\n",
    "    keyboard = telebot.types.InlineKeyboardMarkup(row_width=1)\n",
    "    button_url=telebot.types.InlineKeyboardButton(\"Перейти\",url=\"https://stihi.ru\")\n",
    "    keyboard.add(button_url)\n",
    "    bot.send_message(message.chat.id,\"Больше стихов\",reply_markup=keyboard)\n",
    "\n",
    "@bot.message_handler(commands=['fact'])\n",
    "def send_fact(message):\n",
    "    response = requests.get('https://i-fakt.ru/').content\n",
    "    html = BeautifulSoup(response, 'lxml')\n",
    "    fact = random.choice(html.find_all(class_='p-2 clearfix'))\n",
    "    fact_link =  fact.a.attrs['href']\n",
    "    bot.send_message(message.chat.id, fact_link)\n",
    "\n",
    "@bot.message_handler(commands=['cat'])\n",
    "def send_cat(message):\n",
    "    cat_number = str(random.randint(1,10))\n",
    "    cat_img = open('img/' + cat_number + '.jpg', 'rb')\n",
    "    bot.send_photo(message.chat.id, cat_img)\n",
    "\n",
    "@bot.message_handler(commands=['musik'])\n",
    "def send_mus(message):\n",
    "    mus = open(\"happy.mp3\", 'rb')\n",
    "    bot.send_(message.chat.id, mus)\n",
    "@bot.message_handler(commands=['sticker'])\n",
    "def send_sticker(message):\n",
    "    bot.send_sticker(message.chat.id,\"CAACAgIAAxkBAAEGyAFjlcn6NwXCN0gfFcJfQ-iv-usiUAAC1CIAAvhtsEgTy0IAAWSuHYgrBA\")\n",
    "\n",
    "@bot.message_handler(content_types=[\"text\"])\n",
    "def answear(message):\n",
    "    if message.text.strip() == \"Факт\":\n",
    "        send_fact(message)\n",
    "    elif message.text.strip() == \"Стихотворение\":\n",
    "        send_poem(message)\n",
    "    elif message.text.strip() == \"Котики\":\n",
    "        send_cat(message)\n",
    "    elif message.text.strip() == \"Стикер\":\n",
    "        send_sticker(message)\n",
    "bot.polling()\n"
   ]
  },
  {
   "cell_type": "code",
   "execution_count": 5,
   "metadata": {},
   "outputs": [
    {
     "ename": "NameError",
     "evalue": "name 'win' is not defined",
     "output_type": "error",
     "traceback": [
      "\u001b[0;31m---------------------------------------------------------------------------\u001b[0m",
      "\u001b[0;31mNameError\u001b[0m                                 Traceback (most recent call last)",
      "\u001b[1;32m/Users/pattycha/code2035/zagotovka.ipynb Cell 2\u001b[0m in \u001b[0;36m<cell line: 1>\u001b[0;34m()\u001b[0m\n\u001b[0;32m----> <a href='vscode-notebook-cell:/Users/pattycha/code2035/zagotovka.ipynb#W1sZmlsZQ%3D%3D?line=0'>1</a>\u001b[0m win\u001b[39m+\u001b[39mr\n",
      "\u001b[0;31mNameError\u001b[0m: name 'win' is not defined"
     ]
    }
   ],
   "source": [
    "pip install pyTelegramBotAPI"
   ]
  },
  {
   "cell_type": "code",
   "execution_count": null,
   "metadata": {},
   "outputs": [],
   "source": []
  }
 ],
 "metadata": {
  "kernelspec": {
   "display_name": "Python 3",
   "language": "python",
   "name": "python3"
  },
  "language_info": {
   "codemirror_mode": {
    "name": "ipython",
    "version": 3
   },
   "file_extension": ".py",
   "mimetype": "text/x-python",
   "name": "python",
   "nbconvert_exporter": "python",
   "pygments_lexer": "ipython3",
   "version": "3.8.9"
  },
  "orig_nbformat": 4,
  "vscode": {
   "interpreter": {
    "hash": "31f2aee4e71d21fbe5cf8b01ff0e069b9275f58929596ceb00d14d90e3e16cd6"
   }
  }
 },
 "nbformat": 4,
 "nbformat_minor": 2
}
