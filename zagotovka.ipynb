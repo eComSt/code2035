{
 "cells": [
  {
   "cell_type": "code",
   "execution_count": 2,
   "metadata": {},
   "outputs": [],
   "source": [
    "import telebot\n",
    "import requests\n",
    "import random\n",
    "from bs4 import BeautifulSoup\n",
    "\n",
    "token = '5887799871:AAEKass2GpBSHVWUefXCRseiKHHzyBiY12s'\n",
    "bot = telebot.TeleBot(token)\n",
    "\n",
    "\n",
    "@bot.message_handler(commands=['start', 'help'])\n",
    "def send_welcome(message):\n",
    "    welcome_text = \"\"\"\n",
    "    Привет! Я умею рассказывать стихи, знаю много интересных фактов и могу показать милых котиков!\n",
    "    \"\"\"\n",
    "    bot.send_message(message.chat.id,  welcome_text)\n",
    "\n",
    "@bot.message_handler(commands=['poem'])\n",
    "def send_poem(message):\n",
    "    poem_text = \"Муха села на варенье, вот и все стихотворенье...\"\n",
    "    bot.send_message(message.chat.id, poem_text)\n",
    "\n",
    "@bot.message_handler(commands=['fact'])\n",
    "def send_fact(message):\n",
    "    response = requests.get('https://i-fakt.ru/').content\n",
    "    html = BeautifulSoup(response, 'lxml')\n",
    "    fact = random.choice(html.find_all(class_='p-2 clearfix'))\n",
    "    fact_link =  fact.a.attrs['href']\n",
    "    bot.send_message(message.chat.id, fact_link)\n",
    "\n",
    "@bot.message_handler(commands=['cat'])\n",
    "def send_cat(message):\n",
    "    cat_number = str(random.randint(1,10))\n",
    "    cat_img = open('img/' + cat_number + '.jpg', 'rb')\n",
    "    bot.send_photo(message.chat.id, cat_img)\n",
    "\n",
    "\n",
    "bot.polling()\n"
   ]
  }
 ],
 "metadata": {
  "kernelspec": {
   "display_name": "Python 3",
   "language": "python",
   "name": "python3"
  },
  "language_info": {
   "codemirror_mode": {
    "name": "ipython",
    "version": 3
   },
   "file_extension": ".py",
   "mimetype": "text/x-python",
   "name": "python",
   "nbconvert_exporter": "python",
   "pygments_lexer": "ipython3",
   "version": "3.8.9"
  },
  "orig_nbformat": 4,
  "vscode": {
   "interpreter": {
    "hash": "31f2aee4e71d21fbe5cf8b01ff0e069b9275f58929596ceb00d14d90e3e16cd6"
   }
  }
 },
 "nbformat": 4,
 "nbformat_minor": 2
}
