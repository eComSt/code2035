{
 "cells": [
  {
   "cell_type": "code",
   "execution_count": 6,
   "metadata": {},
   "outputs": [
    {
     "ename": "",
     "evalue": "",
     "output_type": "error",
     "traceback": [
      "\u001b[1;31mCanceled future for execute_request message before replies were done"
     ]
    },
    {
     "ename": "",
     "evalue": "",
     "output_type": "error",
     "traceback": [
      "\u001b[1;31mThe Kernel crashed while executing code in the the current cell or a previous cell. Please review the code in the cell(s) to identify a possible cause of the failure. Click <a href='https://aka.ms/vscodeJupyterKernelCrash'>here</a> for more info. View Jupyter <a href='command:jupyter.viewOutput'>log</a> for further details."
     ]
    }
   ],
   "source": [
    "from tkinter import *\n",
    "from random import randint as rnd\n",
    "\n",
    "window = Tk()\n",
    "\n",
    "w = 600 #ширина окна и поля\n",
    "h = 600 #высота\n",
    "count = 3 # количество драконов\n",
    "\n",
    "window.geometry(f\"{w}x{h}\") #создание окна\n",
    "\n",
    "canvas = Canvas(window, width = w, height = h) # создание холста для рисования\n",
    "canvas.place(in_ = window, x = 0, y = 0)\n",
    "\n",
    "bg_photo = PhotoImage(file=\"img/bg_2.gif\")\n",
    "\n",
    "class Knight:\n",
    "    \n",
    "    def __init__(self):\n",
    "        self.x = 70\n",
    "        self.y = h//2\n",
    "        self.v = 0\n",
    "        self.photo = PhotoImage(file=\"img/knight.gif\")\n",
    "    \n",
    "    def up(self,event):\n",
    "        self.v = -3\n",
    "    def down(self,event):\n",
    "        self.v = 3\n",
    "    def stop(self,event):\n",
    "        self.v = 0\n",
    "\n",
    "class Dragon:\n",
    "    \n",
    "    def __init__(self):\n",
    "        self.x = 750\n",
    "        self.y = rnd(100,500)\n",
    "        self.v = rnd(1,3)\n",
    "        self.photo = PhotoImage(file=\"img/dragon.gif\")\n",
    "\n",
    "knight = Knight() #создание рыцарей и драконов\n",
    "dragon = []\n",
    "for i in range(count): \n",
    "    dr=Dragon()\n",
    "    dragon.append(dr)\n",
    "\n",
    "def game():\n",
    "    canvas.delete(\"all\")\n",
    "    canvas.create_image(300,300, image = bg_photo)\n",
    "    canvas.create_image(knight.x,knight.y, image =knight.photo)\n",
    "    knight.y+=knight.v\n",
    "    window.after(5,game)\n",
    "\n",
    "window.bind(\"<Key-Up>\",knight.up)\n",
    "window.bind(\"<Key-Down>\",knight.down)\n",
    "window.bind(\"<KeyRelease>\",knight.stop)\n",
    "#\n",
    "game()\n",
    "window.mainloop()"
   ]
  }
 ],
 "metadata": {
  "kernelspec": {
   "display_name": "Python 3",
   "language": "python",
   "name": "python3"
  },
  "language_info": {
   "codemirror_mode": {
    "name": "ipython",
    "version": 3
   },
   "file_extension": ".py",
   "mimetype": "text/x-python",
   "name": "python",
   "nbconvert_exporter": "python",
   "pygments_lexer": "ipython3",
   "version": "3.8.9"
  },
  "orig_nbformat": 4,
  "vscode": {
   "interpreter": {
    "hash": "31f2aee4e71d21fbe5cf8b01ff0e069b9275f58929596ceb00d14d90e3e16cd6"
   }
  }
 },
 "nbformat": 4,
 "nbformat_minor": 2
}
