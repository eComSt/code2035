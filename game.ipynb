{
 "cells": [
  {
   "cell_type": "code",
   "execution_count": 2,
   "metadata": {},
   "outputs": [],
   "source": [
    "from tkinter import *\n",
    "from random import randint\n",
    "\n",
    "window = Tk()\n",
    "window.geometry(\"600x600\")\n",
    "\n",
    "class Earth:\n",
    "    image = PhotoImage(file = r\"elements/ground.gif\").subsample(4,4)\n",
    "\n",
    "class Fire:\n",
    "    image = PhotoImage(file = r\"elements/free-icon-fire-9509865.gif\").subsample(4,4)\n",
    "    \n",
    "class Water:\n",
    "    image = PhotoImage(file = r\"elements/free-icon-water-drop-4246703.gif\").subsample(4,4)\n",
    "\n",
    "class Wind:\n",
    "    image = PhotoImage(file = r\"elements/wind.gif\").subsample(4,4)\n",
    "\n",
    "canvas = Canvas(window, width = 600, height = 600)\n",
    "canvas.pack()\n",
    "\n",
    "elements = [Fire(), Wind(), Earth(), Water()]\n",
    "for elem in elements:\n",
    "    canvas.create_image(randint(50,550),randint(50,550),image = elem.image)\n",
    "\n",
    "def move(event):\n",
    "    images_id = canvas.find_overlapping(event.x,event.y,)\n",
    "\n",
    "\n",
    "window.mainloop()"
   ]
  }
 ],
 "metadata": {
  "kernelspec": {
   "display_name": "Python 3",
   "language": "python",
   "name": "python3"
  },
  "language_info": {
   "codemirror_mode": {
    "name": "ipython",
    "version": 3
   },
   "file_extension": ".py",
   "mimetype": "text/x-python",
   "name": "python",
   "nbconvert_exporter": "python",
   "pygments_lexer": "ipython3",
   "version": "3.8.9"
  },
  "orig_nbformat": 4
 },
 "nbformat": 4,
 "nbformat_minor": 2
}
