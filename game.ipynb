{
 "cells": [
  {
   "cell_type": "code",
   "execution_count": 2,
   "metadata": {},
   "outputs": [],
   "source": [
    "from tkinter import *\n",
    "import random\n",
    "\n",
    "window = Tk()\n",
    "\n",
    "w = 600 #ширина окна и поля\n",
    "h = 600 #высота\n",
    "\n",
    "window.geometry(f\"{w}x{h}\") #создание окна\n",
    "\n",
    "canvas = Canvas(window, width = w, height = h) # создание холста для рисования\n",
    "canvas.place(in_ = window, x = 0, y = 0)\n",
    "\n",
    "bg_photo = PhotoImage(file=\"img/bg_2.gif\")\n",
    "canvas.create_image(300,300, image = bg_photo)\n",
    "\n",
    "window.mainloop()"
   ]
  }
 ],
 "metadata": {
  "kernelspec": {
   "display_name": "Python 3",
   "language": "python",
   "name": "python3"
  },
  "language_info": {
   "codemirror_mode": {
    "name": "ipython",
    "version": 3
   },
   "file_extension": ".py",
   "mimetype": "text/x-python",
   "name": "python",
   "nbconvert_exporter": "python",
   "pygments_lexer": "ipython3",
   "version": "3.8.9"
  },
  "orig_nbformat": 4,
  "vscode": {
   "interpreter": {
    "hash": "31f2aee4e71d21fbe5cf8b01ff0e069b9275f58929596ceb00d14d90e3e16cd6"
   }
  }
 },
 "nbformat": 4,
 "nbformat_minor": 2
}
