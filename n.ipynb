{
 "cells": [
  {
   "cell_type": "code",
   "execution_count": null,
   "metadata": {},
   "outputs": [],
   "source": [
    "11111 11\n",
    "110     "
   ]
  },
  {
   "attachments": {},
   "cell_type": "markdown",
   "metadata": {},
   "source": [
    "11111 11\n",
    "  \n",
    "11000 4 bit -> 1\n",
    "111 11\n",
    "110 2 bit -> 1 \n",
    "   100\n",
    "  1010\n",
    "\n",
    "1 11\n",
    "100\n",
    " 11\n",
    "    1\n",
    "1010010101010101010101010101010101010101010101010101010\n",
    "1010 11\n",
    " 110     100\n",
    " 100\n",
    "   "
   ]
  }
 ],
 "metadata": {
  "language_info": {
   "name": "python"
  },
  "orig_nbformat": 4
 },
 "nbformat": 4,
 "nbformat_minor": 2
}
