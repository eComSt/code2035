{
 "cells": [
  {
   "cell_type": "code",
   "execution_count": 11,
   "metadata": {},
   "outputs": [
    {
     "name": "stdout",
     "output_type": "stream",
     "text": [
      "True and True = True\n",
      "True and False = False\n",
      "False and True = False\n",
      "False and False = False\n",
      "True or True = True\n",
      "True or False = True\n",
      "False or True = True\n",
      "False or False = False\n",
      "not True  = False\n",
      "not False  = True\n",
      "True xor True = False\n",
      "True xor False = True\n",
      "False xor True = True\n",
      "False xor False = False\n"
     ]
    }
   ],
   "source": [
    "l = [True, False]\n",
    "m = [True, False]\n",
    "\n",
    "for i in l:\n",
    "    for j in m:\n",
    "        print(f\"{i} and {j} = {i and j}\")\n",
    "for i in l:\n",
    "    for j in m:\n",
    "        print(f\"{i} or {j} = {i or j}\")\n",
    "\n",
    "for j in m:\n",
    "    print(f\"not {j}  = {not j}\")\n",
    "\n",
    "for i in l:\n",
    "    for j in m:\n",
    "        print(f\"{i} xor {j} = {i ^ j}\")"
   ]
  }
 ],
 "metadata": {
  "kernelspec": {
   "display_name": "Python 3",
   "language": "python",
   "name": "python3"
  },
  "language_info": {
   "codemirror_mode": {
    "name": "ipython",
    "version": 3
   },
   "file_extension": ".py",
   "mimetype": "text/x-python",
   "name": "python",
   "nbconvert_exporter": "python",
   "pygments_lexer": "ipython3",
   "version": "3.11.1 (v3.11.1:a7a450f84a, Dec  6 2022, 15:24:06) [Clang 13.0.0 (clang-1300.0.29.30)]"
  },
  "orig_nbformat": 4,
  "vscode": {
   "interpreter": {
    "hash": "aee8b7b246df8f9039afb4144a1f6fd8d2ca17a180786b69acc140d282b71a49"
   }
  }
 },
 "nbformat": 4,
 "nbformat_minor": 2
}
