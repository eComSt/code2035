{
 "cells": [
  {
   "cell_type": "code",
   "execution_count": 1,
   "metadata": {},
   "outputs": [
    {
     "name": "stdout",
     "output_type": "stream",
     "text": [
      "pygame 2.1.2 (SDL 2.0.18, Python 3.8.9)\n",
      "Hello from the pygame community. https://www.pygame.org/contribute.html\n"
     ]
    },
    {
     "ename": "SystemExit",
     "evalue": "",
     "output_type": "error",
     "traceback": [
      "An exception has occurred, use %tb to see the full traceback.\n",
      "\u001b[0;31mSystemExit\u001b[0m\n"
     ]
    },
    {
     "name": "stderr",
     "output_type": "stream",
     "text": [
      "/Users/pattycha/Library/Python/3.8/lib/python/site-packages/IPython/core/interactiveshell.py:3406: UserWarning: To exit: use 'exit', 'quit', or Ctrl-D.\n",
      "  warn(\"To exit: use 'exit', 'quit', or Ctrl-D.\", stacklevel=1)\n"
     ]
    }
   ],
   "source": [
    "#!/usr/bin/env python\n",
    "\n",
    "import pygame\n",
    "from pygame.locals import *  # noqa\n",
    "import sys\n",
    "import random\n",
    "\n",
    "\n",
    "class FlappyBird:\n",
    "    def __init__(self):\n",
    "        self.screen = pygame.display.set_mode((400, 708))\n",
    "        self.bird = pygame.Rect(65, 50, 50, 50)\n",
    "        self.background = pygame.image.load(\"assets/background.png\").convert()\n",
    "        self.birdSprites = [pygame.image.load(\"assets/1.png\").convert_alpha(),\n",
    "                            pygame.image.load(\"assets/2.png\").convert_alpha(),\n",
    "                            pygame.image.load(\"assets/dead.png\")]\n",
    "        self.wallUp = pygame.image.load(\"assets/bottom.png\").convert_alpha()\n",
    "        self.wallDown = pygame.image.load(\"assets/top.png\").convert_alpha()\n",
    "        self.gap = 130\n",
    "        self.wallx = 400\n",
    "        self.birdY = 350\n",
    "        self.jump = 0\n",
    "        self.jumpSpeed = 10\n",
    "        self.gravity = 5\n",
    "        self.dead = False\n",
    "        self.sprite = 0\n",
    "        self.counter = 0\n",
    "        self.offset = random.randint(-110, 110)\n",
    "\n",
    "    def updateWalls(self):\n",
    "        self.wallx -= 2\n",
    "        if self.wallx < -80:\n",
    "            self.wallx = 400\n",
    "            self.counter += 1\n",
    "            self.offset = random.randint(-110, 110)\n",
    "\n",
    "    def birdUpdate(self):\n",
    "        if self.jump:\n",
    "            self.jumpSpeed -= 1\n",
    "            self.birdY -= self.jumpSpeed\n",
    "            self.jump -= 1\n",
    "        else:\n",
    "            self.birdY += self.gravity\n",
    "            self.gravity += 0.2\n",
    "        self.bird[1] = self.birdY\n",
    "        upRect = pygame.Rect(self.wallx,\n",
    "                             360 + self.gap - self.offset + 10,\n",
    "                             self.wallUp.get_width() - 10,\n",
    "                             self.wallUp.get_height())\n",
    "        downRect = pygame.Rect(self.wallx,\n",
    "                               0 - self.gap - self.offset - 10,\n",
    "                               self.wallDown.get_width() - 10,\n",
    "                               self.wallDown.get_height())\n",
    "        if upRect.colliderect(self.bird):\n",
    "            self.dead = True\n",
    "        if downRect.colliderect(self.bird):\n",
    "            self.dead = True\n",
    "        if not 0 < self.bird[1] < 720:\n",
    "            self.bird[1] = 50\n",
    "            self.birdY = 50\n",
    "            self.dead = False\n",
    "            self.counter = 0\n",
    "            self.wallx = 400\n",
    "            self.offset = random.randint(-110, 110)\n",
    "            self.gravity = 5\n",
    "\n",
    "    def run(self):\n",
    "        clock = pygame.time.Clock()\n",
    "        pygame.font.init()\n",
    "        font = pygame.font.SysFont(\"Arial\", 50)\n",
    "        while True:\n",
    "            clock.tick(60)\n",
    "            for event in pygame.event.get():\n",
    "                if event.type == pygame.QUIT:\n",
    "                    sys.exit()\n",
    "                if (event.type == pygame.KEYDOWN or event.type == pygame.MOUSEBUTTONDOWN) and not self.dead:\n",
    "                    self.jump = 17\n",
    "                    self.gravity = 5\n",
    "                    self.jumpSpeed = 10\n",
    "\n",
    "            self.screen.fill((255, 255, 255))\n",
    "            self.screen.blit(self.background, (0, 0))\n",
    "            self.screen.blit(self.wallUp,\n",
    "                             (self.wallx, 360 + self.gap - self.offset))\n",
    "            self.screen.blit(self.wallDown,\n",
    "                             (self.wallx, 0 - self.gap - self.offset))\n",
    "            self.screen.blit(font.render(str(self.counter),\n",
    "                                         -1,\n",
    "                                         (255, 255, 255)),\n",
    "                             (200, 50))\n",
    "            if self.dead:\n",
    "                self.sprite = 2\n",
    "            elif self.jump:\n",
    "                self.sprite = 1\n",
    "            self.screen.blit(self.birdSprites[self.sprite], (70, self.birdY))\n",
    "            if not self.dead:\n",
    "                self.sprite = 0\n",
    "            self.updateWalls()\n",
    "            self.birdUpdate()\n",
    "            pygame.display.update()\n",
    "\n",
    "if __name__ == \"__main__\":\n",
    "    FlappyBird().run()\n"
   ]
  }
 ],
 "metadata": {
  "kernelspec": {
   "display_name": "Python 3",
   "language": "python",
   "name": "python3"
  },
  "language_info": {
   "codemirror_mode": {
    "name": "ipython",
    "version": 3
   },
   "file_extension": ".py",
   "mimetype": "text/x-python",
   "name": "python",
   "nbconvert_exporter": "python",
   "pygments_lexer": "ipython3",
   "version": "3.8.9"
  },
  "orig_nbformat": 4,
  "vscode": {
   "interpreter": {
    "hash": "31f2aee4e71d21fbe5cf8b01ff0e069b9275f58929596ceb00d14d90e3e16cd6"
   }
  }
 },
 "nbformat": 4,
 "nbformat_minor": 2
}
