{
 "cells": [
  {
   "cell_type": "code",
   "execution_count": 3,
   "metadata": {},
   "outputs": [],
   "source": [
    "from tkinter import *\n",
    "import requests\n",
    "from bs4 import BeautifulSoup as bs\n",
    "from datetime import datetime\n",
    "\n",
    "def new_win():\n",
    "    tl = Toplevel(root)\n",
    "    tl['bg'] = \"black\"\n",
    "colorbg = \"#afb55b\"\n",
    "root = Tk()\n",
    "root.title(\"Valute course\")\n",
    "root.geometry(\"400x400+300+300\")\n",
    "root.resizable(False,False)\n",
    "root['bg'] = colorbg\n",
    "\n",
    "url = \"http://www.cbr.ru/scripts/XML_daily.asp?\"\n",
    "\n",
    "today = datetime.today()\n",
    "today = today.strftime(\"%d/%m/%Y\")\n",
    "payload = {\"date_req\" : today}\n",
    "responce = requests.get(url,params=payload)\n",
    "xml = bs(responce.content,'lxml')\n",
    "\n",
    "def getCourse(id):\n",
    "    return xml.find(\"valute\",{\"id\":id}).value.text\n",
    "\n",
    "img_logo = PhotoImage(file = \"logo.gif\")\n",
    "logo = Label(root,image=img_logo,bg = colorbg)\n",
    "logo.place(x=0,y=0)\n",
    "\n",
    "lab = Label(root, text = f\"Курс валют на {today.replace('/','.')}\\nМаксимум банк\",bg = \"green\",fg = \"Black\",font = (\"Courier\",16))\n",
    "lab.place(y = 25, x=150)\n",
    "\n",
    "course_usd = Label(root, text = f\"${getCourse('R01235')}\",bg= \"blue\",fg = \"magenta\")\n",
    "course_usd.place(x=100,y=190)\n",
    "course_eur = Label(root, text = f\"€{getCourse('R01239')}\",bg= \"blue\",fg = \"magenta\")\n",
    "course_eur.place(x=100,y=230)\n",
    "course_uan = Label(root, text = f\"¥{getCourse('R01375')}\",bg= \"blue\",fg = \"magenta\")\n",
    "course_uan.place(x=100,y=270)\n",
    "\n",
    "button = Button(root, text = 'press me plz', command = new_win)\n",
    "button.place(x=100, y = 320)\n",
    "\n",
    "\n",
    "\n",
    "root.mainloop()"
   ]
  },
  {
   "cell_type": "code",
   "execution_count": 10,
   "metadata": {},
   "outputs": [
    {
     "name": "stdout",
     "output_type": "stream",
     "text": [
      "Defaulting to user installation because normal site-packages is not writeable\n",
      "Requirement already satisfied: requests in /Users/pattycha/Library/Python/3.8/lib/python/site-packages (2.28.1)\n",
      "Requirement already satisfied: urllib3<1.27,>=1.21.1 in /Users/pattycha/Library/Python/3.8/lib/python/site-packages (from requests) (1.26.12)\n",
      "Requirement already satisfied: certifi>=2017.4.17 in /Users/pattycha/Library/Python/3.8/lib/python/site-packages (from requests) (2022.6.15)\n",
      "Requirement already satisfied: charset-normalizer<3,>=2 in /Users/pattycha/Library/Python/3.8/lib/python/site-packages (from requests) (2.1.1)\n",
      "Requirement already satisfied: idna<4,>=2.5 in /Users/pattycha/Library/Python/3.8/lib/python/site-packages (from requests) (3.3)\n",
      "Note: you may need to restart the kernel to use updated packages.\n"
     ]
    }
   ],
   "source": [
    "\n",
    "pip install requests"
   ]
  }
 ],
 "metadata": {
  "kernelspec": {
   "display_name": "Python 3",
   "language": "python",
   "name": "python3"
  },
  "language_info": {
   "codemirror_mode": {
    "name": "ipython",
    "version": 3
   },
   "file_extension": ".py",
   "mimetype": "text/x-python",
   "name": "python",
   "nbconvert_exporter": "python",
   "pygments_lexer": "ipython3",
   "version": "3.8.9"
  },
  "orig_nbformat": 4,
  "vscode": {
   "interpreter": {
    "hash": "31f2aee4e71d21fbe5cf8b01ff0e069b9275f58929596ceb00d14d90e3e16cd6"
   }
  }
 },
 "nbformat": 4,
 "nbformat_minor": 2
}
