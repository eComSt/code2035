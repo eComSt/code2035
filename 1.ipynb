{
 "cells": [
  {
   "cell_type": "code",
   "execution_count": 1,
   "metadata": {},
   "outputs": [],
   "source": [
    "import tkinter"
   ]
  },
  {
   "cell_type": "code",
   "execution_count": 7,
   "metadata": {},
   "outputs": [
    {
     "name": "stdout",
     "output_type": "stream",
     "text": [
      "15\n"
     ]
    }
   ],
   "source": [
    "def summa_n(n):\n",
    "    ans=0\n",
    "    for i in range(1,n+1):ans+=i\n",
    "    return ans\n",
    "\n",
    "def summ_n(n):\n",
    "    if n==1:return 1\n",
    "    else: return summ_n(n-1)+n\n",
    "\n",
    "print(summ_n(5))"
   ]
  },
  {
   "cell_type": "code",
   "execution_count": 8,
   "metadata": {},
   "outputs": [
    {
     "name": "stdout",
     "output_type": "stream",
     "text": [
      "Привет!\n",
      "Добро пожаловать!\n",
      "Следующий.\n",
      "\n",
      "Следующий.\n",
      "\n"
     ]
    }
   ],
   "source": [
    "def greeting():\n",
    "    print('Привет!')\n",
    "    print('Добро пожаловать!')\n",
    "\n",
    "for i in range(5):\n",
    "    a = input('Зайдёте? Да/Нет: ')\n",
    "    if a == 'Да':\n",
    "        greeting()\n",
    "    print('Следующий.\\n')"
   ]
  },
  {
   "cell_type": "code",
   "execution_count": 10,
   "metadata": {},
   "outputs": [
    {
     "name": "stdout",
     "output_type": "stream",
     "text": [
      "4//3=1\n"
     ]
    }
   ],
   "source": [
    "def calc(x,y,op):\n",
    "    if op ==\"+\":ans=x+y\n",
    "    elif op=='-':ans=x-y\n",
    "    elif op==\"*\":ans=x*y\n",
    "    elif op==\"/\":ans=x/y\n",
    "    elif op==\"%\":ans=x%y\n",
    "    elif op==\"//\":ans=int(x/y)\n",
    "    with open(\"math.log\",\"a\") as file:\n",
    "        file.write(f\"{x}{op}{y}={ans}\\n\")\n",
    "    print(f\"{x}{op}{y}={ans}\")\n",
    "x=int(input(\"Введите число 1\"))\n",
    "y=int(input(\"Введите число 2\"))\n",
    "op=input(\"Введите + или -\")\n",
    "calc(x,y,op)"
   ]
  }
 ],
 "metadata": {
  "kernelspec": {
   "display_name": "Python 3",
   "language": "python",
   "name": "python3"
  },
  "language_info": {
   "codemirror_mode": {
    "name": "ipython",
    "version": 3
   },
   "file_extension": ".py",
   "mimetype": "text/x-python",
   "name": "python",
   "nbconvert_exporter": "python",
   "pygments_lexer": "ipython3",
   "version": "3.8.9"
  },
  "orig_nbformat": 4,
  "vscode": {
   "interpreter": {
    "hash": "31f2aee4e71d21fbe5cf8b01ff0e069b9275f58929596ceb00d14d90e3e16cd6"
   }
  }
 },
 "nbformat": 4,
 "nbformat_minor": 2
}
