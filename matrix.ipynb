{
 "cells": [
  {
   "cell_type": "code",
   "execution_count": 5,
   "metadata": {},
   "outputs": [
    {
     "ename": "TclError",
     "evalue": "invalid command name \".!label\"",
     "output_type": "error",
     "traceback": [
      "\u001b[0;31m---------------------------------------------------------------------------\u001b[0m",
      "\u001b[0;31mTclError\u001b[0m                                  Traceback (most recent call last)",
      "Cell \u001b[0;32mIn[5], line 24\u001b[0m\n\u001b[1;32m     22\u001b[0m a\u001b[39m.\u001b[39mappend(str_gen())\n\u001b[1;32m     23\u001b[0m a\u001b[39m=\u001b[39m\u001b[39m'\u001b[39m\u001b[39m\\n\u001b[39;00m\u001b[39m'\u001b[39m\u001b[39m.\u001b[39mjoin(a[\u001b[39m1\u001b[39m:\u001b[39m21\u001b[39m])\n\u001b[0;32m---> 24\u001b[0m text[\u001b[39m\"\u001b[39;49m\u001b[39mtext\u001b[39;49m\u001b[39m\"\u001b[39;49m]\u001b[39m=\u001b[39ma\n",
      "File \u001b[0;32m/opt/goinfre/pattycha/homebrew/Cellar/python@3.10/3.10.8/Frameworks/Python.framework/Versions/3.10/lib/python3.10/tkinter/__init__.py:1686\u001b[0m, in \u001b[0;36mMisc.__setitem__\u001b[0;34m(self, key, value)\u001b[0m\n\u001b[1;32m   1685\u001b[0m \u001b[39mdef\u001b[39;00m \u001b[39m__setitem__\u001b[39m(\u001b[39mself\u001b[39m, key, value):\n\u001b[0;32m-> 1686\u001b[0m     \u001b[39mself\u001b[39;49m\u001b[39m.\u001b[39;49mconfigure({key: value})\n",
      "File \u001b[0;32m/opt/goinfre/pattycha/homebrew/Cellar/python@3.10/3.10.8/Frameworks/Python.framework/Versions/3.10/lib/python3.10/tkinter/__init__.py:1675\u001b[0m, in \u001b[0;36mMisc.configure\u001b[0;34m(self, cnf, **kw)\u001b[0m\n\u001b[1;32m   1668\u001b[0m \u001b[39mdef\u001b[39;00m \u001b[39mconfigure\u001b[39m(\u001b[39mself\u001b[39m, cnf\u001b[39m=\u001b[39m\u001b[39mNone\u001b[39;00m, \u001b[39m*\u001b[39m\u001b[39m*\u001b[39mkw):\n\u001b[1;32m   1669\u001b[0m     \u001b[39m\"\"\"Configure resources of a widget.\u001b[39;00m\n\u001b[1;32m   1670\u001b[0m \n\u001b[1;32m   1671\u001b[0m \u001b[39m    The values for resources are specified as keyword\u001b[39;00m\n\u001b[1;32m   1672\u001b[0m \u001b[39m    arguments. To get an overview about\u001b[39;00m\n\u001b[1;32m   1673\u001b[0m \u001b[39m    the allowed keyword arguments call the method keys.\u001b[39;00m\n\u001b[1;32m   1674\u001b[0m \u001b[39m    \"\"\"\u001b[39;00m\n\u001b[0;32m-> 1675\u001b[0m     \u001b[39mreturn\u001b[39;00m \u001b[39mself\u001b[39;49m\u001b[39m.\u001b[39;49m_configure(\u001b[39m'\u001b[39;49m\u001b[39mconfigure\u001b[39;49m\u001b[39m'\u001b[39;49m, cnf, kw)\n",
      "File \u001b[0;32m/opt/goinfre/pattycha/homebrew/Cellar/python@3.10/3.10.8/Frameworks/Python.framework/Versions/3.10/lib/python3.10/tkinter/__init__.py:1665\u001b[0m, in \u001b[0;36mMisc._configure\u001b[0;34m(self, cmd, cnf, kw)\u001b[0m\n\u001b[1;32m   1663\u001b[0m \u001b[39mif\u001b[39;00m \u001b[39misinstance\u001b[39m(cnf, \u001b[39mstr\u001b[39m):\n\u001b[1;32m   1664\u001b[0m     \u001b[39mreturn\u001b[39;00m \u001b[39mself\u001b[39m\u001b[39m.\u001b[39m_getconfigure1(_flatten((\u001b[39mself\u001b[39m\u001b[39m.\u001b[39m_w, cmd, \u001b[39m'\u001b[39m\u001b[39m-\u001b[39m\u001b[39m'\u001b[39m\u001b[39m+\u001b[39mcnf)))\n\u001b[0;32m-> 1665\u001b[0m \u001b[39mself\u001b[39;49m\u001b[39m.\u001b[39;49mtk\u001b[39m.\u001b[39;49mcall(_flatten((\u001b[39mself\u001b[39;49m\u001b[39m.\u001b[39;49m_w, cmd)) \u001b[39m+\u001b[39;49m \u001b[39mself\u001b[39;49m\u001b[39m.\u001b[39;49m_options(cnf))\n",
      "\u001b[0;31mTclError\u001b[0m: invalid command name \".!label\""
     ]
    }
   ],
   "source": [
    "from tkinter import *\n",
    "from random import randint\n",
    "import time\n",
    "def str_gen():\n",
    "    s=''\n",
    "    for i in range(65):\n",
    "        a=randint(0,100)\n",
    "        if a<2:s+=str(a)\n",
    "        else: s+=' '\n",
    "    return s\n",
    "window = Tk()\n",
    "window.geometry('450x300')\n",
    "window.attributes('-alpha',0.45)\n",
    "window.config(bg='black')\n",
    "window.attributes('-topmost', True)\n",
    "a='\\n'.join([str_gen() for i in range(20)])\n",
    "text = Label(text=a, fg='lightgreen', bg='black', font=('Courier New', 12))\n",
    "text.place(x=0,y=0, width=450, height=300)\n",
    "while True:\n",
    "    window.update()\n",
    "    a=a.split('\\n')\n",
    "    a.append(str_gen())\n",
    "    a='\\n'.join(a[1:21])\n",
    "    text[\"text\"]=a"
   ]
  }
 ],
 "metadata": {
  "kernelspec": {
   "display_name": "Python 3",
   "language": "python",
   "name": "python3"
  },
  "language_info": {
   "codemirror_mode": {
    "name": "ipython",
    "version": 3
   },
   "file_extension": ".py",
   "mimetype": "text/x-python",
   "name": "python",
   "nbconvert_exporter": "python",
   "pygments_lexer": "ipython3",
   "version": "3.10.8"
  },
  "orig_nbformat": 4,
  "vscode": {
   "interpreter": {
    "hash": "379f48a0a2264dcd18e018f59e5f6957f70a86f867a1be205da3494d0ccba0ca"
   }
  }
 },
 "nbformat": 4,
 "nbformat_minor": 2
}
