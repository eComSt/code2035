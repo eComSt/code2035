{
 "cells": [
  {
   "cell_type": "code",
   "execution_count": 6,
   "metadata": {},
   "outputs": [
    {
     "name": "stdout",
     "output_type": "stream",
     "text": [
      "\n",
      "        \n",
      "            \n",
      "        \n",
      "        \n",
      "            Интересные факты о шафране\n",
      "        \n",
      "        Шафран — пряность, которую получают из сухих рылец цветков шафрана посевного. Во все времена эта пряность считалась одной из самых дорогих в мире. А высокая стоимость определяется огромными трудозатратами. Для…\n",
      "    \n"
     ]
    }
   ],
   "source": [
    "from bs4 import BeautifulSoup\n",
    "import requests\n",
    "from random import choice\n",
    "\n",
    "def get_interesting_fact():\n",
    "    response=requests.get(\"https://i-fakt.ru/\")\n",
    "    html = BeautifulSoup(response.content,'html5')\n",
    "    fact = choice(html.find_all(class_=\"p-2 clearfix\"))\n",
    "    print(fact.text)\n",
    "    print(fact.a.attrs[\"href\"])\n",
    "get_interesting_fact()"
   ]
  },
  {
   "cell_type": "code",
   "execution_count": null,
   "metadata": {},
   "outputs": [],
   "source": [
    "pip install html5"
   ]
  }
 ],
 "metadata": {
  "kernelspec": {
   "display_name": "Python 3",
   "language": "python",
   "name": "python3"
  },
  "language_info": {
   "codemirror_mode": {
    "name": "ipython",
    "version": 3
   },
   "file_extension": ".py",
   "mimetype": "text/x-python",
   "name": "python",
   "nbconvert_exporter": "python",
   "pygments_lexer": "ipython3",
   "version": "3.8.9"
  },
  "orig_nbformat": 4,
  "vscode": {
   "interpreter": {
    "hash": "31f2aee4e71d21fbe5cf8b01ff0e069b9275f58929596ceb00d14d90e3e16cd6"
   }
  }
 },
 "nbformat": 4,
 "nbformat_minor": 2
}
