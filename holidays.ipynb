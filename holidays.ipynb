{
 "cells": [
  {
   "cell_type": "code",
   "execution_count": 3,
   "metadata": {},
   "outputs": [
    {
     "ename": "TclError",
     "evalue": "can't invoke \"wm\" command: application has been destroyed",
     "output_type": "error",
     "traceback": [
      "\u001b[0;31m---------------------------------------------------------------------------\u001b[0m",
      "\u001b[0;31mTclError\u001b[0m                                  Traceback (most recent call last)",
      "Cell \u001b[0;32mIn[3], line 69\u001b[0m\n\u001b[1;32m     67\u001b[0m \u001b[39mwhile\u001b[39;00m \u001b[39mTrue\u001b[39;00m:\n\u001b[1;32m     68\u001b[0m     root\u001b[39m.\u001b[39mupdate()\n\u001b[0;32m---> 69\u001b[0m     root\u001b[39m.\u001b[39;49mattributes(\u001b[39m'\u001b[39;49m\u001b[39m-topmost\u001b[39;49m\u001b[39m'\u001b[39;49m, \u001b[39mTrue\u001b[39;49;00m)\n",
      "File \u001b[0;32m/opt/goinfre/pattycha/homebrew/Cellar/python@3.10/3.10.8/Frameworks/Python.framework/Versions/3.10/lib/python3.10/tkinter/__init__.py:2005\u001b[0m, in \u001b[0;36mWm.wm_attributes\u001b[0;34m(self, *args)\u001b[0m\n\u001b[1;32m   1987\u001b[0m \u001b[39m\"\"\"This subcommand returns or sets platform specific attributes\u001b[39;00m\n\u001b[1;32m   1988\u001b[0m \n\u001b[1;32m   1989\u001b[0m \u001b[39mThe first form returns a list of the platform specific flags and\u001b[39;00m\n\u001b[0;32m   (...)\u001b[0m\n\u001b[1;32m   2002\u001b[0m \u001b[39mOn Unix, there are currently no special attribute values.\u001b[39;00m\n\u001b[1;32m   2003\u001b[0m \u001b[39m\"\"\"\u001b[39;00m\n\u001b[1;32m   2004\u001b[0m args \u001b[39m=\u001b[39m (\u001b[39m'\u001b[39m\u001b[39mwm\u001b[39m\u001b[39m'\u001b[39m, \u001b[39m'\u001b[39m\u001b[39mattributes\u001b[39m\u001b[39m'\u001b[39m, \u001b[39mself\u001b[39m\u001b[39m.\u001b[39m_w) \u001b[39m+\u001b[39m args\n\u001b[0;32m-> 2005\u001b[0m \u001b[39mreturn\u001b[39;00m \u001b[39mself\u001b[39;49m\u001b[39m.\u001b[39;49mtk\u001b[39m.\u001b[39;49mcall(args)\n",
      "\u001b[0;31mTclError\u001b[0m: can't invoke \"wm\" command: application has been destroyed"
     ]
    }
   ],
   "source": [
    "\n",
    "from tkinter import *\n",
    "import requests\n",
    "import random \n",
    "from bs4 import BeautifulSoup\n",
    "def ex(event=None):\n",
    "    root.destroy()\n",
    "root = Tk()\n",
    "root.geometry('500x200')\n",
    "root.protocol('WM_DELETE_WINDOW', ex)\n",
    "root.attributes('-alpha',1)\n",
    "root.configure(bg='black')\n",
    "txt = Text(root,fg='lightgreen',bg='black',relief='groove',font=(\"Arial\", 10), width=81, height=20)\n",
    "txt.place(x=2,y=2)\n",
    "root.bind(\"<q>\",ex)\n",
    "\n",
    "def get_weather():\n",
    "    ans=\"\"\n",
    "    try:\n",
    "        city_id = 1496747\n",
    "        appid=\"336d96b279417cabdba8d4608cebced6\"\n",
    "        res = requests.get(\"http://api.openweathermap.org/data/2.5/weather\",\n",
    "                 params={'id': city_id, 'units': 'metric', 'lang': 'ru', 'APPID': appid})\n",
    "        data = res.json()\n",
    "        print(data)\n",
    "        return \"\\n\".join([\"cyty:\"+data[\"name\"],\"tempreture:\"+str(data[\"main\"][\"temp\"])])\n",
    "    except Exception as e:\n",
    "        return (\"Exception (find):\", e)\n",
    "    \n",
    "def get_data():\n",
    "    try:\n",
    "        res = requests.get('https://calend.online/holiday/')\n",
    "        a=res.text.split(\"<h2>Праздники сегодня <small>полный список</small><\")[1].split(\"</ul>\")[0]\n",
    "        a=a.split('<ul class=\"holidays-list\">')[1]\n",
    "        a=a.split(\"<li>\\n\")\n",
    "        a=[i.strip(' qwertyuiop[]asdfghjkl;\"zxcvbnm,./>/<=-\\t\\n') for i in a]\n",
    "        a=[i.split(\"<\")[0] for i in a]\n",
    "        a=[i.strip(' qwertyuiop[]asdfghjkl;\"zxcvbnm,./>/<=-\\t\\n') for i in a]\n",
    "        a=\"\\n\".join(a)\n",
    "    except Exception as e:\n",
    "        return (\"Exception (find):\", e)\n",
    "    return a\n",
    "\n",
    "def get_data_bs():\n",
    "    try:\n",
    "        res = requests.get('https://calend.online/holiday/')\n",
    "        res = res.content\n",
    "        html = BeautifulSoup(res, 'lxml')\n",
    "        return \"\\n\".join([li.text.strip() for li in html.select('li') if \"Праздники\" not in li.text])\n",
    "    except Exception as e:\n",
    "        return (\"Exception (find):\", e)\n",
    "\n",
    "def get_anekdot():\n",
    "    try:\n",
    "        res = requests.get('https://www.anekdot.ru/random/anekdot/')\n",
    "        res = res.content\n",
    "        html = BeautifulSoup(res, 'lxml')\n",
    "        return random.choice(html.find_all(class_='text')).text\n",
    "    except Exception as e:\n",
    "        return (\"Exception (find):\", e)\n",
    "\n",
    "    \n",
    "def printw(f):\n",
    "    txt.insert(1.0,f())\n",
    "\n",
    "printw(get_data)\n",
    "\n",
    "while True:\n",
    "    root.update()\n",
    "    root.attributes('-topmost', True)\n"
   ]
  }
 ],
 "metadata": {
  "kernelspec": {
   "display_name": "Python 3",
   "language": "python",
   "name": "python3"
  },
  "language_info": {
   "codemirror_mode": {
    "name": "ipython",
    "version": 3
   },
   "file_extension": ".py",
   "mimetype": "text/x-python",
   "name": "python",
   "nbconvert_exporter": "python",
   "pygments_lexer": "ipython3",
   "version": "3.10.8"
  },
  "orig_nbformat": 4,
  "vscode": {
   "interpreter": {
    "hash": "379f48a0a2264dcd18e018f59e5f6957f70a86f867a1be205da3494d0ccba0ca"
   }
  }
 },
 "nbformat": 4,
 "nbformat_minor": 2
}
