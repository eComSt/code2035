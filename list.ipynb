{
 "cells": [
  {
   "cell_type": "code",
   "execution_count": 18,
   "metadata": {},
   "outputs": [
    {
     "name": "stdout",
     "output_type": "stream",
     "text": [
      "[5, 4, 5]\n",
      "2\n"
     ]
    }
   ],
   "source": [
    "films = ['Люди в черном: Интернэшнл', 'Тайная жизнь домашних животных-2', 'История игрушек 4' ]\n",
    "score = [5,5,4,3,5,4,5,2]\n",
    "print(score[0:6:2])\n",
    "num=score.index(4)\n",
    "print(num)"
   ]
  },
  {
   "cell_type": "code",
   "execution_count": 36,
   "metadata": {},
   "outputs": [
    {
     "name": "stdout",
     "output_type": "stream",
     "text": [
      "['a', 'b']\n"
     ]
    }
   ],
   "source": [
    "films = ['a','c','b']\n",
    "\n",
    "films.sort()\n",
    "del(films[-1])\n",
    "print(films)"
   ]
  },
  {
   "cell_type": "code",
   "execution_count": 26,
   "metadata": {},
   "outputs": [
    {
     "name": "stdout",
     "output_type": "stream",
     "text": [
      "0\n"
     ]
    }
   ],
   "source": [
    "print(score.index(5))"
   ]
  },
  {
   "cell_type": "code",
   "execution_count": 16,
   "metadata": {},
   "outputs": [
    {
     "name": "stdout",
     "output_type": "stream",
     "text": [
      "1\n",
      "3\n"
     ]
    }
   ],
   "source": [
    "#списки       \n",
    "favorite_films = []\n",
    "film_1 = input()\n",
    "film_2 = input()\n",
    "film_3 = input()\n",
    "favorite_films.append(film_1)\n",
    "favorite_films.append(film_2)\n",
    "favorite_films.append(film_3)\n",
    "print(favorite_films[0])\n",
    "print(favorite_films[-1])\n",
    "film1 = favorite_films[0]\n",
    "film2 = favorite_films.pop(1)"
   ]
  },
  {
   "cell_type": "code",
   "execution_count": null,
   "metadata": {},
   "outputs": [],
   "source": [
    "#самостоятельное задание\n",
    "facts = ['Хамелеоны могут двигать глазами в разных направлениях одновременно.',\n",
    "   'Змеи видят через веки.',\n",
    "   'У коал отпечатки пальцев похожи на человеческие.',\n",
    "   'Белые медведи-левши.']\n",
    "print('Введите число от 1 до 4')\n",
    "\n",
    "fact_number = int(input())\n",
    "print(facts[fact_number - 1])"
   ]
  },
  {
   "cell_type": "code",
   "execution_count": null,
   "metadata": {},
   "outputs": [],
   "source": [
    "#списки \n",
    "del favorite_films[1]\n",
    "favorite_films.remove('1')\n",
    "print(len(favorite_films))\n",
    "print(score.count(5))\n",
    "\n",
    "numbers = [2,6,1,3,5,4]\n",
    "#сортировка\n",
    "numbers.sort()\n",
    "print(numbers)\n",
    "\n",
    "#возврат индекса\n",
    "a = numbers.index(2)\n",
    "print(a)\n",
    "\n",
    "#копирование \n",
    "numbers_copy = numbers.copy()\n",
    "print(numbers, numbers_copy)\n",
    "\n",
    "#очистить\n",
    "numbers.clear()\n",
    "print(numbers)\n",
    "\n",
    "#преобразовать в список\n",
    "a = list('films')\n",
    "print(a)"
   ]
  },
  {
   "cell_type": "code",
   "execution_count": 14,
   "metadata": {},
   "outputs": [
    {
     "name": "stdout",
     "output_type": "stream",
     "text": [
      "Средний оценка - 4.75\n",
      "Наивысшая оценка - 5\n",
      "Наихудшая оценка - 4\n",
      "Количество пятерок - 6\n",
      "Наихудшая оценка - 4\n",
      "Количество пятерок - 6\n"
     ]
    }
   ],
   "source": [
    "#самостоятельное задание\n",
    "score = [5,5,5,4,5,5,4,5]\n",
    "avg = sum(score)/len(score)\n",
    "maximum = max(score)\n",
    "minimum = min(score)\n",
    "count_5 = score.count(5)\n",
    "print('Средний оценка - ' + str(avg))\n",
    "print('Наивысшая оценка - ' + str(maximum))\n",
    "print('Наихудшая оценка - ' + str(minimum))\n",
    "print('Количество пятерок - ' + str(count_5))\n",
    "print('Наихудшая оценка - ' + str(minimum))\n",
    "print('Количество пятерок - ' + str(count_5))"
   ]
  }
 ],
 "metadata": {
  "kernelspec": {
   "display_name": "Python 3.8.9 64-bit",
   "language": "python",
   "name": "python3"
  },
  "language_info": {
   "codemirror_mode": {
    "name": "ipython",
    "version": 3
   },
   "file_extension": ".py",
   "mimetype": "text/x-python",
   "name": "python",
   "nbconvert_exporter": "python",
   "pygments_lexer": "ipython3",
   "version": "3.8.9"
  },
  "orig_nbformat": 4,
  "vscode": {
   "interpreter": {
    "hash": "31f2aee4e71d21fbe5cf8b01ff0e069b9275f58929596ceb00d14d90e3e16cd6"
   }
  }
 },
 "nbformat": 4,
 "nbformat_minor": 2
}
