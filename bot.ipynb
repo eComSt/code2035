{
 "cells": [
  {
   "cell_type": "code",
   "execution_count": 2,
   "metadata": {},
   "outputs": [
    {
     "name": "stdout",
     "output_type": "stream",
     "text": [
      "right\n",
      "right\n"
     ]
    },
    {
     "name": "stderr",
     "output_type": "stream",
     "text": [
      "2023-01-25 20:48:04,972 (__init__.py:966 MainThread) ERROR - TeleBot: \"Infinity polling: polling exited\"\n",
      "2023-01-25 20:48:04,972 (__init__.py:968 MainThread) ERROR - TeleBot: \"Break infinity polling\"\n"
     ]
    }
   ],
   "source": [
    "import telebot, json\n",
    "\n",
    "bot = telebot.TeleBot(\"5927813863:AAFu2R43c7Vk_dyptpvxw9_TokMfSGe9idw\")\n",
    "ids={}\n",
    "# q=[{\"q\":\"question1\",\"a\":0,\"vars\":[\"1\",\"2\",\"3\",\"4\"]}]\n",
    "# json.dump(q, open(\"default.data\",\"w\"))\n",
    "q=json.load(open(\"default.data\",\"r\"))\n",
    "@bot.message_handler(content_types=[\"text\"])\n",
    "def repeat_all_messages(message): # Название функции не играет никакой роли\n",
    "    id=message.from_user.id\n",
    "    if message.text==\"/start\":\n",
    "        ids.update({id:{\"n\":0,\"r\":0}})\n",
    "        bot.send_message(message.chat.id,q[0][\"q\"]+\"\\n\"+\"\\n\".join(q[0][\"vars\"]))\n",
    "    elif message.text.isdigit():\n",
    "        ans=int(message.text)\n",
    "        if q[ids[id][\"n\"]][\"a\"]==ans:\n",
    "            bot.send_message(message.chat.id,\"right\")\n",
    "            ids[id][\"r\"]+=1\n",
    "        if len(q)-1>ids[id][\"n\"]: \n",
    "            ids[id][\"n\"]+=1\n",
    "            bot.send_message(message.chat.id,q[ids[id][\"n\"]][\"q\"]+\"\\n\"+\"\\n\".join(q[ids[id][\"n\"]][\"vars\"]))\n",
    "        else:\n",
    "            r=ids[id][\"r\"]\n",
    "            bot.send_message(message.chat.id,f\"Done: right {r}, total {len(q)}\")\n",
    "if __name__ == '__main__':\n",
    "     bot.infinity_polling()"
   ]
  }
 ],
 "metadata": {
  "kernelspec": {
   "display_name": "Python 3",
   "language": "python",
   "name": "python3"
  },
  "language_info": {
   "codemirror_mode": {
    "name": "ipython",
    "version": 3
   },
   "file_extension": ".py",
   "mimetype": "text/x-python",
   "name": "python",
   "nbconvert_exporter": "python",
   "pygments_lexer": "ipython3",
   "version": "3.8.9"
  },
  "orig_nbformat": 4,
  "vscode": {
   "interpreter": {
    "hash": "31f2aee4e71d21fbe5cf8b01ff0e069b9275f58929596ceb00d14d90e3e16cd6"
   }
  }
 },
 "nbformat": 4,
 "nbformat_minor": 2
}
