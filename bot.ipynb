{
 "cells": [
  {
   "cell_type": "code",
   "execution_count": 2,
   "metadata": {},
   "outputs": [],
   "source": [
    "import telebot\n",
    "import requests\n",
    "import random\n",
    "from bs4 import BeautifulSoup\n",
    "\n",
    "\n",
    "token = '5887799871:AAEKass2GpBSHVWUefXCRseiKHHzyBiY12s'\n",
    "bot = telebot.TeleBot(token)\n",
    "games = {\"action\":[\"cs\",\"cs go\"],\"strategy\":[\"lol\",'dota']}\n",
    "\n",
    "@bot.message_handler(commands=['start', 'help'])\n",
    "def send_welcome(message, res=False):\n",
    "    welcome_text = \"\"\"\n",
    "    Привет! Я умею рассказывать стихи, знаю много интересных фактов и могу показать милых котиков!\n",
    "    \"\"\"\n",
    "    keyboard = telebot.types.ReplyKeyboardMarkup(row_width=2, resize_keyboard=True, one_time_keyboard = False)\n",
    "    button1=telebot.types.KeyboardButton(\"Факт\")\n",
    "    button2=telebot.types.KeyboardButton(\"Стихотворение\")\n",
    "    button3=telebot.types.KeyboardButton(\"Котики\")\n",
    "    button4=telebot.types.KeyboardButton(\"Стикер\")\n",
    "    keyboard.add(button1,button2,button3,button4)\n",
    "    bot.send_message(message.chat.id,  welcome_text, reply_markup=keyboard)\n",
    "@bot.message_handler(commands=['poem'])\n",
    "def send_poem(message):\n",
    "    poem_text = \"Муха села на варенье, вот и все стихотворенье...\"\n",
    "    bot.send_message(message.chat.id, poem_text)\n",
    "    keyboard = telebot.types.InlineKeyboardMarkup(row_width=1)\n",
    "    button_url = telebot.types.InlineKeyboardButton(\"Перейти\", url='https://stihi.ru/')\n",
    "    keyboard.add(button_url)\n",
    "    bot.send_message(message.chat.id,  'Больше стихов по ссылке ниже', reply_markup=keyboard)\n",
    "    \n",
    "@bot.message_handler(commands=['fact'])\n",
    "def send_fact(message):\n",
    "    response = requests.get('https://i-fakt.ru/').content\n",
    "    html = BeautifulSoup(response, 'lxml')\n",
    "    fact = random.choice(html.find_all(class_='p-2 clearfix'))\n",
    "    fact_link =  fact.a.attrs['href']\n",
    "    fact_text = fact.text\n",
    "    bot.send_message(message.chat.id, fact_link + fact_text)\n",
    "@bot.message_handler(commands=['cat'])\n",
    "def send_cat(message):\n",
    "    cat_number = str(random.randint(1,10))\n",
    "    cat_img = open('img/' + cat_number + '.jpg', 'rb')\n",
    "    bot.send_photo(message.chat.id, cat_img)\n",
    "\n",
    "@bot.message_handler(commands=['sticker'])\n",
    "def send_sticker(message):\n",
    "    bot.send_sticker(message.chat.id, \"CAACAgIAAxkBAAEGyAFjlcn6NwXCN0gfFcJfQ-iv-usiUAAC1CIAAvhtsEgTy0IAAWSuHYgrBA\")\n",
    "    \n",
    "    \n",
    "@bot.message_handler(content_types=[\"text\"])\n",
    "def answer(message):\n",
    "    if message.text.strip() == 'Факт':\n",
    "        send_fact(message)\n",
    "    elif message.text.strip() == 'Стихотворение':\n",
    "        send_poem(message)\n",
    "    elif message.text.strip() == 'Котики':\n",
    "        send_cat(message)\n",
    "    elif message.text.strip() == 'Стикер':\n",
    "        send_sticker(message)\n",
    "    elif message.text.strip() == 'Игра':\n",
    "        bot.send_message(message.chat.id, \"Уточните жанр\")\n",
    "    elif message.text.strip() in games.keys():\n",
    "        bot.send_message(message.chat.id, random.choice(games[message.text.strip()]))\n",
    "\n",
    "bot.polling()"
   ]
  }
 ],
 "metadata": {
  "kernelspec": {
   "display_name": "Python 3",
   "language": "python",
   "name": "python3"
  },
  "language_info": {
   "codemirror_mode": {
    "name": "ipython",
    "version": 3
   },
   "file_extension": ".py",
   "mimetype": "text/x-python",
   "name": "python",
   "nbconvert_exporter": "python",
   "pygments_lexer": "ipython3",
   "version": "3.8.9"
  },
  "orig_nbformat": 4,
  "vscode": {
   "interpreter": {
    "hash": "31f2aee4e71d21fbe5cf8b01ff0e069b9275f58929596ceb00d14d90e3e16cd6"
   }
  }
 },
 "nbformat": 4,
 "nbformat_minor": 2
}
