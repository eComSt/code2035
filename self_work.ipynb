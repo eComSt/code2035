{
 "cells": [
  {
   "cell_type": "code",
   "execution_count": 1,
   "metadata": {},
   "outputs": [
    {
     "name": "stdout",
     "output_type": "stream",
     "text": [
      "Введите ваши месячные доходы за последние 6 месяцев: \n",
      "Ваши накопления составят 3.6рублей\n"
     ]
    }
   ],
   "source": [
    "\n",
    "#самостоятельное задание\n",
    "accumulations = []\n",
    "print('Введите ваши месячные доходы за последние 6 месяцев: ')\n",
    "for i in range(6):\n",
    "    income = int(input())\n",
    "    accumulations.append(income * 0.3)\n",
    "print('Ваши накопления составят ' + str(sum(accumulations)) + 'рублей')"
   ]
  }
 ],
 "metadata": {
  "kernelspec": {
   "display_name": "Python 3",
   "language": "python",
   "name": "python3"
  },
  "language_info": {
   "codemirror_mode": {
    "name": "ipython",
    "version": 3
   },
   "file_extension": ".py",
   "mimetype": "text/x-python",
   "name": "python",
   "nbconvert_exporter": "python",
   "pygments_lexer": "ipython3",
   "version": "3.10.8"
  },
  "orig_nbformat": 4,
  "vscode": {
   "interpreter": {
    "hash": "379f48a0a2264dcd18e018f59e5f6957f70a86f867a1be205da3494d0ccba0ca"
   }
  }
 },
 "nbformat": 4,
 "nbformat_minor": 2
}
