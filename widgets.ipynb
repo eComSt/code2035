{
 "cells": [
  {
   "cell_type": "code",
   "execution_count": 13,
   "metadata": {},
   "outputs": [],
   "source": [
    "from  tkinter import *\n",
    "import random\n",
    "from tkinter import messagebox\n",
    "def clicked():\n",
    "    button_1.place(x=random.randint(1,100),y=405,width=100,height=30)\n",
    "\n",
    "window = Tk()\n",
    "points=0\n",
    "window.title(\"mbox\")\n",
    "window.geometry(\"700x500\")\n",
    "window.attributes(\"-alpha\",0.95)\n",
    "window.attributes(\"-topmost\",True)\n",
    "button_1 = Button(text =\"Hello\",command=clicked)\n",
    "button_1.place(x=10,y=405,width=100,height=30)\n",
    "text = Label(text=,fg=\"green\",bg=\"pink\",\n",
    "            font = (\"Courier New\",34))\n",
    "text.place(x=0,y=0,width=450,height=300)\n",
    "window.mainloop()"
   ]
  }
 ],
 "metadata": {
  "kernelspec": {
   "display_name": "Python 3",
   "language": "python",
   "name": "python3"
  },
  "language_info": {
   "codemirror_mode": {
    "name": "ipython",
    "version": 3
   },
   "file_extension": ".py",
   "mimetype": "text/x-python",
   "name": "python",
   "nbconvert_exporter": "python",
   "pygments_lexer": "ipython3",
   "version": "3.8.9"
  },
  "orig_nbformat": 4,
  "vscode": {
   "interpreter": {
    "hash": "31f2aee4e71d21fbe5cf8b01ff0e069b9275f58929596ceb00d14d90e3e16cd6"
   }
  }
 },
 "nbformat": 4,
 "nbformat_minor": 2
}
