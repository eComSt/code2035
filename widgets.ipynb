{
 "cells": [
  {
   "cell_type": "code",
   "execution_count": 6,
   "metadata": {},
   "outputs": [],
   "source": [
    "from  tkinter import *\n",
    "import random\n",
    "from tkinter import messagebox\n",
    "def clicked():\n",
    "    button_1.place(x=random.randint(1,600),y=random.randint(1,470),width=100,height=30)\n",
    "    text[\"text\"]+=1\n",
    "\n",
    "window = Tk()\n",
    "points=0\n",
    "window.title(\"mbox\")\n",
    "window.geometry(\"700x500+600+600\")\n",
    "window.attributes(\"-alpha\",0.95)\n",
    "window.attributes(\"-topmost\",True)\n",
    "button_1 = Button(text =\"Hello\",command=clicked)\n",
    "button_1.place(x=10,y=405,width=100,height=30)\n",
    "text = Label(text=0,fg=\"black\",bg=\"white\",\n",
    "            font = (\"Courier New\",34))\n",
    "text.place(x=0,y=0,width=50,height=50)\n",
    "window.mainloop()"
   ]
  },
  {
   "cell_type": "code",
   "execution_count": 12,
   "metadata": {},
   "outputs": [],
   "source": [
    "from tkinter import *\n",
    "def check():\n",
    "    pass\n",
    "window = Tk()\n",
    "window.geometry('700x500')\n",
    "window.title('Самый сложный тест по вселенной Marvel')\n",
    "facts = [\n",
    "{'text': 'Человеческое имя Халка - Брюс Беннет', 'right': 1},\n",
    "{'text': 'Уолт Дисней является создателем вселенной Marvel', 'right': 0},\n",
    "{'text': 'До появления костюма супергероя, человек муравей занимался воровством ', 'right': 1},\n",
    "{'text': 'Выдуманный город Дженоша является родиной Черной пантеры', 'right': 0}\n",
    "]\n",
    "cur_q=0\n",
    "points=0\n",
    "label_title = Label(text='Тестирование по вселенной Marvel',\n",
    "                    font=('Arial',24), fg='white', bg='red')\n",
    "label_title.place(width=700,height=50,x=0,y=0)\n",
    "fact= Message(text=facts[cur_q][\"text\"],font=('Arial',14),width=680,borderwidth=0)\n",
    "fact.configure(justify='center')\n",
    "fact.place(x=10,y=70)\n",
    "var = IntVar()\n",
    "false = Radiobutton(text=\"Ложь\", variable=var, value=0)\n",
    "false.place(x=10,y=120)\n",
    "true = Radiobutton(text=\"Правла\", variable=var, value=1)\n",
    "true.place(x=10,y=170)\n",
    "b = Button(text=\"Ответить\",font=('Arial',24),command=check)\n",
    "b.place(x=200,y=130)\n",
    "window.mainloop()"
   ]
  },
  {
   "cell_type": "code",
   "execution_count": 2,
   "metadata": {},
   "outputs": [],
   "source": [
    "from tkinter import *\n",
    "import random\n",
    "import time\n",
    "window = Tk()\n",
    "window.geometry('800x600')\n",
    "window.title('Кликер')\n",
    "points = 0\n",
    "bg_values = ['black', 'red', 'green', 'blue', 'orange']\n",
    "bg_index = 0\n",
    " \n",
    "def check():\n",
    "    global points, bg_index\n",
    "    b.place(x=random.randint(1, 550), y=random.randint(1, 500))\n",
    "    points += 1\n",
    "    label['text'] = points\n",
    " \n",
    "    if points % 20 == 0:\n",
    "        bg_index = 0 if bg_index == len(bg_values) else bg_index + 1\n",
    "        b['fg'] = bg_values[bg_index]\n",
    "        time.sleep(2)\n",
    "\n",
    " \n",
    "b = Button(text='нажми на меня!', font=('Arial', 16), fg='black', command=check)\n",
    "b.place(x=150, y=100)\n",
    "label = Label(text=points, font=('Arial', 16), fg='black')\n",
    "label.place(x=10, y=10)\n",
    "\n",
    "\n",
    "\n",
    "\n",
    "window.mainloop()"
   ]
  }
 ],
 "metadata": {
  "kernelspec": {
   "display_name": "Python 3",
   "language": "python",
   "name": "python3"
  },
  "language_info": {
   "codemirror_mode": {
    "name": "ipython",
    "version": 3
   },
   "file_extension": ".py",
   "mimetype": "text/x-python",
   "name": "python",
   "nbconvert_exporter": "python",
   "pygments_lexer": "ipython3",
   "version": "3.8.9"
  },
  "orig_nbformat": 4,
  "vscode": {
   "interpreter": {
    "hash": "31f2aee4e71d21fbe5cf8b01ff0e069b9275f58929596ceb00d14d90e3e16cd6"
   }
  }
 },
 "nbformat": 4,
 "nbformat_minor": 2
}
