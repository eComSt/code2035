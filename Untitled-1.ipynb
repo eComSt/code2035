{
 "cells": [
  {
   "cell_type": "code",
   "execution_count": 9,
   "metadata": {},
   "outputs": [
    {
     "name": "stdout",
     "output_type": "stream",
     "text": [
      "None\n"
     ]
    }
   ],
   "source": [
    "tel_base = {\"Mihail\":\"89124298352394\"}\n",
    "tel_base[\"Ivan\"] = \"9357938457349857\"\n",
    "tel_base.update({\"Ivan\":None,\"Anastasia\":\"123124234234\"})\n",
    "if \"Ivan\" in tel_base.keys():print(123)\n",
    "print(tel_base.get(\"Ivan\"))\n"
   ]
  },
  {
   "cell_type": "code",
   "execution_count": 14,
   "metadata": {},
   "outputs": [
    {
     "name": "stdout",
     "output_type": "stream",
     "text": [
      "89124298352394\n",
      "None\n",
      "123124234234\n"
     ]
    }
   ],
   "source": [
    "for i in tel_base.values():\n",
    "    print(i)"
   ]
  },
  {
   "cell_type": "code",
   "execution_count": 1,
   "metadata": {},
   "outputs": [
    {
     "name": "stdout",
     "output_type": "stream",
     "text": [
      "У Данил зарплата в месяц 150000\n",
      "Итого в год: 1800000\n"
     ]
    }
   ],
   "source": [
    "salary = 150000\n",
    "name = \"Данил\"\n",
    "print(f\"У {name} зарплата в месяц {salary}\")\n",
    "print(f\"Итого в год: {12*salary}\")"
   ]
  },
  {
   "cell_type": "code",
   "execution_count": 17,
   "metadata": {},
   "outputs": [
    {
     "name": "stdout",
     "output_type": "stream",
     "text": [
      "У Данил зарплата в месяц 150000\n",
      "Итого в год: 1800000\n"
     ]
    }
   ],
   "source": [
    "employee = {\n",
    "    \"name\":\"Данил\",\"salary\":150000\n",
    "}\n",
    "print(f\"У {employee['name']} зарплата в месяц {employee['salary']}\")\n",
    "print(f\"Итого в год: {12*employee['salary']}\")"
   ]
  },
  {
   "cell_type": "code",
   "execution_count": 14,
   "metadata": {},
   "outputs": [
    {
     "name": "stdout",
     "output_type": "stream",
     "text": [
      "У Данил зарплата в месяц 150000\n",
      "Итого в год: 1800000\n",
      "У Виктор зарплата в месяц 145000\n",
      "Итого в год: 1740000\n",
      "У Анна зарплата в месяц 155000\n",
      "Итого в год: 1860000\n",
      "[{'name': 'Данил', 'salary': 150000}, {'name': 'Анна', 'salary': 155000}]\n",
      "[{'name': 'Данил', 'salary': 150000}, {'name': 'Анна', 'salary': 155000}, {'name': 'Елена', 'salary': 165000}]\n"
     ]
    }
   ],
   "source": [
    "empoloyees_list= [\n",
    "    {\"name\":\"Данил\",\"salary\":150000},\n",
    "    {\"name\":\"Виктор\",\"salary\":145000},\n",
    "    {\"name\":\"Анна\",\"salary\":155000},\n",
    "]\n",
    "for employee in empoloyees_list:\n",
    "    print(f\"У {employee['name']} зарплата в месяц {employee['salary']}\")\n",
    "    print(f\"Итого в год: {12*employee['salary']}\")\n",
    "rem = \"Виктор\"\n",
    "# for employee in empoloyees_list:\n",
    "#     if employee['name'] == rem:\n",
    "#         empoloyees_list.remove(employee)\n",
    "#         break\n",
    "empoloyees_list = [i for i in empoloyees_list if i[\"name\"]!=rem]\n",
    "print(empoloyees_list)\n",
    "employee_new = {\n",
    "    \"name\":\"Елена\",\"salary\":165000\n",
    "}\n",
    "empoloyees_list.extend([employee_new])\n",
    "print(empoloyees_list)"
   ]
  },
  {
   "cell_type": "code",
   "execution_count": 3,
   "metadata": {},
   "outputs": [
    {
     "name": "stdout",
     "output_type": "stream",
     "text": [
      "У Данил зарплата в месяц 200000,не в отпуске: да,хороший работник да\n",
      "У Никита зарплата в месяц 250000,не в отпуске: нет,хороший работник да\n",
      "У Ваня зарплата в месяц 150000,не в отпуске: нет,хороший работник да\n",
      "У Ольга зарплата в месяц 150000,не в отпуске: нет,хороший работник да\n"
     ]
    }
   ],
   "source": [
    "class Employee:\n",
    "    def __init__(self,name,salary,on_vacation = False, is_good_employee = True):\n",
    "        self.name = name\n",
    "        self.salary = salary\n",
    "        self.on_vacation = on_vacation\n",
    "        self.is_good_employee = is_good_employee\n",
    "    def info(self):\n",
    "        print(f\"У {self.name} зарплата в месяц {self.salary}, {self.on_vacation}, {self.is_good_employee}\")\n",
    "    def __str__(self):\n",
    "        return f\"У {self.name} зарплата в месяц {self.salary},не в отпуске: {'да' if self.on_vacation else 'нет'},хороший работник {'да' if self.is_good_employee else 'нет'}\"\n",
    "employees = [Employee('Данил', 200_000, True), Employee('Никита', 250_000), Employee('Ваня', 150_000), Employee('Ольга', 150_000), Employee('Олег', 150_000,is_good_employee = False)]\n",
    "employees  = [i for i in employees if i.is_good_employee==True]\n",
    "for i in employees:\n",
    "    print(i)"
   ]
  },
  {
   "cell_type": "code",
   "execution_count": 28,
   "metadata": {},
   "outputs": [
    {
     "name": "stdout",
     "output_type": "stream",
     "text": [
      "asd123sdfsdfsd\n"
     ]
    }
   ],
   "source": [
    "a=\"\".join(['asd','123',\"sdfsdfsd\"])\n",
    "print(a)"
   ]
  },
  {
   "cell_type": "code",
   "execution_count": 30,
   "metadata": {},
   "outputs": [],
   "source": [
    "def intro():pass"
   ]
  },
  {
   "cell_type": "code",
   "execution_count": 3,
   "metadata": {},
   "outputs": [
    {
     "name": "stdout",
     "output_type": "stream",
     "text": [
      "y Данил зарплата в месяц 150000\n",
      "Итого в год:1800000\n"
     ]
    }
   ],
   "source": [
    "salary = 150000\n",
    "name = \"Данил\"\n",
    "print(f\"y {name} зарплата в месяц {salary}\") \n",
    "print(f\"Итого в год:{12*salary}\")"
   ]
  }
 ],
 "metadata": {
  "kernelspec": {
   "display_name": "Python 3",
   "language": "python",
   "name": "python3"
  },
  "language_info": {
   "codemirror_mode": {
    "name": "ipython",
    "version": 3
   },
   "file_extension": ".py",
   "mimetype": "text/x-python",
   "name": "python",
   "nbconvert_exporter": "python",
   "pygments_lexer": "ipython3",
   "version": "3.11.1"
  },
  "orig_nbformat": 4
 },
 "nbformat": 4,
 "nbformat_minor": 2
}
