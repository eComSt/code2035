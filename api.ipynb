{
 "cells": [
  {
   "cell_type": "code",
   "execution_count": 2,
   "metadata": {},
   "outputs": [
    {
     "ename": "SyntaxError",
     "evalue": "invalid syntax (1137496597.py, line 8)",
     "output_type": "error",
     "traceback": [
      "\u001b[0;36m  Input \u001b[0;32mIn [2]\u001b[0;36m\u001b[0m\n\u001b[0;31m    def\u001b[0m\n\u001b[0m       ^\u001b[0m\n\u001b[0;31mSyntaxError\u001b[0m\u001b[0;31m:\u001b[0m invalid syntax\n"
     ]
    }
   ],
   "source": [
    "import telebot\n",
    "import threading\n",
    "from tanks import Tank\n",
    "tok = \"5614676987:AAFjB8-KJRp2Gp16lMEk2rasjnnoUWP2qME\"\n",
    "bot = telebot.telebot(tok)\n",
    "tanks_mass = []\n",
    "@bot.message_handler(commands=[\"make\"])\n",
    "def make_message(message):\n",
    "    data = message.text.split()[1:]\n",
    "    if len(data)!=5:bot.send_message(message.chat.id,\"not enaugh params\")\n",
    "    if data[0] not in [i.model for i in tanks_mass]:\n",
    "        try:\n",
    "            tanks_mass.append(Tank(data[0],int(data[1],float(data[2],int(data[3],int(data[4]))))))\n",
    "            tanks_mass[-1].print_info()\n",
    "            bot.send_message(message.chat.id,tanks_mass[-1].mes)\n",
    "            tanks_mass[-1].mes=\"\"\n",
    "        except:\n",
    "            bot.send_message(message.chat.id,\"Construction ERROR\")\n",
    "    else:\n",
    "        bot.send_message(message.chat.id,\"Tank is already on BattleField\")\n",
    "\n",
    "@bot.message_handler(commands=[\"show\"])\n",
    "def show_message(message):\n",
    "    for i in tanks_mass:\n",
    "        i.print_info()\n",
    "        bot.send_message(message.chat.id,i.mes)\n",
    "@bot.message_handler(commands=[\"shot\"])\n",
    "def shot_message(message):\n",
    "    data=message.text.split()[1:]\n",
    "    if len(data)!=2:bot.send_message(message.chat.id,\"not enaugh params\")\n",
    "    try:\n",
    "        for i in tanks_mass:\n",
    "            if i.model==data[0]: t1=i\n",
    "            if i.model==data[1]: t2=i\n",
    "        t1.shot(t2)\n",
    "        bot.send_message(message.chat.id,t1.mes)\n",
    "        bot.send_message(message.chat.id,t2.mes)\n",
    "        "
   ]
  }
 ],
 "metadata": {
  "kernelspec": {
   "display_name": "Python 3",
   "language": "python",
   "name": "python3"
  },
  "language_info": {
   "codemirror_mode": {
    "name": "ipython",
    "version": 3
   },
   "file_extension": ".py",
   "mimetype": "text/x-python",
   "name": "python",
   "nbconvert_exporter": "python",
   "pygments_lexer": "ipython3",
   "version": "3.8.9"
  },
  "orig_nbformat": 4,
  "vscode": {
   "interpreter": {
    "hash": "31f2aee4e71d21fbe5cf8b01ff0e069b9275f58929596ceb00d14d90e3e16cd6"
   }
  }
 },
 "nbformat": 4,
 "nbformat_minor": 2
}
