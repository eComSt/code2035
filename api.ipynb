{
 "cells": [
  {
   "cell_type": "code",
   "execution_count": null,
   "metadata": {},
   "outputs": [],
   "source": [
    "import requests\n",
    "import json\n",
    "\n",
    "url = \"https://swapi.dev/api/\"\n",
    "responce = requests.get(url).json()\n",
    "people_api = responce.get('people')\n",
    "planets_api = responce.get('planets')\n",
    "starships_api = responce.get('starships')\n",
    "def check_people(url):\n",
    "    for i in range(1,6):\n",
    "        responce = requests.get(f\"{url}/{i}\").json()\n",
    "        print(responce)\n",
    "check_people(people_api)\n"
   ]
  },
  {
   "cell_type": "code",
   "execution_count": 32,
   "metadata": {},
   "outputs": [
    {
     "name": "stdout",
     "output_type": "stream",
     "text": [
      "[{'CR90 corvette': '950'}, {'Star Destroyer': '975'}, {'Sentinel-class landing craft': '1000'}, {'Death Star': '0'}, {'Millennium Falcon': '1050'}]\n"
     ]
    }
   ],
   "source": [
    "from requests import *\n",
    "from json import *\n",
    "url = 'https://swapi.dev/api/'\n",
    "responce = get(url).json()\n",
    "people_api = 'https://swapi.dev/api/people/'\n",
    "planets_api = 'https://swapi.dev/api/planets/'\n",
    "starships_api = 'https://swapi.dev/api/starships/'\n",
    "def check_people(url):\n",
    "    for i in range(1, 6):\n",
    "        responce = get(f'{url}/{i}').json()\n",
    "        print(responce)\n",
    "def check_planets(url):\n",
    "    d_list=[]\n",
    "    for i in range(1, 6):\n",
    "        responce = get(f'{url}/{i}').json()\n",
    "        d_list.append({responce.get(\"name\"):responce.get(\"diameter\")})\n",
    "    print(d_list)\n",
    "def check_starhips(url):\n",
    "    j=0\n",
    "    d_list=[]\n",
    "    for i in range(1, 100):\n",
    "        responce = get(f'{url}/{i}').json()\n",
    "        if len(responce)>1:\n",
    "            j+=1\n",
    "            if responce.get(\"max_atmosphering_speed\")!='n/a':\n",
    "                d_list.append({responce.get(\"name\"):responce.get(\"max_atmosphering_speed\")})\n",
    "            else: d_list.append({responce.get(\"name\"):\"0\"})\n",
    "        if  j==5: break\n",
    "    return d_list\n",
    "l =check_starhips(starships_api)\n",
    "print(l)"
   ]
  },
  {
   "cell_type": "code",
   "execution_count": 49,
   "metadata": {},
   "outputs": [
    {
     "name": "stdout",
     "output_type": "stream",
     "text": [
      "['Millennium Falcon', '1050']\n"
     ]
    }
   ],
   "source": [
    "ms=[0,'0']\n",
    "for i in l:\n",
    "    x=list(*i.items())\n",
    "    if int(x[1])>int(ms[1]): ms=x\n",
    "print(ms)"
   ]
  }
 ],
 "metadata": {
  "kernelspec": {
   "display_name": "Python 3",
   "language": "python",
   "name": "python3"
  },
  "language_info": {
   "codemirror_mode": {
    "name": "ipython",
    "version": 3
   },
   "file_extension": ".py",
   "mimetype": "text/x-python",
   "name": "python",
   "nbconvert_exporter": "python",
   "pygments_lexer": "ipython3",
   "version": "3.8.9"
  },
  "orig_nbformat": 4,
  "vscode": {
   "interpreter": {
    "hash": "31f2aee4e71d21fbe5cf8b01ff0e069b9275f58929596ceb00d14d90e3e16cd6"
   }
  }
 },
 "nbformat": 4,
 "nbformat_minor": 2
}
