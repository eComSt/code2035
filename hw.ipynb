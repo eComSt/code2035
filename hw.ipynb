{
 "cells": [
  {
   "cell_type": "code",
   "execution_count": null,
   "metadata": {},
   "outputs": [],
   "source": [
    "class MyFile:\n",
    "    def __init__(self,path,mode,code = \"utf-8\"):\n",
    "        self.path=path\n",
    "        self.mode=mode\n",
    "        self.code=code\n",
    "    def __enter__(self):\n",
    "        self.f = open(self.path,self.mode,encoding= self.code)\n",
    "        return self.f\n",
    "    def __exit__(self,exc_type,exc_val,exc_tb):\n",
    "        self.f.close()\n",
    "\n",
    "with MyFile(\"rt.txt\",\"w\") as f:\n",
    "    f.write(\"hello world\")"
   ]
  },
  {
   "cell_type": "code",
   "execution_count": null,
   "metadata": {},
   "outputs": [],
   "source": [
    "class inf_iter:\n",
    "    def __init__(self):\n",
    "        self.__c = 0\n",
    "    def __iter__(self):\n",
    "        self.__c = 0\n",
    "        return self\n",
    "    def __next__(self):\n",
    "        self.__c+=1\n",
    "        return self.__c\n",
    "\n",
    "for i in inf_iter():\n",
    "    print(i)"
   ]
  }
 ],
 "metadata": {
  "kernelspec": {
   "display_name": "Python 3",
   "language": "python",
   "name": "python3"
  },
  "language_info": {
   "codemirror_mode": {
    "name": "ipython",
    "version": 3
   },
   "file_extension": ".py",
   "mimetype": "text/x-python",
   "name": "python",
   "nbconvert_exporter": "python",
   "pygments_lexer": "ipython3",
   "version": "3.11.1"
  },
  "orig_nbformat": 4
 },
 "nbformat": 4,
 "nbformat_minor": 2
}
