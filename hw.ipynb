{
 "cells": [
  {
   "cell_type": "code",
   "execution_count": 6,
   "metadata": {},
   "outputs": [],
   "source": [
    "numbers = [input(\"Enter number:\") for i in range(10)]\n",
    "numbers = list(map(int, numbers))\n",
    "even_numbers = [i for i in numbers if i%2==0]\n",
    "odd_numbers = [i for i in numbers if i not in even_numbers]\n",
    "# for i in range(10):\n",
    "#     number = int(input(\"Введите число: \"))\n",
    "# if number % 2 == 0:\n",
    "#     even_numbers.append(number)\n",
    "# else:\n",
    "#     odd_numbers.append(number)\n",
    "\n",
    "print(\"Четные числа:\", even_numbers)\n",
    "print(\"Нечетные числа:\", odd_numbers)"
   ]
  }
 ],
 "metadata": {
  "kernelspec": {
   "display_name": "Python 3",
   "language": "python",
   "name": "python3"
  },
  "language_info": {
   "codemirror_mode": {
    "name": "ipython",
    "version": 3
   },
   "file_extension": ".py",
   "mimetype": "text/x-python",
   "name": "python",
   "nbconvert_exporter": "python",
   "pygments_lexer": "ipython3",
   "version": "3.11.1"
  },
  "orig_nbformat": 4,
  "vscode": {
   "interpreter": {
    "hash": "aee8b7b246df8f9039afb4144a1f6fd8d2ca17a180786b69acc140d282b71a49"
   }
  }
 },
 "nbformat": 4,
 "nbformat_minor": 2
}
