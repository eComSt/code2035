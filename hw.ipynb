{
 "cells": [
  {
   "cell_type": "code",
   "execution_count": 6,
   "metadata": {},
   "outputs": [
    {
     "name": "stdout",
     "output_type": "stream",
     "text": [
      "(1 шт.) Австралийский доллар стоит(ят) 54,8070 руб.\n"
     ]
    }
   ],
   "source": [
    "from bs4 import BeautifulSoup\n",
    "import contextlib\n",
    "import requests\n",
    "\n",
    "\n",
    "@contextlib.contextmanager\n",
    "def get_coures(name):\n",
    "    url = \"http://www.cbr.ru/scripts/XML_daily.asp?\"\n",
    "    response = requests.get(url)\n",
    "    xml = BeautifulSoup(response.content, features = 'xml')\n",
    "    currency = xml.find(\"Valute\", ID = name)\n",
    "    try:\n",
    "        c_name = currency.Name.text\n",
    "        c_value = currency.Value.text\n",
    "        c_n = currency.Nominal.text\n",
    "        ans = f\"({c_n} шт.) {c_name} стоит(ят) {c_value} руб.\"\n",
    "    except:\n",
    "        ans = \"Валюты нема\"\n",
    "    yield ans\n",
    "\n",
    "with get_coures(\"R01010\") as valute_get:\n",
    "    print(valute_get)"
   ]
  },
  {
   "cell_type": "code",
   "execution_count": 3,
   "metadata": {},
   "outputs": [
    {
     "name": "stdout",
     "output_type": "stream",
     "text": [
      "(1 шт.) Фунт стерлингов Соединенного королевства стоит(ят) 101.6154 руб.\n"
     ]
    },
    {
     "name": "stderr",
     "output_type": "stream",
     "text": [
      "/Users/pattycha/Library/Python/3.11/lib/python/site-packages/bs4/builder/__init__.py:545: XMLParsedAsHTMLWarning: It looks like you're parsing an XML document using an HTML parser. If this really is an HTML document (maybe it's XHTML?), you can ignore or filter this warning. If it's XML, you should know that using an XML parser will be more reliable. To parse this document as XML, make sure you have the lxml package installed, and pass the keyword argument `features=\"xml\"` into the BeautifulSoup constructor.\n",
      "  warnings.warn(\n"
     ]
    }
   ],
   "source": [
    "import random\n",
    "import requests\n",
    "from bs4 import BeautifulSoup\n",
    "# from datetime import datetime\n",
    "import contextlib\n",
    "url = \"http://www.cbr.ru/scripts/XML_daily.asp?\"\n",
    "# today = datetime.today()\n",
    "# today = today.strftime(\"%d/%m/%Y\")\n",
    "# payload = {\"date_req\": today}\n",
    "response = requests.get(url)\n",
    "xml = BeautifulSoup(response.content, 'lxml')\n",
    "def getCourse(id):\n",
    "    return xml.find(\"valute\", {\"id\": id}).value.text\n",
    "\n",
    "@contextlib.contextmanager\n",
    "def get_coures(name):\n",
    "  try:\n",
    "    ar = get_val(name)\n",
    "    if ar == False: raise\n",
    "    yield f\"({ar[1]} шт.) {ar[0]} стоит(ят) {ar[2]} руб.\"\n",
    "  except:\n",
    "     yield \"Валюты нема\"\n",
    "def get_val(ch):\n",
    "  if ch == \"RUR\": return (\"Российский рубль\",1,1)\n",
    "  if ch not in response.text: return False\n",
    "  a = response.text.split(ch)[1]\n",
    "  a = a.split(\"</Valute>\")[0]\n",
    "  nom = a.split(\"<Nominal>\")[1].split(\"</Nominal>\")[0]\n",
    "  name = a.split(\"<Name>\")[1].split(\"</Name>\")[0]\n",
    "  val = a.split(\"<Value>\")[1].split(\"</Value>\")[0]\n",
    "  val = val.replace(\",\",\".\") \n",
    "  return (name, nom, float(val))\n",
    "  \n",
    "    \n",
    "with get_coures(\"R01035\") as hello:\n",
    "    print(hello)"
   ]
  }
 ],
 "metadata": {
  "kernelspec": {
   "display_name": "Python 3",
   "language": "python",
   "name": "python3"
  },
  "language_info": {
   "codemirror_mode": {
    "name": "ipython",
    "version": 3
   },
   "file_extension": ".py",
   "mimetype": "text/x-python",
   "name": "python",
   "nbconvert_exporter": "python",
   "pygments_lexer": "ipython3",
   "version": "3.11.1"
  },
  "orig_nbformat": 4
 },
 "nbformat": 4,
 "nbformat_minor": 2
}
