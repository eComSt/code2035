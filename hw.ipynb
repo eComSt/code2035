{
 "cells": [
  {
   "cell_type": "code",
   "execution_count": null,
   "metadata": {},
   "outputs": [],
   "source": [
    "\n",
    "from random import randint\n",
    "\n",
    "class User:\n",
    "    def __init__(self,health):\n",
    "        self.health = health\n",
    "        self.damage=randint(1,10)\n",
    "    def atack(self, some_user) -> None: \n",
    "        some_user.health_down(self.damage)\n",
    "    def health_down(self,damage_taken: int) -> None:\n",
    "        self.health-=damage_taken\n",
    "\n",
    "class Mage(User):\n",
    "    def __init__(self, health,mana):\n",
    "        super().__init__(health)\n",
    "        self.mana = mana\n",
    "    def atack(self, some_user) -> None:\n",
    "        if self.mana>0:some_user.health_down(self.damage)\n",
    "    \n",
    "    "
   ]
  }
 ],
 "metadata": {
  "kernelspec": {
   "display_name": "Python 3",
   "language": "python",
   "name": "python3"
  },
  "language_info": {
   "name": "python",
   "version": "3.11.1 (v3.11.1:a7a450f84a, Dec  6 2022, 15:24:06) [Clang 13.0.0 (clang-1300.0.29.30)]"
  },
  "orig_nbformat": 4,
  "vscode": {
   "interpreter": {
    "hash": "aee8b7b246df8f9039afb4144a1f6fd8d2ca17a180786b69acc140d282b71a49"
   }
  }
 },
 "nbformat": 4,
 "nbformat_minor": 2
}
