{
 "cells": [
  {
   "cell_type": "code",
   "execution_count": 4,
   "metadata": {},
   "outputs": [
    {
     "name": "stdout",
     "output_type": "stream",
     "text": [
      "очень жарко\n"
     ]
    }
   ],
   "source": [
    "temp=int(input(\"temperature\"))\n",
    "if temp<=-38:print(\"очень Холодно\")\n",
    "elif temp<=-20:print(\"Холодно\")\n",
    "elif temp<=0:print(\"Прохладно\")\n",
    "else: print(\"очень жарко\")"
   ]
  },
  {
   "cell_type": "code",
   "execution_count": 13,
   "metadata": {},
   "outputs": [
    {
     "name": "stdout",
     "output_type": "stream",
     "text": [
      "Проиграл\n"
     ]
    }
   ],
   "source": [
    "import random as rand \n",
    "print(\"Проиграл\" if int(input(\"Орёл (1) или решка (0)?\\n\")) != rand.randint(0,1) else \"Выиграл\")"
   ]
  }
 ],
 "metadata": {
  "kernelspec": {
   "display_name": "Python 3",
   "language": "python",
   "name": "python3"
  },
  "language_info": {
   "codemirror_mode": {
    "name": "ipython",
    "version": 3
   },
   "file_extension": ".py",
   "mimetype": "text/x-python",
   "name": "python",
   "nbconvert_exporter": "python",
   "pygments_lexer": "ipython3",
   "version": "3.10.8"
  },
  "orig_nbformat": 4,
  "vscode": {
   "interpreter": {
    "hash": "379f48a0a2264dcd18e018f59e5f6957f70a86f867a1be205da3494d0ccba0ca"
   }
  }
 },
 "nbformat": 4,
 "nbformat_minor": 2
}
